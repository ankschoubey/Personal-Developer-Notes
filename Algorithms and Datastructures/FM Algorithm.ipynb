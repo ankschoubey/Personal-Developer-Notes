{
 "cells": [
  {
   "cell_type": "markdown",
   "metadata": {},
   "source": [
    "sources:\n",
    "- http://ravi-bhide.blogspot.in/2011/04/flajolet-martin-algorithm.html\n",
    "- https://www.quora.com/What-is-the-intuition-behind-the-Flajolet-Martin-algorithm"
   ]
  },
  {
   "cell_type": "code",
   "execution_count": 40,
   "metadata": {},
   "outputs": [
    {
     "data": {
      "image/jpeg": "[encoded data removed]",
      "text/html": [
       "\n",
       "        <iframe\n",
       "            width=\"400\"\n",
       "            height=\"300\"\n",
       "            src=\"https://www.youtube.com/embed/TG48mumSIaw\"\n",
       "            frameborder=\"0\"\n",
       "            allowfullscreen\n",
       "        ></iframe>\n",
       "        "
      ],
      "text/plain": [
       "<IPython.lib.display.YouTubeVideo at 0x107938470>"
      ]
     },
     "execution_count": 40,
     "metadata": {},
     "output_type": "execute_result"
    }
   ],
   "source": [
    "from IPython.lib.display import YouTubeVideo\n",
    "YouTubeVideo('TG48mumSIaw')"
   ]
  },
  {
   "cell_type": "markdown",
   "metadata": {},
   "source": [
    "The important property of a hash function is that when applied to the same element, it always produces the same result. \n",
    "\n",
    "## Intuition\n",
    "\n",
    "If we had a good, random hash function that acted on strings and generated integers, what can we say about the generated integers? Since they are random themselves, we would expect:\n",
    "\n",
    "If we had a **good, random hash function that acted on strings and generated integers**, what can we say about the generated integers? Since they are random themselves, we would expect:\n",
    "- 1/2 of them to have their binary representation end in 0 (i.e. divisible by 2),\n",
    "- 1/4 of them to have their binary representation end in 00 (i.e. divisible by 4)\n",
    "- 1/8 of them to have their binary representation end in 000 (i.e. divisible by 8)\n",
    "-  and in general, 1/2^n of them to have their binary representation end in 0n.\n",
    "\n",
    "Turning the problem around, if the hash function generated an integer ending in 0^m bits (and it also generated integers ending in 0^m−1 bits, 0^m−2 bits, ..., 0^1 bits), intuitively, the number of unique strings is around 2^m.\n",
    "\n",
    "To facilitate the above, this algorithm maintains 1 bit for each 0i seen - i.e. 1 bit for 0, another for 00, another for 000, and so on. The output of the algorithm is based on the maximum of consecutive 0^i seen."
   ]
  },
  {
   "cell_type": "code",
   "execution_count": 50,
   "metadata": {},
   "outputs": [],
   "source": [
    "elements = [1,3,2,1,2,3,4,3,1,1,2,3,1]\n",
    "\n",
    "def hash_f(x):\n",
    "    return (6*x+1)%5\n",
    "\n",
    "def trailing_0_binary(x):\n",
    "    a = bin(x).split('b')[1]\n",
    "    count = 0\n",
    "\n",
    "    for i in a[::-1]:\n",
    "        if i == '0':\n",
    "            count+=1\n",
    "        else:\n",
    "            break\n",
    "    if count == len(a):\n",
    "        count = 0\n",
    "    return count"
   ]
  },
  {
   "cell_type": "code",
   "execution_count": 45,
   "metadata": {},
   "outputs": [
    {
     "name": "stdout",
     "output_type": "stream",
     "text": [
      "1\t2\t0\t0b1\n",
      "3\t4\t0\t0b11\n",
      "2\t3\t1\t0b10\n",
      "1\t2\t0\t0b1\n",
      "2\t3\t1\t0b10\n",
      "3\t4\t0\t0b11\n",
      "4\t0\t2\t0b100\n",
      "3\t4\t0\t0b11\n",
      "1\t2\t0\t0b1\n",
      "1\t2\t0\t0b1\n",
      "2\t3\t1\t0b10\n",
      "3\t4\t0\t0b11\n",
      "1\t2\t0\t0b1\n"
     ]
    }
   ],
   "source": [
    "maximum = 0\n",
    "for i in elements:\n",
    "    zeros = trailing_0_binary(i)\n",
    "    print(i, hash_f(i),zeros,bin(i),sep='\\t')\n",
    "    if maximum < zeros:\n",
    "        maximum = zeros"
   ]
  },
  {
   "cell_type": "code",
   "execution_count": 46,
   "metadata": {},
   "outputs": [
    {
     "data": {
      "text/plain": [
       "4"
      ]
     },
     "execution_count": 46,
     "metadata": {},
     "output_type": "execute_result"
    }
   ],
   "source": [
    "distinct_elements = 2 ** maximum\n",
    "distinct_elements"
   ]
  },
  {
   "cell_type": "code",
   "execution_count": 47,
   "metadata": {},
   "outputs": [
    {
     "data": {
      "text/plain": [
       "4"
      ]
     },
     "execution_count": 47,
     "metadata": {},
     "output_type": "execute_result"
    }
   ],
   "source": [
    "distinct_elements_normal = len(set(elements))\n",
    "distinct_elements_normal"
   ]
  },
  {
   "cell_type": "markdown",
   "metadata": {},
   "source": [
    "# To improve accuracy of this approximation algorithm, we do the following:\n",
    "\n",
    "\n",
    "- (Averaging) Use multiple hash functions and use the average R instead.\n",
    "- (Bucketing) Averages are susceptible to large fluctuations. So use multiple buckets of hash functions from the above step and use the median of the average R. This gives fairly good accuracy.\n",
    "- Overall accuracy of this algorithm can be tuned by using appropriate number of hash functions in the averaging and bucketing steps. Of course, if more accuracy is desired, more hash functions need to be used, which implies higher computation cost."
   ]
  },
  {
   "cell_type": "code",
   "execution_count": 52,
   "metadata": {},
   "outputs": [
    {
     "name": "stdout",
     "output_type": "stream",
     "text": [
      "0 0b0 0\n",
      "1 0b1 0\n",
      "2 0b10 1\n",
      "3 0b11 0\n",
      "4 0b100 2\n",
      "5 0b101 0\n",
      "6 0b110 1\n",
      "7 0b111 0\n",
      "8 0b1000 3\n",
      "9 0b1001 0\n"
     ]
    }
   ],
   "source": [
    "for i in range(10):\n",
    "    print(i, bin(i), trailing_0_binary(i))"
   ]
  },
  {
   "cell_type": "code",
   "execution_count": null,
   "metadata": {},
   "outputs": [],
   "source": []
  },
  {
   "cell_type": "code",
   "execution_count": null,
   "metadata": {},
   "outputs": [],
   "source": []
  }
 ],
 "metadata": {
  "kernelspec": {
   "display_name": "Python 3",
   "language": "python",
   "name": "python3"
  },
  "language_info": {
   "codemirror_mode": {
    "name": "ipython",
    "version": 3
   },
   "file_extension": ".py",
   "mimetype": "text/x-python",
   "name": "python",
   "nbconvert_exporter": "python",
   "pygments_lexer": "ipython3",
   "version": "3.6.4"
  }
 },
 "nbformat": 4,
 "nbformat_minor": 2
}
