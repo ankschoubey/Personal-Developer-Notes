{
 "cells": [
  {
   "cell_type": "markdown",
   "metadata": {},
   "source": [
    "TLDR 31st March 2017: Turned out to be a pretty bad auto-encoder #DeepLearningNoob\n",
    "\n",
    "# Fetch Data"
   ]
  },
  {
   "cell_type": "code",
   "execution_count": 39,
   "metadata": {},
   "outputs": [],
   "source": [
    "from sklearn.datasets.mldata import fetch_mldata"
   ]
  },
  {
   "cell_type": "code",
   "execution_count": 144,
   "metadata": {},
   "outputs": [
    {
     "data": {
      "text/plain": [
       "{'COL_NAMES': ['label', 'data'],\n",
       " 'DESCR': 'mldata.org dataset: mnist-original',\n",
       " 'data': array([[0, 0, 0, ..., 0, 0, 0],\n",
       "        [0, 0, 0, ..., 0, 0, 0],\n",
       "        [0, 0, 0, ..., 0, 0, 0],\n",
       "        ...,\n",
       "        [0, 0, 0, ..., 0, 0, 0],\n",
       "        [0, 0, 0, ..., 0, 0, 0],\n",
       "        [0, 0, 0, ..., 0, 0, 0]], dtype=uint8),\n",
       " 'target': array([0., 0., 0., ..., 9., 9., 9.])}"
      ]
     },
     "execution_count": 144,
     "metadata": {},
     "output_type": "execute_result"
    }
   ],
   "source": [
    "mnist= fetch_mldata('mnist-original', data_home='/Users/ankushchoubey/Desktop/')\n",
    "mnist.data.shape\n",
    "mnist.data[-1]\n",
    "mnist.target[-1]\n",
    "mnist"
   ]
  },
  {
   "cell_type": "code",
   "execution_count": 41,
   "metadata": {},
   "outputs": [],
   "source": [
    "list_of_points = mnist.data[1]"
   ]
  },
  {
   "cell_type": "markdown",
   "metadata": {},
   "source": [
    "# Visualize Image"
   ]
  },
  {
   "cell_type": "code",
   "execution_count": null,
   "metadata": {},
   "outputs": [],
   "source": [
    "from PIL import Image"
   ]
  },
  {
   "cell_type": "code",
   "execution_count": 138,
   "metadata": {},
   "outputs": [],
   "source": [
    "def visualize_data(point):\n",
    "    image = Image.new('I', (28,28))\n",
    "    image.putdata(point)\n",
    "    return image"
   ]
  },
  {
   "cell_type": "code",
   "execution_count": 44,
   "metadata": {},
   "outputs": [],
   "source": [
    "visualize_data(list_of_points).show()"
   ]
  },
  {
   "cell_type": "markdown",
   "metadata": {},
   "source": [
    "# Build a NN"
   ]
  },
  {
   "cell_type": "code",
   "execution_count": 200,
   "metadata": {},
   "outputs": [],
   "source": [
    "from keras.models import Sequential\n",
    "auto_encoder = Sequential()"
   ]
  },
  {
   "cell_type": "code",
   "execution_count": 201,
   "metadata": {},
   "outputs": [],
   "source": [
    "from keras.layers import Dense\n",
    "\n",
    "# 3 Layers with dimensions of input matching dimensions of output and middle layer to be smaller"
   ]
  },
  {
   "cell_type": "code",
   "execution_count": 202,
   "metadata": {},
   "outputs": [],
   "source": [
    "auto_encoder.add(Dense(300, input_dim=784, activation='relu'))\n",
    "#auto_encoder.add(Dense(300, activation='sigmoid'))\n",
    "auto_encoder.add(Dense(784, activation='relu'))"
   ]
  },
  {
   "cell_type": "markdown",
   "metadata": {},
   "source": [
    "# NN Visualization"
   ]
  },
  {
   "cell_type": "code",
   "execution_count": 203,
   "metadata": {},
   "outputs": [
    {
     "data": {
      "image/svg+xml": [
       "<svg height=\"232pt\" viewBox=\"0.00 0.00 321.55 231.80\" width=\"322pt\" xmlns=\"http://www.w3.org/2000/svg\" xmlns:xlink=\"http://www.w3.org/1999/xlink\">\n",
       "<g class=\"graph\" id=\"graph0\" transform=\"scale(1 1) rotate(0) translate(4 227.8)\">\n",
       "<title>G</title>\n",
       "<polygon fill=\"#ffffff\" points=\"-4,4 -4,-227.8 317.5534,-227.8 317.5534,4 -4,4\" stroke=\"transparent\"/>\n",
       "<!-- 112089477920 -->\n",
       "<g class=\"node\" id=\"node1\">\n",
       "<title>112089477920</title>\n",
       "<polygon fill=\"none\" points=\"0,-173.7 0,-223.3 313.5534,-223.3 313.5534,-173.7 0,-173.7\" stroke=\"#000000\"/>\n",
       "<text fill=\"#000000\" font-family=\"Times,serif\" font-size=\"14.00\" text-anchor=\"middle\" x=\"87.1196\" y=\"-194.3\">dense_17_input: InputLayer</text>\n",
       "<polyline fill=\"none\" points=\"174.2392,-173.7 174.2392,-223.3 \" stroke=\"#000000\"/>\n",
       "<text fill=\"#000000\" font-family=\"Times,serif\" font-size=\"14.00\" text-anchor=\"middle\" x=\"202.0751\" y=\"-206.7\">input:</text>\n",
       "<polyline fill=\"none\" points=\"174.2392,-198.5 229.911,-198.5 \" stroke=\"#000000\"/>\n",
       "<text fill=\"#000000\" font-family=\"Times,serif\" font-size=\"14.00\" text-anchor=\"middle\" x=\"202.0751\" y=\"-181.9\">output:</text>\n",
       "<polyline fill=\"none\" points=\"229.911,-173.7 229.911,-223.3 \" stroke=\"#000000\"/>\n",
       "<text fill=\"#000000\" font-family=\"Times,serif\" font-size=\"14.00\" text-anchor=\"middle\" x=\"271.7322\" y=\"-206.7\">(None, 784)</text>\n",
       "<polyline fill=\"none\" points=\"229.911,-198.5 313.5534,-198.5 \" stroke=\"#000000\"/>\n",
       "<text fill=\"#000000\" font-family=\"Times,serif\" font-size=\"14.00\" text-anchor=\"middle\" x=\"271.7322\" y=\"-181.9\">(None, 784)</text>\n",
       "</g>\n",
       "<!-- 112089478872 -->\n",
       "<g class=\"node\" id=\"node2\">\n",
       "<title>112089478872</title>\n",
       "<polygon fill=\"none\" points=\"31.4972,-87.1 31.4972,-136.7 282.0562,-136.7 282.0562,-87.1 31.4972,-87.1\" stroke=\"#000000\"/>\n",
       "<text fill=\"#000000\" font-family=\"Times,serif\" font-size=\"14.00\" text-anchor=\"middle\" x=\"87.1196\" y=\"-107.7\">dense_17: Dense</text>\n",
       "<polyline fill=\"none\" points=\"142.742,-87.1 142.742,-136.7 \" stroke=\"#000000\"/>\n",
       "<text fill=\"#000000\" font-family=\"Times,serif\" font-size=\"14.00\" text-anchor=\"middle\" x=\"170.5779\" y=\"-120.1\">input:</text>\n",
       "<polyline fill=\"none\" points=\"142.742,-111.9 198.4138,-111.9 \" stroke=\"#000000\"/>\n",
       "<text fill=\"#000000\" font-family=\"Times,serif\" font-size=\"14.00\" text-anchor=\"middle\" x=\"170.5779\" y=\"-95.3\">output:</text>\n",
       "<polyline fill=\"none\" points=\"198.4138,-87.1 198.4138,-136.7 \" stroke=\"#000000\"/>\n",
       "<text fill=\"#000000\" font-family=\"Times,serif\" font-size=\"14.00\" text-anchor=\"middle\" x=\"240.235\" y=\"-120.1\">(None, 784)</text>\n",
       "<polyline fill=\"none\" points=\"198.4138,-111.9 282.0562,-111.9 \" stroke=\"#000000\"/>\n",
       "<text fill=\"#000000\" font-family=\"Times,serif\" font-size=\"14.00\" text-anchor=\"middle\" x=\"240.235\" y=\"-95.3\">(None, 300)</text>\n",
       "</g>\n",
       "<!-- 112089477920&#45;&gt;112089478872 -->\n",
       "<g class=\"edge\" id=\"edge1\">\n",
       "<title>112089477920-&gt;112089478872</title>\n",
       "<path d=\"M156.7767,-173.4517C156.7767,-165.1937 156.7767,-155.8517 156.7767,-146.9864\" fill=\"none\" stroke=\"#000000\"/>\n",
       "<polygon fill=\"#000000\" points=\"160.2768,-146.892 156.7767,-136.892 153.2768,-146.892 160.2768,-146.892\" stroke=\"#000000\"/>\n",
       "</g>\n",
       "<!-- 112089478200 -->\n",
       "<g class=\"node\" id=\"node3\">\n",
       "<title>112089478200</title>\n",
       "<polygon fill=\"none\" points=\"31.4972,-.5 31.4972,-50.1 282.0562,-50.1 282.0562,-.5 31.4972,-.5\" stroke=\"#000000\"/>\n",
       "<text fill=\"#000000\" font-family=\"Times,serif\" font-size=\"14.00\" text-anchor=\"middle\" x=\"87.1196\" y=\"-21.1\">dense_18: Dense</text>\n",
       "<polyline fill=\"none\" points=\"142.742,-.5 142.742,-50.1 \" stroke=\"#000000\"/>\n",
       "<text fill=\"#000000\" font-family=\"Times,serif\" font-size=\"14.00\" text-anchor=\"middle\" x=\"170.5779\" y=\"-33.5\">input:</text>\n",
       "<polyline fill=\"none\" points=\"142.742,-25.3 198.4138,-25.3 \" stroke=\"#000000\"/>\n",
       "<text fill=\"#000000\" font-family=\"Times,serif\" font-size=\"14.00\" text-anchor=\"middle\" x=\"170.5779\" y=\"-8.7\">output:</text>\n",
       "<polyline fill=\"none\" points=\"198.4138,-.5 198.4138,-50.1 \" stroke=\"#000000\"/>\n",
       "<text fill=\"#000000\" font-family=\"Times,serif\" font-size=\"14.00\" text-anchor=\"middle\" x=\"240.235\" y=\"-33.5\">(None, 300)</text>\n",
       "<polyline fill=\"none\" points=\"198.4138,-25.3 282.0562,-25.3 \" stroke=\"#000000\"/>\n",
       "<text fill=\"#000000\" font-family=\"Times,serif\" font-size=\"14.00\" text-anchor=\"middle\" x=\"240.235\" y=\"-8.7\">(None, 784)</text>\n",
       "</g>\n",
       "<!-- 112089478872&#45;&gt;112089478200 -->\n",
       "<g class=\"edge\" id=\"edge2\">\n",
       "<title>112089478872-&gt;112089478200</title>\n",
       "<path d=\"M156.7767,-86.8517C156.7767,-78.5937 156.7767,-69.2517 156.7767,-60.3864\" fill=\"none\" stroke=\"#000000\"/>\n",
       "<polygon fill=\"#000000\" points=\"160.2768,-60.292 156.7767,-50.292 153.2768,-60.292 160.2768,-60.292\" stroke=\"#000000\"/>\n",
       "</g>\n",
       "</g>\n",
       "</svg>"
      ],
      "text/plain": [
       "<IPython.core.display.SVG object>"
      ]
     },
     "execution_count": 203,
     "metadata": {},
     "output_type": "execute_result"
    }
   ],
   "source": [
    "from IPython.display import SVG\n",
    "from keras.utils.vis_utils import model_to_dot\n",
    "\n",
    "SVG(model_to_dot(auto_encoder,show_shapes=True).create(prog='dot', format='svg'))"
   ]
  },
  {
   "cell_type": "code",
   "execution_count": 204,
   "metadata": {},
   "outputs": [],
   "source": [
    "auto_encoder.compile(loss='binary_crossentropy' , optimizer='adam', metrics=['accuracy'])"
   ]
  },
  {
   "cell_type": "code",
   "execution_count": 163,
   "metadata": {},
   "outputs": [],
   "source": [
    "data = mnist.data"
   ]
  },
  {
   "cell_type": "markdown",
   "metadata": {},
   "source": [
    "# Train Test Split"
   ]
  },
  {
   "cell_type": "code",
   "execution_count": 210,
   "metadata": {},
   "outputs": [],
   "source": [
    "from sklearn.model_selection import train_test_split\n",
    "\n",
    "X_train, X_test, y_train, y_test = train_test_split(data, data, test_size=0.1, random_state=42)"
   ]
  },
  {
   "cell_type": "code",
   "execution_count": 217,
   "metadata": {
    "scrolled": true
   },
   "outputs": [
    {
     "name": "stdout",
     "output_type": "stream",
     "text": [
      "Epoch 1/5\n",
      "  360/63000 [..............................] - ETA: 29s - loss: -123.6714 - acc: 0.6588"
     ]
    },
    {
     "name": "stderr",
     "output_type": "stream",
     "text": [
      "/anaconda3/envs/data_science/lib/python3.6/site-packages/keras/models.py:942: UserWarning: The `nb_epoch` argument in `fit` has been renamed `epochs`.\n",
      "  warnings.warn('The `nb_epoch` argument in `fit` '\n"
     ]
    },
    {
     "name": "stdout",
     "output_type": "stream",
     "text": [
      "63000/63000 [==============================] - 26s 416us/step - loss: -127.2292 - acc: 0.6554\n",
      "Epoch 2/5\n",
      "63000/63000 [==============================] - 26s 416us/step - loss: -127.2292 - acc: 0.6554\n",
      "Epoch 3/5\n",
      "63000/63000 [==============================] - 26s 415us/step - loss: -127.2292 - acc: 0.6554\n",
      "Epoch 4/5\n",
      "63000/63000 [==============================] - 26s 417us/step - loss: -127.2292 - acc: 0.6554\n",
      "Epoch 5/5\n",
      "63000/63000 [==============================] - 26s 418us/step - loss: -127.2292 - acc: 0.6554\n"
     ]
    },
    {
     "data": {
      "text/plain": [
       "<keras.callbacks.History at 0x1a2987d668>"
      ]
     },
     "execution_count": 217,
     "metadata": {},
     "output_type": "execute_result"
    }
   ],
   "source": [
    "auto_encoder.fit(X_train, X_train, nb_epoch=5, batch_size=10)"
   ]
  },
  {
   "cell_type": "code",
   "execution_count": 206,
   "metadata": {},
   "outputs": [
    {
     "name": "stdout",
     "output_type": "stream",
     "text": [
      "9.0\n"
     ]
    }
   ],
   "source": [
    "index = -5\n",
    "target = mnist.target[index]\n",
    "print(target)\n",
    "data1 = np.array(data[index])\n",
    "visualize_data(data1).show()"
   ]
  },
  {
   "cell_type": "code",
   "execution_count": 83,
   "metadata": {},
   "outputs": [
    {
     "data": {
      "text/plain": [
       "numpy.ndarray"
      ]
     },
     "execution_count": 83,
     "metadata": {},
     "output_type": "execute_result"
    }
   ],
   "source": [
    "import numpy as np\n",
    "type(data)"
   ]
  },
  {
   "cell_type": "markdown",
   "metadata": {},
   "source": [
    "# Predict"
   ]
  },
  {
   "cell_type": "code",
   "execution_count": 218,
   "metadata": {},
   "outputs": [
    {
     "data": {
      "text/plain": [
       "array([   0.     ,    0.     ,    0.     ,    0.     ,    0.     ,\n",
       "          0.     ,    0.     ,    0.     ,    0.     ,    0.     ,\n",
       "          0.     ,    0.     ,    0.     ,    0.     ,    0.     ,\n",
       "          0.     ,    0.     ,    0.     ,    0.     ,    0.     ,\n",
       "          0.     ,    0.     ,    0.     ,    0.     ,    0.     ,\n",
       "          0.     ,    0.     ,    0.     ,    0.     ,    0.     ,\n",
       "          0.     ,    0.     ,    0.     ,    0.     ,    0.     ,\n",
       "          0.     ,    0.     ,    0.     ,    0.     ,    0.     ,\n",
       "          0.     ,    0.     ,    0.     ,    0.     ,    0.     ,\n",
       "          0.     ,    0.     ,    0.     ,    0.     ,    0.     ,\n",
       "          0.     ,    0.     ,    0.     ,    0.     ,    0.     ,\n",
       "          0.     ,    0.     ,    0.     ,    0.     ,    0.     ,\n",
       "          0.     ,    0.     ,    0.     ,    0.     ,    0.     ,\n",
       "          0.     ,    0.     ,    0.     , 1411.5414 ,    0.     ,\n",
       "          0.     ,    0.     ,  423.37775,    0.     ,    0.     ,\n",
       "          0.     ,    0.     ,    0.     ,    0.     ,    0.     ,\n",
       "          0.     ,    0.     ,    0.     ,    0.     ,    0.     ,\n",
       "          0.     ,    0.     ,    0.     ,    0.     ,    0.     ,\n",
       "          0.     ,    0.     , 1031.7363 ,    0.     ,    0.     ,\n",
       "          0.     ,    0.     ,    0.     ,    0.     ,    0.     ,\n",
       "       2107.737  ,    0.     ,    0.     ,    0.     ,    0.     ,\n",
       "          0.     ,    0.     ,    0.     ,    0.     ,    0.     ,\n",
       "          0.     ,    0.     ,    0.     ,    0.     ,    0.     ,\n",
       "          0.     ,    0.     ,    0.     ,    0.     ,    0.     ,\n",
       "       1483.9987 ,    0.     , 1922.3396 ,    0.     ,  973.56024,\n",
       "          0.     , 2457.857  ,    0.     ,    0.     , 1207.891  ,\n",
       "       1325.0927 ,    0.     ,    0.     ,    0.     ,    0.     ,\n",
       "          0.     ,    0.     ,    0.     ,    0.     ,    0.     ,\n",
       "          0.     ,    0.     ,    0.     ,    0.     ,    0.     ,\n",
       "          0.     ,    0.     ,    0.     ,    0.     ,    0.     ,\n",
       "       1532.5292 ,    0.     ,    0.     ,  910.8247 , 1070.2291 ,\n",
       "          0.     ,    0.     ,  890.72217, 1463.1459 ,    0.     ,\n",
       "          0.     ,    0.     , 2938.9248 ,    0.     ,    0.     ,\n",
       "          0.     ,    0.     ,    0.     ,    0.     ,    0.     ,\n",
       "          0.     ,    0.     ,    0.     ,    0.     ,    0.     ,\n",
       "          0.     ,  966.5478 ,    0.     , 1696.8911 ,  728.0818 ,\n",
       "       3043.0273 ,    0.     ,    0.     ,  860.41077, 1265.5085 ,\n",
       "       2232.8398 , 1039.9113 ,    0.     ,    0.     ,    0.     ,\n",
       "        910.9597 ,    0.     ,    0.     ,    0.     ,    0.     ,\n",
       "          0.     ,    0.     ,    0.     ,    0.     ,    0.     ,\n",
       "          0.     ,    0.     , 1012.0546 ,    0.     ,    0.     ,\n",
       "          0.     ,    0.     ,  842.2641 ,    0.     ,    0.     ,\n",
       "       1456.2158 , 1968.3209 , 2507.4397 ,  786.4012 ,  907.8866 ,\n",
       "          0.     , 1926.0627 ,    0.     ,    0.     , 2461.2668 ,\n",
       "          0.     ,    0.     ,    0.     ,    0.     ,    0.     ,\n",
       "          0.     ,    0.     ,    0.     ,    0.     ,    0.     ,\n",
       "       1173.5227 ,  626.24054, 2229.8547 ,    0.     ,    0.     ,\n",
       "       1333.744  , 1283.249  , 1631.3617 ,    0.     , 1421.0369 ,\n",
       "       1924.484  ,  819.9374 , 1002.5066 , 1155.2263 , 1488.1263 ,\n",
       "          0.     ,    0.     ,    0.     ,    0.     ,    0.     ,\n",
       "          0.     ,    0.     ,    0.     ,    0.     ,    0.     ,\n",
       "          0.     ,    0.     , 3131.7798 ,    0.     ,    0.     ,\n",
       "       1201.4408 , 1821.1241 , 2037.4269 , 3222.2917 ,  671.8092 ,\n",
       "        653.82983, 1922.2623 , 2593.3389 , 1458.7739 , 3487.4966 ,\n",
       "          0.     ,  622.92096, 1444.0352 ,    0.     ,    0.     ,\n",
       "          0.     ,    0.     ,    0.     ,    0.     ,    0.     ,\n",
       "          0.     ,    0.     ,    0.     ,    0.     ,    0.     ,\n",
       "          0.     ,    0.     , 1150.0989 , 3269.1948 ,    0.     ,\n",
       "       2390.2817 , 1257.5394 , 1158.3231 , 2266.9094 , 2755.1597 ,\n",
       "          0.     ,  577.0231 ,    0.     ,    0.     ,    0.     ,\n",
       "          0.     ,    0.     ,    0.     , 2276.7246 ,    0.     ,\n",
       "          0.     ,    0.     ,    0.     ,    0.     ,    0.     ,\n",
       "          0.     ,    0.     ,    0.     ,    0.     ,    0.     ,\n",
       "          0.     , 1571.9241 ,    0.     , 2525.6304 ,    0.     ,\n",
       "        989.06006, 2176.7615 , 1560.4187 ,    0.     ,    0.     ,\n",
       "          0.     ,    0.     ,    0.     , 2528.2048 ,    0.     ,\n",
       "       1358.5596 ,    0.     ,    0.     ,    0.     ,    0.     ,\n",
       "          0.     ,    0.     ,    0.     ,    0.     ,    0.     ,\n",
       "          0.     ,    0.     ,    0.     ,    0.     , 1985.276  ,\n",
       "          0.     , 1023.50183,  725.4575 ,    0.     ,  812.8445 ,\n",
       "       2281.6394 ,    0.     ,    0.     ,    0.     ,  701.75244,\n",
       "       1161.0599 , 1315.1501 ,    0.     , 1463.0792 , 1802.4888 ,\n",
       "          0.     , 2010.3551 ,    0.     ,    0.     ,    0.     ,\n",
       "          0.     ,    0.     ,    0.     ,    0.     ,    0.     ,\n",
       "          0.     ,    0.     ,    0.     , 1973.1737 , 3183.4568 ,\n",
       "       1539.1268 , 1941.066  , 1528.8948 , 2182.3284 , 2664.584  ,\n",
       "          0.     ,  472.71985, 1171.0621 ,  674.56256,    0.     ,\n",
       "          0.     ,    0.     ,    0.     ,    0.     ,    0.     ,\n",
       "          0.     ,    0.     ,    0.     ,    0.     ,    0.     ,\n",
       "        548.4279 ,    0.     ,    0.     ,    0.     , 3278.9788 ,\n",
       "       1634.7192 ,    0.     , 2222.9275 , 1667.5663 ,    0.     ,\n",
       "       1642.7694 , 3252.2305 , 2138.534  , 1352.147  , 1972.99   ,\n",
       "          0.     , 1207.2805 ,    0.     , 1192.9326 ,    0.     ,\n",
       "          0.     ,    0.     ,    0.     ,    0.     ,    0.     ,\n",
       "          0.     ,    0.     ,    0.     ,    0.     ,    0.     ,\n",
       "          0.     ,    0.     ,    0.     , 1656.7224 , 2359.9595 ,\n",
       "       1407.8701 , 1477.1877 , 2567.4553 ,  807.7225 , 2000.2644 ,\n",
       "       3008.74   ,    0.     ,    0.     , 1569.0204 ,  922.85596,\n",
       "       1080.4805 ,    0.     ,    0.     , 1674.9327 ,    0.     ,\n",
       "          0.     ,    0.     ,    0.     ,    0.     ,    0.     ,\n",
       "          0.     ,    0.     ,    0.     ,    0.     , 1752.1847 ,\n",
       "       1293.4088 , 1083.3383 ,  323.7888 ,    0.     ,    0.     ,\n",
       "          0.     , 1261.566  , 3077.034  , 3346.4968 , 1139.3605 ,\n",
       "       3010.3926 ,    0.     ,    0.     ,  803.71375,  955.6482 ,\n",
       "          0.     ,    0.     ,    0.     ,    0.     ,    0.     ,\n",
       "          0.     ,    0.     ,    0.     ,    0.     ,    0.     ,\n",
       "          0.     ,    0.     ,    0.     ,    0.     ,    0.     ,\n",
       "       2752.3052 ,    0.     ,  420.84067,  874.9201 , 1376.5919 ,\n",
       "       1955.3309 , 2245.648  , 1208.8844 ,  608.3157 ,  695.22833,\n",
       "          0.     , 1198.6912 ,    0.     , 1302.6353 ,    0.     ,\n",
       "          0.     ,    0.     ,    0.     ,    0.     ,    0.     ,\n",
       "          0.     ,    0.     ,    0.     ,    0.     ,    0.     ,\n",
       "       2079.0427 ,    0.     , 1843.8387 , 1184.5247 , 2166.9827 ,\n",
       "        836.65857,  817.30536, 1278.7949 , 2149.7822 ,    0.     ,\n",
       "          0.     ,    0.     , 1305.9294 ,    0.     , 3063.3027 ,\n",
       "       1615.5558 ,    0.     ,    0.     ,    0.     ,    0.     ,\n",
       "          0.     ,    0.     ,    0.     ,    0.     ,    0.     ,\n",
       "          0.     , 2075.1404 ,    0.     ,  964.9179 , 1695.6558 ,\n",
       "          0.     ,    0.     , 2819.0632 , 2362.391  , 1130.8503 ,\n",
       "       1660.6099 ,    0.     , 2598.6619 , 1262.2074 , 1932.0391 ,\n",
       "          0.     , 1826.5221 , 1061.1655 ,    0.     ,    0.     ,\n",
       "          0.     ,    0.     ,    0.     ,    0.     ,    0.     ,\n",
       "          0.     ,    0.     ,    0.     ,    0.     ,    0.     ,\n",
       "       3026.33   , 1565.7908 ,    0.     ,    0.     ,    0.     ,\n",
       "          0.     ,    0.     ,    0.     , 1568.0643 , 1917.9071 ,\n",
       "       2290.3074 , 1812.327  ,    0.     , 2262.4836 ,  938.2935 ,\n",
       "        801.4338 ,    0.     ,    0.     ,    0.     ,    0.     ,\n",
       "          0.     ,    0.     ,    0.     ,    0.     ,    0.     ,\n",
       "          0.     ,    0.     ,    0.     ,    0.     ,    0.     ,\n",
       "       1874.0745 , 2430.2366 , 2963.183  , 1819.7513 , 1880.5493 ,\n",
       "       2027.1729 , 1262.4304 , 1237.9872 , 1605.9985 , 2190.295  ,\n",
       "          0.     ,    0.     , 2174.2974 ,    0.     , 3106.7805 ,\n",
       "          0.     ,  485.9533 ,    0.     ,    0.     ,    0.     ,\n",
       "          0.     ,    0.     ,    0.     ,    0.     ,    0.     ,\n",
       "          0.     ,    0.     ,    0.     , 1325.7607 ,    0.     ,\n",
       "       3225.7527 ,  784.6434 , 2190.1887 ,    0.     ,    0.     ,\n",
       "       1817.7068 , 1138.448  , 2832.5076 , 2433.6106 , 3421.6526 ,\n",
       "          0.     ,  932.0793 ,    0.     ,    0.     ,    0.     ,\n",
       "          0.     ,    0.     ,    0.     ,    0.     ,    0.     ,\n",
       "          0.     ,    0.     ,    0.     ,    0.     ,    0.     ,\n",
       "          0.     ,    0.     , 1390.6749 , 1582.437  , 2157.2058 ,\n",
       "       1415.635  ,  652.5182 , 2550.837  ,    0.     , 1917.3623 ,\n",
       "       1271.8876 , 1710.1204 ,    0.     ,    0.     ,    0.     ,\n",
       "          0.     ,    0.     ,    0.     ,    0.     ,    0.     ,\n",
       "          0.     ,    0.     ,    0.     ,    0.     ,    0.     ,\n",
       "          0.     ,    0.     ,    0.     ,    0.     ,  521.6292 ,\n",
       "          0.     ,    0.     ,    0.     ,    0.     ,    0.     ,\n",
       "       3210.983  ,    0.     ,    0.     , 1242.9945 ,    0.     ,\n",
       "       1000.6758 ,    0.     ,    0.     ,    0.     ,    0.     ,\n",
       "          0.     ,    0.     ,    0.     ,    0.     ,    0.     ,\n",
       "          0.     ,    0.     ,    0.     ,    0.     ,    0.     ,\n",
       "          0.     ,    0.     ,    0.     ,    0.     ,    0.     ,\n",
       "          0.     ,    0.     ,    0.     ,    0.     ,    0.     ,\n",
       "          0.     ,    0.     ,    0.     ,    0.     ,    0.     ,\n",
       "          0.     ,    0.     ,    0.     ,    0.     ,    0.     ,\n",
       "          0.     ,    0.     ,    0.     ,    0.     ,    0.     ,\n",
       "          0.     ,    0.     ,    0.     ,    0.     ,    0.     ,\n",
       "          0.     ,    0.     ,    0.     ,    0.     ,    0.     ,\n",
       "          0.     ,    0.     ,    0.     ,    0.     ,    0.     ,\n",
       "        902.8698 ,    0.     ,    0.     ,    0.     ,    0.     ,\n",
       "          0.     ,    0.     ,    0.     ,    0.     ,    0.     ,\n",
       "          0.     ,    0.     ,    0.     ,    0.     ,    0.     ,\n",
       "          0.     ,    0.     ,    0.     ,    0.     ,    0.     ,\n",
       "        774.6163 ,    0.     ,    0.     ,    0.     ,    0.     ,\n",
       "          0.     ,    0.     ,    0.     ,    0.     ,    0.     ,\n",
       "          0.     ,    0.     ,    0.     ,    0.     ,    0.     ,\n",
       "          0.     ,    0.     ,    0.     ,    0.     ], dtype=float32)"
      ]
     },
     "execution_count": 218,
     "metadata": {},
     "output_type": "execute_result"
    }
   ],
   "source": [
    "prediction = auto_encoder.predict(np.array([data1]))[0]*1\n",
    "prediction"
   ]
  },
  {
   "cell_type": "code",
   "execution_count": 219,
   "metadata": {},
   "outputs": [],
   "source": [
    "b = visualize_data(prediction)"
   ]
  },
  {
   "cell_type": "code",
   "execution_count": 220,
   "metadata": {},
   "outputs": [],
   "source": [
    "b.show()"
   ]
  },
  {
   "cell_type": "code",
   "execution_count": null,
   "metadata": {},
   "outputs": [],
   "source": []
  }
 ],
 "metadata": {
  "kernelspec": {
   "display_name": "Python 3",
   "language": "python",
   "name": "python3"
  },
  "language_info": {
   "codemirror_mode": {
    "name": "ipython",
    "version": 3
   },
   "file_extension": ".py",
   "mimetype": "text/x-python",
   "name": "python",
   "nbconvert_exporter": "python",
   "pygments_lexer": "ipython3",
   "version": "3.6.4"
  }
 },
 "nbformat": 4,
 "nbformat_minor": 2
}
