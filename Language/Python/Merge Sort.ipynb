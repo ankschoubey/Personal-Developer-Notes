{
 "cells": [
  {
   "cell_type": "code",
   "execution_count": 33,
   "metadata": {
    "collapsed": true
   },
   "outputs": [],
   "source": [
    "\n",
    "def divide(array):\n",
    "    length = len(array)\n",
    "    \n",
    "    if length==1:\n",
    "        return [array]\n",
    "    \n",
    "    split = length//2\n",
    "    if len(array[split:]) ==3:\n",
    "        return array[:split],array[split:-1], [array[-1]]\n",
    "    \n",
    "    return array[:split],array[split:]\n",
    "\n",
    "def combine(array1, array2):\n",
    "    combination = []\n",
    "    \n",
    "    while len(array1)>0 and len(array2)> 0:\n",
    "        if array1[0]<array2[0]:\n",
    "            combination.append(array1[0])\n",
    "            del array1[0]\n",
    "        else:\n",
    "            combination.append(array2[0])\n",
    "            del array2[0]\n",
    "    combination += array1+array2\n",
    "    return combination"
   ]
  },
  {
   "cell_type": "code",
   "execution_count": 8,
   "metadata": {},
   "outputs": [
    {
     "data": {
      "text/plain": [
       "[1, 2, 3, 3, 4, 6]"
      ]
     },
     "execution_count": 8,
     "metadata": {},
     "output_type": "execute_result"
    }
   ],
   "source": [
    "combine([1,2,3],[3,4,6])"
   ]
  },
  {
   "cell_type": "code",
   "execution_count": 11,
   "metadata": {},
   "outputs": [
    {
     "data": {
      "text/plain": [
       "([1, 2, 3, 4], [5, 6, 7, 8])"
      ]
     },
     "execution_count": 11,
     "metadata": {},
     "output_type": "execute_result"
    }
   ],
   "source": [
    "divide([1,2,3,4,5,6,7,8])"
   ]
  },
  {
   "cell_type": "code",
   "execution_count": 15,
   "metadata": {},
   "outputs": [
    {
     "data": {
      "text/plain": [
       "[525, 449, 565, 638, 361, 518, 63, 552, 417, 138]"
      ]
     },
     "execution_count": 15,
     "metadata": {},
     "output_type": "execute_result"
    }
   ],
   "source": [
    "import random\n",
    "random_list = [int(1000*random.random()) for i in range(10)]\n",
    "random_list"
   ]
  },
  {
   "cell_type": "code",
   "execution_count": 34,
   "metadata": {},
   "outputs": [
    {
     "name": "stdout",
     "output_type": "stream",
     "text": [
      "[[525, 449, 565, 638, 361], [518, 63, 552, 417, 138]]\n",
      "[[525, 449], [565, 638], [361], [518, 63], [552, 417], [138]]\n",
      "[[525], [449], [565], [638], [361], [518], [63], [552], [417], [138]]\n"
     ]
    },
    {
     "data": {
      "text/plain": [
       "([525], [449], [565], [638], [361], [518], [63], [552], [417], [138])"
      ]
     },
     "execution_count": 34,
     "metadata": {},
     "output_type": "execute_result"
    }
   ],
   "source": [
    "def merge_sort(array):\n",
    "    array = ([array[:]])\n",
    "    \n",
    "    while len(array[-1])!=1 or len(array[0])!=1:\n",
    "        a = []\n",
    "        for i in array:\n",
    "            split = divide(i)\n",
    "            for j in range(len(split)):\n",
    "                a.append(split[j])\n",
    "\n",
    "        print(a)\n",
    "        array = tuple(a)\n",
    "    \n",
    "    \n",
    "    \n",
    "    return array\n",
    "merge_sort(random_list)"
   ]
  },
  {
   "cell_type": "code",
   "execution_count": null,
   "metadata": {
    "collapsed": true
   },
   "outputs": [],
   "source": [
    "\n",
    "combine()"
   ]
  }
 ],
 "metadata": {
  "kernelspec": {
   "display_name": "Python 3",
   "language": "python",
   "name": "python3"
  },
  "language_info": {
   "codemirror_mode": {
    "name": "ipython",
    "version": 3
   },
   "file_extension": ".py",
   "mimetype": "text/x-python",
   "name": "python",
   "nbconvert_exporter": "python",
   "pygments_lexer": "ipython3",
   "version": "3.6.3"
  }
 },
 "nbformat": 4,
 "nbformat_minor": 2
}
