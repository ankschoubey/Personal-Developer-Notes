{
 "cells": [
  {
   "cell_type": "code",
   "execution_count": 128,
   "metadata": {},
   "outputs": [],
   "source": [
    "import pandas as pd\n",
    "import json\n",
    "from sklearn.metrics.pairwise import cosine_similarity as pairwise_cosine"
   ]
  },
  {
   "cell_type": "code",
   "execution_count": 129,
   "metadata": {},
   "outputs": [],
   "source": [
    "df = pd.DataFrame([[1,2],[3,4], [5,6],[1,2]], columns =['A','B'])"
   ]
  },
  {
   "cell_type": "code",
   "execution_count": 130,
   "metadata": {},
   "outputs": [
    {
     "name": "stdout",
     "output_type": "stream",
     "text": [
      "   A  B\n",
      "0  1  2\n",
      "1  3  4\n",
      "2  5  6\n",
      "3  1  2\n"
     ]
    },
    {
     "data": {
      "text/plain": [
       "array([[1.        , 0.98386991, 0.97341717, 1.        ],\n",
       "       [0.98386991, 1.        , 0.99868766, 0.98386991],\n",
       "       [0.97341717, 0.99868766, 1.        , 0.97341717],\n",
       "       [1.        , 0.98386991, 0.97341717, 1.        ]])"
      ]
     },
     "execution_count": 130,
     "metadata": {},
     "output_type": "execute_result"
    }
   ],
   "source": [
    "print(df)\n",
    "pairwise_cosine(df)"
   ]
  },
  {
   "cell_type": "code",
   "execution_count": 131,
   "metadata": {},
   "outputs": [],
   "source": [
    "a = set()\n",
    "b = {}\n",
    "count = 0"
   ]
  },
  {
   "cell_type": "code",
   "execution_count": null,
   "metadata": {},
   "outputs": [],
   "source": []
  },
  {
   "cell_type": "code",
   "execution_count": 132,
   "metadata": {},
   "outputs": [
    {
     "data": {
      "text/plain": [
       "{}"
      ]
     },
     "execution_count": 132,
     "metadata": {},
     "output_type": "execute_result"
    }
   ],
   "source": [
    "a\n",
    "b"
   ]
  },
  {
   "cell_type": "code",
   "execution_count": 133,
   "metadata": {},
   "outputs": [],
   "source": [
    "normalised_list=[]\n",
    "for key,value in b.items():\n",
    "    print(json.loads(key), value)\n",
    "    normalised_list.append(json.loads(key))"
   ]
  },
  {
   "cell_type": "code",
   "execution_count": 134,
   "metadata": {},
   "outputs": [],
   "source": [
    "normalized_df = pd.DataFrame(normalised_list)"
   ]
  },
  {
   "cell_type": "code",
   "execution_count": null,
   "metadata": {},
   "outputs": [],
   "source": []
  },
  {
   "cell_type": "code",
   "execution_count": 135,
   "metadata": {},
   "outputs": [],
   "source": [
    "# pass in a dataframe, it will return key (normalised keys for original df, normalised dataframe)\n",
    "# only pass the dataframe with specific columns that needs normalisation\n",
    "def normalise_dataframe(df):\n",
    "    count = 0\n",
    "\n",
    "    original_index = df.index.values\n",
    "\n",
    "    new_index = []\n",
    "    count = 0\n",
    "    normalised_string_list = []\n",
    "    column_names = df.columns.values\n",
    "\n",
    "    for index, value in df.iterrows():\n",
    "        # print(value)\n",
    "        string_version = str(value.tolist())\n",
    "\n",
    "        try:\n",
    "            position = normalised_string_list.index(string_version)\n",
    "            new_index.append(position)\n",
    "        except:\n",
    "            normalised_string_list.append(string_version)\n",
    "            count = count + 1\n",
    "            new_index.append(count)\n",
    "\n",
    "    df['normalised_key'] = new_index\n",
    "\n",
    "    normalised_list = []\n",
    "\n",
    "    for i in list(normalised_string_list):\n",
    "        normalised_list.append(json.loads(i))\n",
    "    normalised_df = pd.DataFrame(normalised_list, columns=column_names)\n",
    "    normalised_df['normalised_key'] = normalised_df.index.values\n",
    "\n",
    "    return pd.DataFrame(df['normalised_key']), normalised_df\n"
   ]
  },
  {
   "cell_type": "code",
   "execution_count": 136,
   "metadata": {},
   "outputs": [
    {
     "name": "stdout",
     "output_type": "stream",
     "text": [
      "   normalised_key\n",
      "0               1\n",
      "1               2\n",
      "2               3\n",
      "3               0\n",
      "   A  B  normalised_key\n",
      "0  1  2               0\n",
      "1  3  4               1\n",
      "2  5  6               2\n"
     ]
    }
   ],
   "source": [
    "output = normalise_dataframe(df)\n",
    "print(output[0])\n",
    "print(output[1])"
   ]
  },
  {
   "cell_type": "code",
   "execution_count": null,
   "metadata": {},
   "outputs": [],
   "source": []
  },
  {
   "cell_type": "code",
   "execution_count": null,
   "metadata": {},
   "outputs": [],
   "source": []
  }
 ],
 "metadata": {
  "kernelspec": {
   "display_name": "Python 3",
   "language": "python",
   "name": "python3"
  },
  "language_info": {
   "codemirror_mode": {
    "name": "ipython",
    "version": 3
   },
   "file_extension": ".py",
   "mimetype": "text/x-python",
   "name": "python",
   "nbconvert_exporter": "python",
   "pygments_lexer": "ipython3",
   "version": "3.6.4"
  }
 },
 "nbformat": 4,
 "nbformat_minor": 2
}
