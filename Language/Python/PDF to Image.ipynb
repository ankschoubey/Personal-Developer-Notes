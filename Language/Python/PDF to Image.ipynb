{
 "cells": [
  {
   "cell_type": "code",
   "execution_count": 1,
   "metadata": {},
   "outputs": [
    {
     "name": "stdout",
     "output_type": "stream",
     "text": [
      "Collecting pdf2image\n",
      "  Downloading https://files.pythonhosted.org/packages/d9/f1/02de60699b4eb601de9badbcd5dee6f63b71680dacaeee5be06d38a10ca8/pdf2image-0.1.10.tar.gz\n",
      "Requirement already satisfied: pillow in /anaconda3/envs/data_science/lib/python3.6/site-packages (from pdf2image)\n",
      "Building wheels for collected packages: pdf2image\n",
      "  Running setup.py bdist_wheel for pdf2image ... \u001b[?25ldone\n",
      "\u001b[?25h  Stored in directory: /Users/ankushchoubey/Library/Caches/pip/wheels/fc/43/d3/50a9651b067ea753a3c4c873acf8586bd5f4402caf2fa39217\n",
      "Successfully built pdf2image\n",
      "Installing collected packages: pdf2image\n",
      "Successfully installed pdf2image-0.1.10\n",
      "\u001b[33mYou are using pip version 9.0.3, however version 10.0.0 is available.\n",
      "You should consider upgrading via the 'pip install --upgrade pip' command.\u001b[0m\n"
     ]
    }
   ],
   "source": [
    "!pip install pdf2image\n",
    "!brew install poppler"
   ]
  },
  {
   "cell_type": "code",
   "execution_count": 2,
   "metadata": {},
   "outputs": [
    {
     "name": "stdout",
     "output_type": "stream",
     "text": [
      "Collecting pip\n",
      "  Downloading https://files.pythonhosted.org/packages/62/a1/0d452b6901b0157a0134fd27ba89bf95a857fbda64ba52e1ca2cf61d8412/pip-10.0.0-py2.py3-none-any.whl (1.3MB)\n",
      "\u001b[K    28% |█████████▎                      | 378kB 11kB/s eta 0:01:205^C\n",
      "\n",
      "\u001b[31mOperation cancelled by user\u001b[0m\n",
      "\u001b[33mYou are using pip version 9.0.3, however version 10.0.0 is available.\n",
      "You should consider upgrading via the 'pip install --upgrade pip' command.\u001b[0m\n",
      "\u001b[?25h"
     ]
    }
   ],
   "source": [
    "!pip install --upgrade pip"
   ]
  },
  {
   "cell_type": "code",
   "execution_count": 16,
   "metadata": {},
   "outputs": [],
   "source": [
    "from pdf2image import convert_from_path"
   ]
  },
  {
   "cell_type": "code",
   "execution_count": 17,
   "metadata": {},
   "outputs": [
    {
     "data": {
      "text/plain": [
       "['BytesIO',\n",
       " 'Image',\n",
       " 'PIPE',\n",
       " 'Popen',\n",
       " '__builtins__',\n",
       " '__cached__',\n",
       " '__doc__',\n",
       " '__file__',\n",
       " '__loader__',\n",
       " '__name__',\n",
       " '__package__',\n",
       " '__path__',\n",
       " '__spec__',\n",
       " 'convert_from_bytes',\n",
       " 'convert_from_path',\n",
       " 'os',\n",
       " 'pdf2image',\n",
       " 'sys',\n",
       " 'tempfile',\n",
       " 'uuid']"
      ]
     },
     "execution_count": 17,
     "metadata": {},
     "output_type": "execute_result"
    }
   ],
   "source": [
    "dir(pdf2image)"
   ]
  },
  {
   "cell_type": "code",
   "execution_count": 18,
   "metadata": {},
   "outputs": [],
   "source": [
    "images = convert_from_path('/Users/ankushchoubey/Desktop/a.pdf')"
   ]
  },
  {
   "cell_type": "code",
   "execution_count": 15,
   "metadata": {},
   "outputs": [
    {
     "name": "stdout",
     "output_type": "stream",
     "text": [
      "/Users/ankushchoubey/Desktop\r\n"
     ]
    }
   ],
   "source": [
    "!pwd"
   ]
  },
  {
   "cell_type": "code",
   "execution_count": null,
   "metadata": {},
   "outputs": [],
   "source": []
  },
  {
   "cell_type": "code",
   "execution_count": 31,
   "metadata": {},
   "outputs": [
    {
     "name": "stdout",
     "output_type": "stream",
     "text": [
      "/var/folders/z7/g2l_l2rn4p50qjty96frk6140000gn/T/tmpu5yippz1\n",
      "[<PIL.PpmImagePlugin.PpmImageFile image mode=RGB size=1653x2339 at 0x10CEE8710>]\n"
     ]
    }
   ],
   "source": [
    "import tempfile\n",
    "\n",
    "with tempfile.TemporaryDirectory() as path:\n",
    "    images_from_path = convert_from_path('/Users/ankushchoubey/Desktop/a.pdf', output_folder=path)\n",
    "    print(path)\n",
    "    print(images_from_path)\n",
    "    # Do something here"
   ]
  },
  {
   "cell_type": "code",
   "execution_count": 48,
   "metadata": {},
   "outputs": [],
   "source": [
    "import math\n"
   ]
  },
  {
   "cell_type": "code",
   "execution_count": 53,
   "metadata": {},
   "outputs": [],
   "source": [
    "def subsets(array, size=10):\n",
    "    no_of_elements = len(array)\n",
    "\n",
    "    subset_len = math.ceil(no_of_elements/size)\n",
    "    \n",
    "    print(subset_len)\n",
    "    \n",
    "    temp = []\n",
    "    start = 0\n",
    "    end = size\n",
    "    for i in range(subset_len):\n",
    "        temp.append(array[start:end])\n",
    "        start +=size\n",
    "        end = end + size\n",
    "        \n",
    "        if end > no_of_elements:\n",
    "            end = no_of_elements\n",
    "    return temp\n",
    "    "
   ]
  },
  {
   "cell_type": "code",
   "execution_count": 54,
   "metadata": {},
   "outputs": [
    {
     "name": "stdout",
     "output_type": "stream",
     "text": [
      "3\n"
     ]
    },
    {
     "data": {
      "text/plain": [
       "[[0, 1, 2, 3, 4, 5, 6, 7, 8, 9],\n",
       " [10, 11, 12, 13, 14, 15, 16, 17, 18, 19],\n",
       " [20, 21, 22, 23]]"
      ]
     },
     "execution_count": 54,
     "metadata": {},
     "output_type": "execute_result"
    }
   ],
   "source": [
    "subsets([i for i in range(24)])"
   ]
  },
  {
   "cell_type": "code",
   "execution_count": null,
   "metadata": {},
   "outputs": [],
   "source": []
  }
 ],
 "metadata": {
  "kernelspec": {
   "display_name": "Python 3",
   "language": "python",
   "name": "python3"
  },
  "language_info": {
   "codemirror_mode": {
    "name": "ipython",
    "version": 3
   },
   "file_extension": ".py",
   "mimetype": "text/x-python",
   "name": "python",
   "nbconvert_exporter": "python",
   "pygments_lexer": "ipython3",
   "version": "3.6.4"
  }
 },
 "nbformat": 4,
 "nbformat_minor": 2
}
