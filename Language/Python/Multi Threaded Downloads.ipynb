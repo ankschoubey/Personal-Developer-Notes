{
 "cells": [
  {
   "cell_type": "code",
   "execution_count": 24,
   "metadata": {},
   "outputs": [],
   "source": [
    "import concurrent.futures as fast\n",
    "import requests\n",
    "import time"
   ]
  },
  {
   "cell_type": "code",
   "execution_count": 2,
   "metadata": {
    "collapsed": true
   },
   "outputs": [],
   "source": [
    "urls = ['https://image.tmdb.org/t/p/w500/dji4Fm0gCDVb9DQQMRvAI8YNnTz.jpg',  'https://image.tmdb.org/t/p/w500/dji4Fm0gCDVb9DQQMRvAI8YNnTz.jpg','https://image.tmdb.org/t/p/w500/dji4Fm0gCDVb9DQQMRvAI8YNnTz.jpg',  'https://image.tmdb.org/t/p/w500/dji4Fm0gCDVb9DQQMRvAI8YNnTz.jpg']"
   ]
  },
  {
   "cell_type": "code",
   "execution_count": 18,
   "metadata": {
    "collapsed": true
   },
   "outputs": [],
   "source": [
    "def download(url):\n",
    "    return requests.get(url).content"
   ]
  },
  {
   "cell_type": "code",
   "execution_count": 28,
   "metadata": {},
   "outputs": [
    {
     "name": "stdout",
     "output_type": "stream",
     "text": [
      "Time:  5.507469177246094e-05\n",
      "Time:  1.5555238723754883\n"
     ]
    }
   ],
   "source": [
    "start = time.time()\n",
    "a = map(download,urls)\n",
    "normal_time = time.time()-start\n",
    "print('Time: ',normal_time)\n",
    "with fast.ProcessPoolExecutor() as executor:\n",
    "    result = executor.map(download, urls)\n",
    "concurrent_time = time.time()-start\n",
    "print('Time: ',concurrent_time)"
   ]
  },
  {
   "cell_type": "code",
   "execution_count": 22,
   "metadata": {},
   "outputs": [
    {
     "name": "stdout",
     "output_type": "stream",
     "text": [
      "1.75 s ± 584 ms per loop (mean ± std. dev. of 7 runs, 1 loop each)\n"
     ]
    }
   ],
   "source": [
    "print(normal_time>concurrent_time)"
   ]
  },
  {
   "cell_type": "code",
   "execution_count": null,
   "metadata": {
    "collapsed": true
   },
   "outputs": [],
   "source": []
  }
 ],
 "metadata": {
  "kernelspec": {
   "display_name": "Python 3",
   "language": "python",
   "name": "python3"
  },
  "language_info": {
   "codemirror_mode": {
    "name": "ipython",
    "version": 3
   },
   "file_extension": ".py",
   "mimetype": "text/x-python",
   "name": "python",
   "nbconvert_exporter": "python",
   "pygments_lexer": "ipython3",
   "version": "3.6.3"
  }
 },
 "nbformat": 4,
 "nbformat_minor": 2
}
