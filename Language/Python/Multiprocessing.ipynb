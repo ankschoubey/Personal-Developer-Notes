{
 "cells": [
  {
   "cell_type": "code",
   "execution_count": 1,
   "metadata": {
    "collapsed": true
   },
   "outputs": [],
   "source": [
    "import time\n",
    "import os\n",
    "from pprint import pprint\n",
    "data = [\n",
    "    {\"name\": \"Ankush\", \"no\": 1},\n",
    "    {\"name\": \"SSJ Choubey\", \"no\": 1},\n",
    "    {\"name\": \"Blue Choubey\", \"no\": 1},\n",
    "    {\"name\": \"Goku Choubey\", \"no\": 1},\n",
    "    {\"name\": \"Tein Choubey\", \"no\": 1},\n",
    "    {\"name\": \"Vegeta Choubey\", \"no\": 1},\n",
    "    {\"name\": \"Beerus Choubey\", \"no\": 1},\n",
    "    {\"name\": \"Champa Choubey\", \"no\": 1},\n",
    "    {\"name\": \"Saiyajin Choubey\", \"no\": 1},\n",
    "    {\"name\": \"Michael Choubey\", \"no\": 1},\n",
    "]"
   ]
  },
  {
   "cell_type": "code",
   "execution_count": 2,
   "metadata": {
    "collapsed": true
   },
   "outputs": [],
   "source": [
    "def transform(x):\n",
    "    print(f'Starting on {x[\"name\"]} {os.getpid()}')\n",
    "    time.sleep(1)\n",
    "    return {\"name\": x[\"name\"]}"
   ]
  },
  {
   "cell_type": "code",
   "execution_count": 3,
   "metadata": {},
   "outputs": [
    {
     "name": "stdout",
     "output_type": "stream",
     "text": [
      "Starting on Ankush Choubey 5039\n",
      "Starting on SSJ Choubey 5039\n",
      "Starting on Blue Choubey 5039\n",
      "Starting on Goku Choubey 5039\n",
      "Starting on Tein Choubey 5039\n",
      "Starting on Vegeta Choubey 5039\n",
      "Starting on Beerus Choubey 5039\n",
      "Starting on Champa Choubey 5039\n",
      "Starting on Saiyajin Choubey 5039\n",
      "Starting on Michael Choubey 5039\n",
      "Time is 10.02\n",
      "[{'name': 'Ankush Choubey'},\n",
      " {'name': 'SSJ Choubey'},\n",
      " {'name': 'Blue Choubey'},\n",
      " {'name': 'Goku Choubey'},\n",
      " {'name': 'Tein Choubey'},\n",
      " {'name': 'Vegeta Choubey'},\n",
      " {'name': 'Beerus Choubey'},\n",
      " {'name': 'Champa Choubey'},\n",
      " {'name': 'Saiyajin Choubey'},\n",
      " {'name': 'Michael Choubey'}]\n"
     ]
    }
   ],
   "source": [
    "# Normal Execution\n",
    "start = time.time()\n",
    "\n",
    "output = list(map(transform, data))\n",
    "\n",
    "end = time.time()\n",
    "print(\"Time is\", round(end-start,2))\n",
    "pprint(output)"
   ]
  },
  {
   "cell_type": "code",
   "execution_count": 4,
   "metadata": {},
   "outputs": [
    {
     "name": "stdout",
     "output_type": "stream",
     "text": [
      "Starting on SSJ Choubey 5047\n",
      "Starting on Blue Choubey 5048\n",
      "Starting on Goku Choubey 5049\n",
      "Starting on Ankush Choubey 5046\n",
      "Starting on Tein Choubey 5050\n",
      "Starting on Vegeta Choubey 5051\n",
      "Starting on Beerus Choubey 5052\n",
      "Starting on Champa Choubey 5053\n",
      "Starting on Saiyajin Choubey 5048\n",
      "Starting on Michael Choubey 5049\n",
      "Time is 2.01\n",
      "[{'name': 'Ankush Choubey'},\n",
      " {'name': 'SSJ Choubey'},\n",
      " {'name': 'Blue Choubey'},\n",
      " {'name': 'Goku Choubey'},\n",
      " {'name': 'Tein Choubey'},\n",
      " {'name': 'Vegeta Choubey'},\n",
      " {'name': 'Beerus Choubey'},\n",
      " {'name': 'Champa Choubey'},\n",
      " {'name': 'Saiyajin Choubey'},\n",
      " {'name': 'Michael Choubey'}]\n"
     ]
    }
   ],
   "source": [
    "# Multiprocessing Execution\n",
    "import multiprocessing\n",
    "\n",
    "pool = multiprocessing.Pool()\n",
    "\n",
    "start = time.time()\n",
    "\n",
    "output = list(pool.map(transform, data))\n",
    "\n",
    "end = time.time()\n",
    "print(\"Time is\", round(end-start,2))\n",
    "pprint(output)"
   ]
  },
  {
   "cell_type": "code",
   "execution_count": 5,
   "metadata": {},
   "outputs": [
    {
     "name": "stdout",
     "output_type": "stream",
     "text": [
      "Starting on Ankush Choubey 5055\n",
      "Starting on Goku Choubey 5058\n",
      "Starting on SSJ Choubey 5056\n",
      "Starting on Blue Choubey 5057\n",
      "Starting on Tein Choubey 5059\n",
      "Starting on Vegeta Choubey 5060\n",
      "Starting on Beerus Choubey 5061\n",
      "Starting on Champa Choubey 5062\n",
      "Starting on Michael Choubey 5056\n",
      "Starting on Saiyajin Choubey 5055\n",
      "Time is 2.05\n",
      "[{'name': 'Ankush Choubey'},\n",
      " {'name': 'SSJ Choubey'},\n",
      " {'name': 'Blue Choubey'},\n",
      " {'name': 'Goku Choubey'},\n",
      " {'name': 'Tein Choubey'},\n",
      " {'name': 'Vegeta Choubey'},\n",
      " {'name': 'Beerus Choubey'},\n",
      " {'name': 'Champa Choubey'},\n",
      " {'name': 'Saiyajin Choubey'},\n",
      " {'name': 'Michael Choubey'}]\n"
     ]
    }
   ],
   "source": [
    "# \n",
    "import concurrent.futures as cf\n",
    "\n",
    "start = time.time()\n",
    "\n",
    "with cf.ProcessPoolExecutor() as executor:\n",
    "    output = list(executor.map(transform, data))\n",
    "end = time.time()\n",
    "print(\"Time is\", round(end-start,2))\n",
    "pprint(output)"
   ]
  },
  {
   "cell_type": "code",
   "execution_count": 6,
   "metadata": {},
   "outputs": [
    {
     "name": "stdout",
     "output_type": "stream",
     "text": [
      "Starting on Ankush Choubey 5039Starting on SSJ Choubey 5039Starting on Blue Choubey 5039Starting on Goku Choubey 5039Starting on Tein Choubey 5039Starting on Vegeta Choubey 5039Starting on Beerus Choubey 5039Starting on Champa Choubey 5039Starting on Saiyajin Choubey 5039Starting on Michael Choubey 5039\n",
      "\n",
      "\n",
      "\n",
      "\n",
      "\n",
      "\n",
      "\n",
      "\n",
      "\n",
      "Time is 1.01\n",
      "[{'name': 'Ankush Choubey'},\n",
      " {'name': 'SSJ Choubey'},\n",
      " {'name': 'Blue Choubey'},\n",
      " {'name': 'Goku Choubey'},\n",
      " {'name': 'Tein Choubey'},\n",
      " {'name': 'Vegeta Choubey'},\n",
      " {'name': 'Beerus Choubey'},\n",
      " {'name': 'Champa Choubey'},\n",
      " {'name': 'Saiyajin Choubey'},\n",
      " {'name': 'Michael Choubey'}]\n"
     ]
    }
   ],
   "source": [
    "start = time.time()\n",
    "\n",
    "with cf.ThreadPoolExecutor() as executor:\n",
    "    output = list(executor.map(transform, data))\n",
    "end = time.time()\n",
    "print(\"Time is\", round(end-start,2))\n",
    "pprint(output)"
   ]
  },
  {
   "cell_type": "code",
   "execution_count": null,
   "metadata": {
    "collapsed": true
   },
   "outputs": [],
   "source": []
  }
 ],
 "metadata": {
  "kernelspec": {
   "display_name": "Python 3",
   "language": "python",
   "name": "python3"
  },
  "language_info": {
   "codemirror_mode": {
    "name": "ipython",
    "version": 3
   },
   "file_extension": ".py",
   "mimetype": "text/x-python",
   "name": "python",
   "nbconvert_exporter": "python",
   "pygments_lexer": "ipython3",
   "version": "3.6.3"
  }
 },
 "nbformat": 4,
 "nbformat_minor": 2
}
