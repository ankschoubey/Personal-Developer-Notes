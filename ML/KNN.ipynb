{
 "cells": [
  {
   "cell_type": "code",
   "execution_count": 96,
   "metadata": {},
   "outputs": [],
   "source": [
    "import numpy as np\n",
    "from statistics import mode\n",
    "from pprint import pprint\n",
    "from tqdm import tqdm_notebook\n",
    "import math\n",
    "from matplotlib import pyplot"
   ]
  },
  {
   "cell_type": "code",
   "execution_count": 48,
   "metadata": {},
   "outputs": [],
   "source": [
    "def euclidian_distance(vector1, vector2):\n",
    "    temp = sum([(i-j)**2 for i,j in zip(vector1,vector2)])\n",
    "    return math.sqrt(temp)"
   ]
  },
  {
   "cell_type": "code",
   "execution_count": 248,
   "metadata": {},
   "outputs": [],
   "source": [
    "class KNN:\n",
    "    colors = ['b', 'g', 'r', 'c', 'm', 'y']\n",
    "    def fit(self,X, y):\n",
    "        self.X = X\n",
    "        self.y = y\n",
    "    \n",
    "    def predict(self,vector, k):\n",
    "        distances = []\n",
    "        for i in tqdm_notebook(self.X):\n",
    "            distances.append(euclidian_distance(vector,i))\n",
    "        closest_items=None\n",
    "        flag = True\n",
    "        \n",
    "        argsorted_distances = np.argsort(distances).tolist()\n",
    "\n",
    "        while True:\n",
    "            closest_items = argsorted_distances[:k]\n",
    "\n",
    "            classes = [self.y[i] for i in closest_items]\n",
    "            try:\n",
    "                return mode(classes)\n",
    "            except:\n",
    "                k= k+1\n",
    "                print('Multiple classes were equally likely, increase count of k to ',k)\n",
    "            if k<len(closest_items):\n",
    "                flag = False\n",
    "    \n",
    "    def visualise(self):\n",
    "        pyplot.clf()\n",
    "        if len(self.X[0])!=2:\n",
    "            raise Exception('Data is of not 2d so cannot visualise')\n",
    "        \n",
    "        markers = ['P','v','*','s','X']\n",
    "\n",
    "        for i in range(len(self.X)):            \n",
    "            x_1, y_1 = self.X[i]\n",
    "            color_select = self.y[i]\n",
    "            pyplot.scatter(x_1, y_1, c=self.colors[color_select])\n",
    "        pyplot.legend()\n",
    "        \n",
    "    def predict_visualise(self, vector, k):\n",
    "        pyplot.clf()\n",
    "        if len(self.X[0])!=2:\n",
    "            raise Exception('Data is of not 2d so cannot visualise')\n",
    "        \n",
    "        markers = ['P','v','*','s','X']\n",
    "\n",
    "        for i in range(len(self.X)):            \n",
    "            x_1, y_1 = self.X[i]\n",
    "            color_select = self.y[i]\n",
    "            pyplot.scatter(x_1, y_1, c=self.colors[color_select])\n",
    "        \n",
    "        pyplot.scatter(vector[0],vector[1],marker = '*',c='k')\n",
    "        \n",
    "        distances = []\n",
    "        for i in tqdm_notebook(self.X):\n",
    "            distances.append(euclidian_distance(vector,i))\n",
    "        closest_items=None\n",
    "        flag = True\n",
    "        argsorted_distances = np.argsort(distances).tolist()\n",
    "        while True:\n",
    "            closest_items = argsorted_distances[:k]\n",
    "                \n",
    "            classes = [self.y[i] for i in closest_items]\n",
    "            \n",
    "            for i in closest_items:\n",
    "                pyplot.plot([vector[0],self.X[i][0]], [vector[1],self.X[i][1]], 'k-', lw=2, c=self.colors[self.y[i]])\n",
    "            \n",
    "            try:\n",
    "                return mode(classes)\n",
    "            except:\n",
    "                k= k+1\n",
    "                print('Multiple classes were equally likely, increase count of k to ',k)\n",
    "            if k<len(closest_items):\n",
    "                flag = False"
   ]
  },
  {
   "cell_type": "code",
   "execution_count": 190,
   "metadata": {},
   "outputs": [],
   "source": [
    "import random\n",
    "def generate_data(data_points=10, features=2, feature_range=(0,100),classes=3):\n",
    "    \n",
    "    X = []\n",
    "    for i in range(data_points):\n",
    "        temp = random.sample(range(feature_range[0],feature_range[1]), features)\n",
    "        X.append(temp)\n",
    "    \n",
    "    y = [random.randrange(classes) for i in range(data_points)]\n",
    "    return X, y"
   ]
  },
  {
   "cell_type": "code",
   "execution_count": 212,
   "metadata": {},
   "outputs": [],
   "source": []
  },
  {
   "cell_type": "code",
   "execution_count": 213,
   "metadata": {},
   "outputs": [
    {
     "name": "stdout",
     "output_type": "stream",
     "text": [
      "[[11, 44],\n",
      " [99, 97],\n",
      " [89, 86],\n",
      " [38, 93],\n",
      " [48, 99],\n",
      " [85, 2],\n",
      " [50, 82],\n",
      " [68, 7],\n",
      " [73, 12],\n",
      " [28, 34]]\n"
     ]
    }
   ],
   "source": [
    "pprint(X)"
   ]
  },
  {
   "cell_type": "code",
   "execution_count": 193,
   "metadata": {},
   "outputs": [
    {
     "data": {
      "text/plain": [
       "[2, 0, 2, 1, 1, 1, 1, 1, 1, 1]"
      ]
     },
     "execution_count": 193,
     "metadata": {},
     "output_type": "execute_result"
    }
   ],
   "source": [
    "y"
   ]
  },
  {
   "cell_type": "code",
   "execution_count": 249,
   "metadata": {},
   "outputs": [],
   "source": [
    "X, y = generate_data(data_points=50, classes=4)"
   ]
  },
  {
   "cell_type": "code",
   "execution_count": 250,
   "metadata": {},
   "outputs": [
    {
     "name": "stderr",
     "output_type": "stream",
     "text": [
      "No handles with labels found to put in legend.\n"
     ]
    },
    {
     "data": {
      "image/png": "[encoded data removed]",
      "text/plain": [
       "<Figure size 432x288 with 1 Axes>"
      ]
     },
     "metadata": {},
     "output_type": "display_data"
    }
   ],
   "source": [
    "model = KNN()\n",
    "model.fit(X,y)\n",
    "model.visualise()"
   ]
  },
  {
   "cell_type": "code",
   "execution_count": 254,
   "metadata": {},
   "outputs": [
    {
     "data": {
      "application/vnd.jupyter.widget-view+json": {
       "model_id": "38c79c5e95f64076890be82b611e2b74",
       "version_major": 2,
       "version_minor": 0
      },
      "text/html": [
       "<p>Failed to display Jupyter Widget of type <code>HBox</code>.</p>\n",
       "<p>\n",
       "  If you're reading this message in the Jupyter Notebook or JupyterLab Notebook, it may mean\n",
       "  that the widgets JavaScript is still loading. If this message persists, it\n",
       "  likely means that the widgets JavaScript library is either not installed or\n",
       "  not enabled. See the <a href=\"https://ipywidgets.readthedocs.io/en/stable/user_install.html\">Jupyter\n",
       "  Widgets Documentation</a> for setup instructions.\n",
       "</p>\n",
       "<p>\n",
       "  If you're reading this message in another frontend (for example, a static\n",
       "  rendering on GitHub or <a href=\"https://nbviewer.jupyter.org/\">NBViewer</a>),\n",
       "  it may mean that your frontend doesn't currently support widgets.\n",
       "</p>\n"
      ],
      "text/plain": [
       "HBox(children=(IntProgress(value=0, max=50), HTML(value='')))"
      ]
     },
     "metadata": {},
     "output_type": "display_data"
    },
    {
     "name": "stdout",
     "output_type": "stream",
     "text": [
      "\n"
     ]
    },
    {
     "data": {
      "text/plain": [
       "3"
      ]
     },
     "execution_count": 254,
     "metadata": {},
     "output_type": "execute_result"
    },
    {
     "data": {
      "image/png": "[encoded data removed]",
      "text/plain": [
       "<Figure size 432x288 with 1 Axes>"
      ]
     },
     "metadata": {},
     "output_type": "display_data"
    }
   ],
   "source": [
    "#model.predict([9,50],3)\n",
    "test = random.sample(range(100),2)\n",
    "model.predict_visualise(test,10)"
   ]
  },
  {
   "cell_type": "code",
   "execution_count": 252,
   "metadata": {},
   "outputs": [
    {
     "data": {
      "text/plain": [
       "['b', 'g', 'r', 'c', 'm', 'y']"
      ]
     },
     "execution_count": 252,
     "metadata": {},
     "output_type": "execute_result"
    }
   ],
   "source": [
    "model.colors"
   ]
  },
  {
   "cell_type": "markdown",
   "metadata": {},
   "source": []
  },
  {
   "cell_type": "code",
   "execution_count": 210,
   "metadata": {},
   "outputs": [],
   "source": [
    "# model.colors"
   ]
  },
  {
   "cell_type": "code",
   "execution_count": null,
   "metadata": {},
   "outputs": [],
   "source": []
  },
  {
   "cell_type": "code",
   "execution_count": null,
   "metadata": {},
   "outputs": [],
   "source": []
  },
  {
   "cell_type": "code",
   "execution_count": null,
   "metadata": {},
   "outputs": [],
   "source": []
  }
 ],
 "metadata": {
  "kernelspec": {
   "display_name": "Python 3",
   "language": "python",
   "name": "python3"
  },
  "language_info": {
   "codemirror_mode": {
    "name": "ipython",
    "version": 3
   },
   "file_extension": ".py",
   "mimetype": "text/x-python",
   "name": "python",
   "nbconvert_exporter": "python",
   "pygments_lexer": "ipython3",
   "version": "3.6.4"
  }
 },
 "nbformat": 4,
 "nbformat_minor": 2
}
