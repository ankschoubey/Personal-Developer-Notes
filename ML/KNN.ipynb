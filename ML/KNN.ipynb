{
 "cells": [
  {
   "cell_type": "code",
   "execution_count": 1,
   "metadata": {},
   "outputs": [],
   "source": [
    "import numpy as np\n",
    "from statistics import mode\n",
    "from pprint import pprint\n",
    "from tqdm import tqdm_notebook\n",
    "import math\n",
    "from matplotlib import pyplot\n",
    "from collections import Counter"
   ]
  },
  {
   "cell_type": "code",
   "execution_count": 2,
   "metadata": {},
   "outputs": [],
   "source": [
    "def euclidian_distance(vector1, vector2):\n",
    "    temp = sum([(i-j)**2 for i,j in zip(vector1,vector2)])\n",
    "    return math.sqrt(temp)"
   ]
  },
  {
   "cell_type": "code",
   "execution_count": 3,
   "metadata": {},
   "outputs": [],
   "source": [
    "class KNN:\n",
    "    colors = ['b', 'g', 'r', 'c', 'm', 'y']\n",
    "    def fit(self,X, y):\n",
    "        self.X = X\n",
    "        self.y = y\n",
    "    \n",
    "    def predict(self,vector, k):\n",
    "        distances = []\n",
    "        for i in self.X:\n",
    "            distances.append(euclidian_distance(vector,i))\n",
    "        closest_items=None\n",
    "        flag = True\n",
    "        \n",
    "        argsorted_distances = np.argsort(distances).tolist()\n",
    "\n",
    "        while True:\n",
    "            closest_items = argsorted_distances[:k]\n",
    "\n",
    "            classes = [self.y[i] for i in closest_items]\n",
    "            try:\n",
    "                return mode(classes)\n",
    "            except:\n",
    "                exit()\n",
    "                k= k+1\n",
    "                print('Multiple classes were equally likely, increase count of k to ',k)\n",
    "            if k<len(closest_items):\n",
    "                flag = False\n",
    "    \n",
    "    def visualise(self):\n",
    "        pyplot.clf()\n",
    "        if len(self.X[0])!=2:\n",
    "            raise Exception('Data is of not 2d so cannot visualise')\n",
    "        \n",
    "        markers = ['P','v','*','s','X']\n",
    "\n",
    "        for i in range(len(self.X)):            \n",
    "            x_1, y_1 = self.X[i]\n",
    "            color_select = self.y[i]\n",
    "            pyplot.scatter(x_1, y_1, c=self.colors[color_select])\n",
    "        pyplot.legend()\n",
    "        \n",
    "    def predict_visualise(self, vector, k):\n",
    "        pyplot.clf()\n",
    "        if len(self.X[0])!=2:\n",
    "            raise Exception('Data is of not 2d so cannot visualise')\n",
    "        \n",
    "        markers = ['P','v','*','s','X']\n",
    "\n",
    "        for i in range(len(self.X)):            \n",
    "            x_1, y_1 = self.X[i]\n",
    "            color_select = self.y[i]\n",
    "            pyplot.scatter(x_1, y_1, c=self.colors[color_select])\n",
    "        \n",
    "        pyplot.scatter(vector[0],vector[1],marker = '*',c='k')\n",
    "        \n",
    "        distances = []\n",
    "        for i in self.X:\n",
    "            distances.append(euclidian_distance(vector,i))\n",
    "        closest_items=None\n",
    "        flag = True\n",
    "        argsorted_distances = np.argsort(distances).tolist()\n",
    "        while True:\n",
    "            closest_items = argsorted_distances[:k]\n",
    "                \n",
    "            classes = [self.y[i] for i in closest_items]\n",
    "            \n",
    "            for i in closest_items:\n",
    "                pyplot.plot([vector[0],self.X[i][0]], [vector[1],self.X[i][1]], 'k-', lw=2, c=self.colors[self.y[i]])\n",
    "            \n",
    "            try:\n",
    "                return mode(classes)\n",
    "            except:\n",
    "                exit()\n",
    "                k= k+1\n",
    "                print('Multiple classes were equally likely, increase count of k to ',k)\n",
    "            if k<len(closest_items):\n",
    "                flag = False"
   ]
  },
  {
   "cell_type": "code",
   "execution_count": 4,
   "metadata": {},
   "outputs": [],
   "source": [
    "import random\n",
    "def generate_data(data_points=10, features=2, feature_range=(0,100),classes=3):\n",
    "    \n",
    "    X = []\n",
    "    for i in range(data_points):\n",
    "        temp = random.sample(range(feature_range[0],feature_range[1]), features)\n",
    "        X.append(temp)\n",
    "    \n",
    "    y = [random.randrange(classes) for i in range(data_points)]\n",
    "    return X, y"
   ]
  },
  {
   "cell_type": "code",
   "execution_count": null,
   "metadata": {},
   "outputs": [],
   "source": []
  },
  {
   "cell_type": "code",
   "execution_count": null,
   "metadata": {},
   "outputs": [],
   "source": []
  },
  {
   "cell_type": "code",
   "execution_count": null,
   "metadata": {},
   "outputs": [],
   "source": []
  },
  {
   "cell_type": "code",
   "execution_count": 7,
   "metadata": {},
   "outputs": [],
   "source": [
    "X, y = generate_data(data_points=50, classes=4)"
   ]
  },
  {
   "cell_type": "code",
   "execution_count": 8,
   "metadata": {},
   "outputs": [
    {
     "name": "stderr",
     "output_type": "stream",
     "text": [
      "No handles with labels found to put in legend.\n"
     ]
    },
    {
     "data": {
      "image/png": "[encoded data removed]",
      "text/plain": [
       "<Figure size 432x288 with 1 Axes>"
      ]
     },
     "metadata": {},
     "output_type": "display_data"
    }
   ],
   "source": [
    "model = KNN()\n",
    "model.fit(X,y)\n",
    "model.visualise()"
   ]
  },
  {
   "cell_type": "code",
   "execution_count": 9,
   "metadata": {},
   "outputs": [
    {
     "data": {
      "text/plain": [
       "2"
      ]
     },
     "execution_count": 9,
     "metadata": {},
     "output_type": "execute_result"
    },
    {
     "data": {
      "image/png": "[encoded data removed]",
      "text/plain": [
       "<Figure size 432x288 with 1 Axes>"
      ]
     },
     "metadata": {},
     "output_type": "display_data"
    }
   ],
   "source": [
    "#model.predict([9,50],3)\n",
    "test = random.sample(range(100),2)\n",
    "model.predict_visualise(test,5)"
   ]
  },
  {
   "cell_type": "code",
   "execution_count": 9,
   "metadata": {},
   "outputs": [
    {
     "data": {
      "text/plain": [
       "['b', 'g', 'r', 'c', 'm', 'y']"
      ]
     },
     "execution_count": 9,
     "metadata": {},
     "output_type": "execute_result"
    }
   ],
   "source": [
    "model.colors"
   ]
  },
  {
   "cell_type": "markdown",
   "metadata": {},
   "source": []
  },
  {
   "cell_type": "code",
   "execution_count": 10,
   "metadata": {},
   "outputs": [],
   "source": [
    "# model.colors"
   ]
  },
  {
   "cell_type": "markdown",
   "metadata": {},
   "source": [
    "# Iris Dataset"
   ]
  },
  {
   "cell_type": "code",
   "execution_count": 10,
   "metadata": {},
   "outputs": [],
   "source": [
    "classes = ['Iris-setosa','Iris-versicolor','Iris-virginica']"
   ]
  },
  {
   "cell_type": "code",
   "execution_count": 11,
   "metadata": {},
   "outputs": [
    {
     "data": {
      "text/html": [
       "<div>\n",
       "<style scoped>\n",
       "    .dataframe tbody tr th:only-of-type {\n",
       "        vertical-align: middle;\n",
       "    }\n",
       "\n",
       "    .dataframe tbody tr th {\n",
       "        vertical-align: top;\n",
       "    }\n",
       "\n",
       "    .dataframe thead th {\n",
       "        text-align: right;\n",
       "    }\n",
       "</style>\n",
       "<table border=\"1\" class=\"dataframe\">\n",
       "  <thead>\n",
       "    <tr style=\"text-align: right;\">\n",
       "      <th></th>\n",
       "      <th>sepal_length</th>\n",
       "      <th>sepal_width</th>\n",
       "      <th>petal_length</th>\n",
       "      <th>petal_width</th>\n",
       "      <th>class</th>\n",
       "    </tr>\n",
       "  </thead>\n",
       "  <tbody>\n",
       "    <tr>\n",
       "      <th>0</th>\n",
       "      <td>5.1</td>\n",
       "      <td>3.5</td>\n",
       "      <td>1.4</td>\n",
       "      <td>0.2</td>\n",
       "      <td>Iris-setosa</td>\n",
       "    </tr>\n",
       "    <tr>\n",
       "      <th>1</th>\n",
       "      <td>4.9</td>\n",
       "      <td>3.0</td>\n",
       "      <td>1.4</td>\n",
       "      <td>0.2</td>\n",
       "      <td>Iris-setosa</td>\n",
       "    </tr>\n",
       "    <tr>\n",
       "      <th>2</th>\n",
       "      <td>4.7</td>\n",
       "      <td>3.2</td>\n",
       "      <td>1.3</td>\n",
       "      <td>0.2</td>\n",
       "      <td>Iris-setosa</td>\n",
       "    </tr>\n",
       "    <tr>\n",
       "      <th>3</th>\n",
       "      <td>4.6</td>\n",
       "      <td>3.1</td>\n",
       "      <td>1.5</td>\n",
       "      <td>0.2</td>\n",
       "      <td>Iris-setosa</td>\n",
       "    </tr>\n",
       "    <tr>\n",
       "      <th>4</th>\n",
       "      <td>5.0</td>\n",
       "      <td>3.6</td>\n",
       "      <td>1.4</td>\n",
       "      <td>0.2</td>\n",
       "      <td>Iris-setosa</td>\n",
       "    </tr>\n",
       "  </tbody>\n",
       "</table>\n",
       "</div>"
      ],
      "text/plain": [
       "   sepal_length  sepal_width  petal_length  petal_width        class\n",
       "0           5.1          3.5           1.4          0.2  Iris-setosa\n",
       "1           4.9          3.0           1.4          0.2  Iris-setosa\n",
       "2           4.7          3.2           1.3          0.2  Iris-setosa\n",
       "3           4.6          3.1           1.5          0.2  Iris-setosa\n",
       "4           5.0          3.6           1.4          0.2  Iris-setosa"
      ]
     },
     "execution_count": 11,
     "metadata": {},
     "output_type": "execute_result"
    }
   ],
   "source": [
    "train = []\n",
    "test = []\n",
    "overall = []\n",
    "import csv\n",
    "\n",
    "import pandas as pd\n",
    "\n",
    "df = pd.read_csv('iris.csv', names=['sepal_length','sepal_width','petal_length','petal_width','class'])\n",
    "df.head()\n",
    "#df.values.tolist()"
   ]
  },
  {
   "cell_type": "code",
   "execution_count": 12,
   "metadata": {},
   "outputs": [],
   "source": [
    "df['class'] = df['class'].map(lambda x: classes.index(x))"
   ]
  },
  {
   "cell_type": "code",
   "execution_count": 13,
   "metadata": {},
   "outputs": [
    {
     "data": {
      "text/html": [
       "<div>\n",
       "<style scoped>\n",
       "    .dataframe tbody tr th:only-of-type {\n",
       "        vertical-align: middle;\n",
       "    }\n",
       "\n",
       "    .dataframe tbody tr th {\n",
       "        vertical-align: top;\n",
       "    }\n",
       "\n",
       "    .dataframe thead th {\n",
       "        text-align: right;\n",
       "    }\n",
       "</style>\n",
       "<table border=\"1\" class=\"dataframe\">\n",
       "  <thead>\n",
       "    <tr style=\"text-align: right;\">\n",
       "      <th></th>\n",
       "      <th>sepal_length</th>\n",
       "      <th>sepal_width</th>\n",
       "      <th>petal_length</th>\n",
       "      <th>petal_width</th>\n",
       "      <th>class</th>\n",
       "    </tr>\n",
       "  </thead>\n",
       "  <tbody>\n",
       "    <tr>\n",
       "      <th>0</th>\n",
       "      <td>5.1</td>\n",
       "      <td>3.5</td>\n",
       "      <td>1.4</td>\n",
       "      <td>0.2</td>\n",
       "      <td>0</td>\n",
       "    </tr>\n",
       "    <tr>\n",
       "      <th>1</th>\n",
       "      <td>4.9</td>\n",
       "      <td>3.0</td>\n",
       "      <td>1.4</td>\n",
       "      <td>0.2</td>\n",
       "      <td>0</td>\n",
       "    </tr>\n",
       "    <tr>\n",
       "      <th>2</th>\n",
       "      <td>4.7</td>\n",
       "      <td>3.2</td>\n",
       "      <td>1.3</td>\n",
       "      <td>0.2</td>\n",
       "      <td>0</td>\n",
       "    </tr>\n",
       "    <tr>\n",
       "      <th>3</th>\n",
       "      <td>4.6</td>\n",
       "      <td>3.1</td>\n",
       "      <td>1.5</td>\n",
       "      <td>0.2</td>\n",
       "      <td>0</td>\n",
       "    </tr>\n",
       "    <tr>\n",
       "      <th>4</th>\n",
       "      <td>5.0</td>\n",
       "      <td>3.6</td>\n",
       "      <td>1.4</td>\n",
       "      <td>0.2</td>\n",
       "      <td>0</td>\n",
       "    </tr>\n",
       "  </tbody>\n",
       "</table>\n",
       "</div>"
      ],
      "text/plain": [
       "   sepal_length  sepal_width  petal_length  petal_width  class\n",
       "0           5.1          3.5           1.4          0.2      0\n",
       "1           4.9          3.0           1.4          0.2      0\n",
       "2           4.7          3.2           1.3          0.2      0\n",
       "3           4.6          3.1           1.5          0.2      0\n",
       "4           5.0          3.6           1.4          0.2      0"
      ]
     },
     "execution_count": 13,
     "metadata": {},
     "output_type": "execute_result"
    }
   ],
   "source": [
    "df.head()"
   ]
  },
  {
   "cell_type": "code",
   "execution_count": 14,
   "metadata": {},
   "outputs": [],
   "source": [
    "iris_X=df[['sepal_length','sepal_width','petal_length','petal_width']].values.tolist()\n",
    "iris_y=df['class'].values.tolist() "
   ]
  },
  {
   "cell_type": "code",
   "execution_count": null,
   "metadata": {},
   "outputs": [],
   "source": []
  },
  {
   "cell_type": "code",
   "execution_count": 15,
   "metadata": {},
   "outputs": [],
   "source": [
    "\n",
    "#train_X, train_y"
   ]
  },
  {
   "cell_type": "code",
   "execution_count": 16,
   "metadata": {},
   "outputs": [],
   "source": [
    "selected_sample = random.sample(range(len(iris_y)), int(len(iris_y)*0.8))"
   ]
  },
  {
   "cell_type": "markdown",
   "metadata": {},
   "source": [
    "sample"
   ]
  },
  {
   "cell_type": "code",
   "execution_count": 17,
   "metadata": {},
   "outputs": [],
   "source": [
    "def elements_at_index(list1,index):\n",
    "    data=[]\n",
    "    for i in index:\n",
    "        data.append(list1[i])\n",
    "    return data"
   ]
  },
  {
   "cell_type": "code",
   "execution_count": 18,
   "metadata": {},
   "outputs": [],
   "source": [
    "train_X, train_y = elements_at_index(iris_X, selected_sample), elements_at_index(iris_y, selected_sample)"
   ]
  },
  {
   "cell_type": "code",
   "execution_count": 19,
   "metadata": {},
   "outputs": [
    {
     "name": "stdout",
     "output_type": "stream",
     "text": [
      "[2, 0, 2, 1, 0, 1, 1, 1, 2, 1, 1, 0, 1, 2, 0, 2, 0, 1, 2, 0, 1, 1, 0, 0, 2, 1, 1, 0, 0, 1, 1, 1, 0, 0, 1, 1, 2, 0, 2, 0, 0, 2, 1, 1, 1, 2, 2, 1, 1, 1, 1, 2, 0, 2, 2, 1, 1, 0, 2, 0, 2, 0, 1, 1, 2, 1, 1, 2, 1, 2, 2, 0, 0, 1, 0, 1, 2, 0, 1, 0, 0, 0, 0, 0, 2, 2, 0, 2, 2, 0, 1, 2, 1, 0, 0, 0, 2, 1, 0, 2, 1, 0, 1, 1, 0, 2, 0, 0, 0, 0, 2, 0, 1, 0, 1, 2, 2, 0, 1, 0]\n"
     ]
    }
   ],
   "source": [
    "model2= KNN()\n",
    "model2.fit(train_X,train_y)\n",
    "print(train_y)"
   ]
  },
  {
   "cell_type": "code",
   "execution_count": 20,
   "metadata": {},
   "outputs": [],
   "source": [
    "non_selected_sample = [i for i in range(len(iris_y)) if i not in selected_sample]"
   ]
  },
  {
   "cell_type": "code",
   "execution_count": 21,
   "metadata": {},
   "outputs": [],
   "source": [
    "success_count = 0\n",
    "fail_count = 0\n",
    "for i in non_selected_sample:\n",
    "    if model2.predict(iris_X[i],9)==iris_y[i]:\n",
    "        success_count+=1\n",
    "    else:\n",
    "        fail_count+=1"
   ]
  },
  {
   "cell_type": "code",
   "execution_count": 22,
   "metadata": {},
   "outputs": [
    {
     "name": "stdout",
     "output_type": "stream",
     "text": [
      "total = 30 success= 27 fail_count= 3 accuracy= 90.0\n"
     ]
    }
   ],
   "source": [
    "print('total =',len(non_selected_sample),'success=',success_count, 'fail_count=',fail_count, 'accuracy=',100*success_count/(len(non_selected_sample)))"
   ]
  },
  {
   "cell_type": "code",
   "execution_count": null,
   "metadata": {
    "collapsed": true
   },
   "outputs": [],
   "source": []
  },
  {
   "cell_type": "code",
   "execution_count": null,
   "metadata": {
    "collapsed": true
   },
   "outputs": [],
   "source": []
  },
  {
   "cell_type": "code",
   "execution_count": null,
   "metadata": {
    "collapsed": true
   },
   "outputs": [],
   "source": []
  }
 ],
 "metadata": {
  "kernelspec": {
   "display_name": "Python 3",
   "language": "python",
   "name": "python3"
  },
  "language_info": {
   "codemirror_mode": {
    "name": "ipython",
    "version": 3
   },
   "file_extension": ".py",
   "mimetype": "text/x-python",
   "name": "python",
   "nbconvert_exporter": "python",
   "pygments_lexer": "ipython3",
   "version": "3.6.4"
  }
 },
 "nbformat": 4,
 "nbformat_minor": 2
}
