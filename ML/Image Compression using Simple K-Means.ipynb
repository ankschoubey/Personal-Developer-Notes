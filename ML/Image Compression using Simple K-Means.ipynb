{
 "cells": [
  {
   "cell_type": "markdown",
   "metadata": {},
   "source": [
    "Content:\n",
    "    1. Simple K-Means Cluster on 2D data\n",
    "    2. General K-Means Cluster works with data of any dimension\n",
    "    3. Simple Image Compression (Don't use large image file)\n",
    "    4. Optimized Image Compression"
   ]
  },
  {
   "cell_type": "code",
   "execution_count": 1,
   "metadata": {},
   "outputs": [],
   "source": [
    "import random\n",
    "import math\n",
    "from tqdm import tnrange, tqdm_notebook\n",
    "from matplotlib import pyplot\n",
    "from pprint import pprint\n",
    "from functools import lru_cache\n",
    "def euclidian_distance(x1,y1,x2,y2):\n",
    "    return math.sqrt((y1-y2)**2 + (x1-x2)**2)\n",
    "\n",
    "def vector_addiction(vector1, vector2):\n",
    "    return [i+j for i,j in zip(vector1, vector2)]\n",
    "\n",
    "def scalar_multiplication(vector, scalar):\n",
    "    return [scalar*i for i in vector]\n",
    "\n",
    "def index_where_equals(vector, value):\n",
    "    return [i for i in range(len(vector)) if vector[i] == value]\n",
    "\n",
    "def random_list(no,minimum=0,maximum=100):\n",
    "    return [random.randint(minimum, maximum) for i in range(no)]\n",
    "\n",
    "def general_euclidian_distance(vector1, vector2):\n",
    "    temp = sum([(i-j)**2 for i,j in zip(vector1,vector2)])\n",
    "    return math.sqrt(temp)\n",
    "\n",
    "def get_column(matrix, column):\n",
    "    return list(map(lambda x: x[column], matrix))"
   ]
  },
  {
   "cell_type": "markdown",
   "metadata": {},
   "source": [
    "# 1. Simple K-Means Cluster on 2D data"
   ]
  },
  {
   "cell_type": "code",
   "execution_count": null,
   "metadata": {},
   "outputs": [],
   "source": [
    "class KMeans:\n",
    "    def __init__(self,clusters = 2):\n",
    "        self.clusters = clusters\n",
    "    \n",
    "    def fit(self ,x,y, iterations=5):\n",
    "        self.x = x\n",
    "        self.y = y\n",
    "        \n",
    "        x_min, x_max = min(x), max(x)\n",
    "        y_min, y_max = min(x), max(x)\n",
    "    \n",
    "        self.cluster_center = [[random.randint(x_min, x_max),random.randint(y_min, y_max )] for i in range(self.clusters)]\n",
    "\n",
    "        for i in range(iterations):\n",
    "            self.assign_cluster()\n",
    "            self.visualize(str(i)+'assign')\n",
    "            self.relocate_clusters()\n",
    "            self.visualize(str(i)+'relocate')\n",
    "        \n",
    "        self.assign_cluster()\n",
    "        \n",
    "    def slow_fit(self, x,y):\n",
    "        self.x = x\n",
    "        self.y = y\n",
    "        \n",
    "        x_min, x_max = min(x), max(x)\n",
    "        y_min, y_max = min(x), max(x)\n",
    "        \n",
    "    \n",
    "        self.cluster_center = [[random.randint(x_min, x_max),random.randint(y_min, y_max )] for i in range(self.clusters)]\n",
    "\n",
    "    def nearest_cluster(self,x,y):\n",
    "        min_cluster = None\n",
    "        min_distance = None\n",
    "        \n",
    "        for i in range(len(self.cluster_center)):\n",
    "            cluster_x, cluster_y = self.cluster_center[i]\n",
    "            \n",
    "            distance = euclidian_distance(cluster_x, cluster_y, x, y)\n",
    "            \n",
    "            if not min_distance or min_distance > distance:\n",
    "                min_distance = distance\n",
    "                min_cluster = i\n",
    "        \n",
    "        return min_cluster\n",
    "    \n",
    "    def assign_cluster(self):\n",
    "        self.cluster_assignment = []\n",
    "        \n",
    "        for i in range(len(self.x)):\n",
    "            self.cluster_assignment.append(self.nearest_cluster(self.x[i], self.y[i]))\n",
    "        \n",
    "        return self.cluster_assignment\n",
    "    \n",
    "    def relocate_clusters(self):\n",
    "        temp = {}\n",
    "        \n",
    "        no_of_points_in_cluster = {}\n",
    "        \n",
    "        for cluster_no,i,j in zip(self.cluster_assignment,x,y):\n",
    "            temp.setdefault(cluster_no,[0,0])\n",
    "            temp[cluster_no] = vector_addiction(temp[cluster_no],[i,j])\n",
    "            \n",
    "            no_of_points_in_cluster.setdefault(cluster_no, 0)\n",
    "            no_of_points_in_cluster[cluster_no] += 1\n",
    "        \n",
    "        for key, value in temp.items():\n",
    "            self.cluster_center[key] = scalar_multiplication(value, 1/no_of_points_in_cluster[key])\n",
    "        \n",
    "        return self.cluster_center\n",
    "    \n",
    "    def visualize(self, save_name = None):\n",
    "        graph = pyplot\n",
    "        graph.clf()\n",
    "        cluster_x = [i[0] for i in self.cluster_center]\n",
    "        cluster_y = [i[1] for i in self.cluster_center]\n",
    "        \n",
    "        colors = ['r', 'b', 'g', 'k', 'm']\n",
    "        markers = ['P','v','*','s','X']\n",
    "\n",
    "        for i in range(len(self.cluster_center)):\n",
    "            point_no = index_where_equals(self.cluster_assignment,i)\n",
    "            \n",
    "            x = [self.x[i] for i in point_no]\n",
    "            y = [self.y[i] for i in point_no]\n",
    "            graph.scatter(x, y, c= colors[i])\n",
    "\n",
    "            graph.scatter([cluster_x[i]], [cluster_y[i]],c=colors[i], marker = markers[i])\n",
    "        \n",
    "        \n",
    "        if save_name:\n",
    "            graph.title = save_name\n",
    "            graph.savefig('/Users/ankushchoubey/Desktop/'+str(save_name) +'.png')"
   ]
  },
  {
   "cell_type": "code",
   "execution_count": null,
   "metadata": {},
   "outputs": [],
   "source": [
    "no_of_points = 10\n",
    "x = random_list(no_of_points,0,40) + random_list(no_of_points,80,100) + random_list(no_of_points+10,0,1000)\n",
    "y = random_list(no_of_points,0,40) + random_list(no_of_points,80,100) + random_list(no_of_points+10,0,1000)\n",
    "\n",
    "\n",
    "print(x)\n",
    "print(y)\n",
    "engine = KMeans(3)\n",
    "engine.fit(x,y, 10)\n",
    "\n",
    "%matplotlib inline\n",
    "engine.visualize()"
   ]
  },
  {
   "cell_type": "markdown",
   "metadata": {},
   "source": [
    "# 2. General K-Means Cluster works with data of any dimension"
   ]
  },
  {
   "cell_type": "code",
   "execution_count": 2,
   "metadata": {},
   "outputs": [],
   "source": [
    "class General_KMeans:\n",
    "    def __init__(self,clusters = 2):\n",
    "        self.clusters = clusters\n",
    "    \n",
    "    def initial_cluster_center(self, k):\n",
    "        cluster_center = []\n",
    "        for b in range(k):\n",
    "            temp = []\n",
    "            for i, j in zip(self.min_values,self.max_values):\n",
    "                temp.append(random.randint(i, j))\n",
    "            cluster_center.append(temp)\n",
    "        return cluster_center\n",
    "        \n",
    "    def fit(self,X,iterations=5):\n",
    "        self.X = X\n",
    "        \n",
    "        self.transpose = [self.get_column(X,i) for i in range(len(X[0]))]\n",
    "        \n",
    "        self.min_values, self.max_values = [min(i) for i in X], [max(i) for i in X]\n",
    "\n",
    "        print('min/max',self.min_values, self.max_values)\n",
    "        self.no_of_dimension = len(X)\n",
    "        can_visualise = True if self.no_of_dimension == 2 else False\n",
    "        self.cluster_center = self.initial_cluster_center(self.clusters)\n",
    "\n",
    "        print('no of dimensions',self.no_of_dimension)\n",
    "        #print(self.cluster_center)\n",
    "        \n",
    "\n",
    "        for i in tqdm_notebook(range(iterations)):\n",
    "            self.assign_cluster()\n",
    "\n",
    "            if can_visualise:\n",
    "                self.visualize(str(i)+'assign')\n",
    "\n",
    "            self.relocate_clusters()\n",
    "            \n",
    "            if can_visualise:\n",
    "                self.visualize(str(i)+'relocate')\n",
    "            \n",
    "        self.assign_cluster()\n",
    "        if not can_visualise:\n",
    "            print('Can only visualise 2d data')\n",
    "        \n",
    "        del self.X\n",
    "        del self.transpose \n",
    "            \n",
    "        \n",
    "    def slow_fit(self, x,y):\n",
    "        self.x = x\n",
    "        self.y = y\n",
    "        \n",
    "        x_min, x_max = min(x), max(x)\n",
    "        y_min, y_max = min(x), max(x)\n",
    "    \n",
    "        self.cluster_center = [[random.randint(x_min, x_max),random.randint(y_min, y_max )] for i in range(self.clusters)]\n",
    "\n",
    "    def nearest_cluster(self,point):\n",
    "        min_cluster = None\n",
    "        min_distance = None\n",
    "        \n",
    "        for i in range(len(self.cluster_center)):\n",
    "            #cluster_x, cluster_y = self.cluster_center[i]\n",
    "            \n",
    "            distance = general_euclidian_distance(self.cluster_center[i], point)\n",
    "            \n",
    "            if not min_distance or min_distance > distance:\n",
    "                min_distance = distance\n",
    "                min_cluster = i\n",
    "        \n",
    "        return min_cluster\n",
    "    \n",
    "    def get_column(self,matrix, column):\n",
    "        return list(map(lambda x: x[column], matrix))\n",
    "    \n",
    "    def assign_cluster(self):\n",
    "        self.cluster_assignment = []\n",
    "        \n",
    "        for i in tqdm_notebook(range(len(self.X[0])),desc='assignming cluster centers'):\n",
    "            \n",
    "            point = self.get_column(self.X,i)\n",
    "            \n",
    "            self.cluster_assignment.append(self.nearest_cluster(point))\n",
    "        \n",
    "        return self.cluster_assignment\n",
    "    \n",
    "    def relocate_clusters(self):\n",
    "        temp = {}\n",
    "        \n",
    "        no_of_points_in_cluster = {}\n",
    "        \n",
    "        for cluster_no,vector2 in tqdm_notebook(zip(self.cluster_assignment,self.transpose), desc='relocating cluters'):\n",
    "            temp.setdefault(cluster_no,[0 for i in range(self.no_of_dimension)])\n",
    "            temp[cluster_no] = vector_addiction(temp[cluster_no],vector2)\n",
    "            \n",
    "            no_of_points_in_cluster.setdefault(cluster_no, 0)\n",
    "            no_of_points_in_cluster[cluster_no] += 1\n",
    "        \n",
    "        for key, value in temp.items():\n",
    "            self.cluster_center[key] = scalar_multiplication(value, 1/no_of_points_in_cluster[key])\n",
    "        \n",
    "        return self.cluster_center\n",
    "    \n",
    "    def visualize(self, save_name = None):\n",
    "        \n",
    "        if self.no_of_dimension !=2:\n",
    "            print('Can only visualise 2')\n",
    "            return\n",
    "        graph = pyplot\n",
    "        graph.clf()\n",
    "        cluster_x = [i[0] for i in self.cluster_center]\n",
    "        cluster_y = [i[1] for i in self.cluster_center]\n",
    "        \n",
    "        colors = ['r', 'b', 'g', 'k', 'm']\n",
    "        markers = ['P','v','*','s','X']\n",
    "\n",
    "        for i in range(len(self.cluster_center)):\n",
    "            point_no = index_where_equals(self.cluster_assignment,i)\n",
    "            \n",
    "            x = [self.X[0][i] for i in point_no]\n",
    "            y = [self.X[1][i] for i in point_no]\n",
    "            graph.scatter(x, y, c= colors[i])\n",
    "\n",
    "            graph.scatter([cluster_x[i]], [cluster_y[i]],c=colors[i], marker = markers[i])\n",
    "        \n",
    "        \n",
    "        if save_name:\n",
    "            graph.title = save_name\n",
    "            graph.savefig('/Users/ankushchoubey/Desktop/'+str(save_name) +'.png')"
   ]
  },
  {
   "cell_type": "code",
   "execution_count": null,
   "metadata": {},
   "outputs": [],
   "source": []
  },
  {
   "cell_type": "code",
   "execution_count": null,
   "metadata": {},
   "outputs": [],
   "source": []
  },
  {
   "cell_type": "code",
   "execution_count": null,
   "metadata": {},
   "outputs": [],
   "source": [
    "# check it step by step\n",
    "engine_general = General_KMeans(5)\n",
    "\n",
    "engine_general.fit([x,y])\n",
    "engine_general.cluster_assignment\n",
    "pprint(engine_general.cluster_center)\n",
    "print(engine_general.nearest_cluster([1,2]))"
   ]
  },
  {
   "cell_type": "markdown",
   "metadata": {},
   "source": [
    "# 3. Simple Image Compression (Don't use large image file)"
   ]
  },
  {
   "cell_type": "code",
   "execution_count": null,
   "metadata": {},
   "outputs": [],
   "source": [
    "no_of_colors = 16"
   ]
  },
  {
   "cell_type": "code",
   "execution_count": 3,
   "metadata": {},
   "outputs": [],
   "source": [
    "from PIL import Image"
   ]
  },
  {
   "cell_type": "code",
   "execution_count": 4,
   "metadata": {},
   "outputs": [],
   "source": [
    "image_large = Image.open('/Users/ankushchoubey/Downloads/large.jpg')\n",
    "#image.show()\n",
    "image_small = Image.open('/Users/ankushchoubey/Downloads/image.jpg')"
   ]
  },
  {
   "cell_type": "code",
   "execution_count": 37,
   "metadata": {},
   "outputs": [],
   "source": [
    "def compress(im, colors, iterations):\n",
    "    width, height = im.size\n",
    "    x_l,y_l,z_l = [],[],[]\n",
    "    \n",
    "    for i in tqdm_notebook(list(im.getdata()), desc='getting image data'):\n",
    "        x,y,z = i\n",
    "        x_l.append(x)\n",
    "        y_l.append(y)\n",
    "        z_l.append(z)\n",
    "    engine = General_KMeans(colors)\n",
    "    engine.fit([x_l,y_l,z_l],iterations=iterations)\n",
    "    \n",
    "    new_pixel_values = []\n",
    "    for i in tqdm_notebook(list(im.getdata())):\n",
    "        nearest_cluster = engine.nearest_cluster(list(i))\n",
    "        cluster_point = engine.cluster_center[nearest_cluster]\n",
    "        cluster_point = [int(i) for i in cluster_point]\n",
    "        change_color = tuple(cluster_point)\n",
    "        new_pixel_values.append(change_color)\n",
    "    im2 = Image.new(im.mode, im.size)\n",
    "    im2.putdata(new_pixel_values)\n",
    "    return im2"
   ]
  },
  {
   "cell_type": "code",
   "execution_count": 38,
   "metadata": {},
   "outputs": [
    {
     "data": {
      "application/vnd.jupyter.widget-view+json": {
       "model_id": "334fc3cf365847dd8d37b3b5df1eb7a4",
       "version_major": 2,
       "version_minor": 0
      },
      "text/html": [
       "<p>Failed to display Jupyter Widget of type <code>HBox</code>.</p>\n",
       "<p>\n",
       "  If you're reading this message in the Jupyter Notebook or JupyterLab Notebook, it may mean\n",
       "  that the widgets JavaScript is still loading. If this message persists, it\n",
       "  likely means that the widgets JavaScript library is either not installed or\n",
       "  not enabled. See the <a href=\"https://ipywidgets.readthedocs.io/en/stable/user_install.html\">Jupyter\n",
       "  Widgets Documentation</a> for setup instructions.\n",
       "</p>\n",
       "<p>\n",
       "  If you're reading this message in another frontend (for example, a static\n",
       "  rendering on GitHub or <a href=\"https://nbviewer.jupyter.org/\">NBViewer</a>),\n",
       "  it may mean that your frontend doesn't currently support widgets.\n",
       "</p>\n"
      ],
      "text/plain": [
       "HBox(children=(IntProgress(value=0, description='getting image data', max=265600), HTML(value='')))"
      ]
     },
     "metadata": {},
     "output_type": "display_data"
    },
    {
     "name": "stdout",
     "output_type": "stream",
     "text": [
      "\n",
      "min/max [0, 0, 0] [255, 255, 255]\n",
      "no of dimensions 3\n"
     ]
    },
    {
     "data": {
      "application/vnd.jupyter.widget-view+json": {
       "model_id": "861e8e97cdc9461b86a704e0f799be95",
       "version_major": 2,
       "version_minor": 0
      },
      "text/html": [
       "<p>Failed to display Jupyter Widget of type <code>HBox</code>.</p>\n",
       "<p>\n",
       "  If you're reading this message in the Jupyter Notebook or JupyterLab Notebook, it may mean\n",
       "  that the widgets JavaScript is still loading. If this message persists, it\n",
       "  likely means that the widgets JavaScript library is either not installed or\n",
       "  not enabled. See the <a href=\"https://ipywidgets.readthedocs.io/en/stable/user_install.html\">Jupyter\n",
       "  Widgets Documentation</a> for setup instructions.\n",
       "</p>\n",
       "<p>\n",
       "  If you're reading this message in another frontend (for example, a static\n",
       "  rendering on GitHub or <a href=\"https://nbviewer.jupyter.org/\">NBViewer</a>),\n",
       "  it may mean that your frontend doesn't currently support widgets.\n",
       "</p>\n"
      ],
      "text/plain": [
       "HBox(children=(IntProgress(value=0, max=5), HTML(value='')))"
      ]
     },
     "metadata": {},
     "output_type": "display_data"
    },
    {
     "data": {
      "application/vnd.jupyter.widget-view+json": {
       "model_id": "9e243b39c84a479ca86a617bab9356a3",
       "version_major": 2,
       "version_minor": 0
      },
      "text/html": [
       "<p>Failed to display Jupyter Widget of type <code>HBox</code>.</p>\n",
       "<p>\n",
       "  If you're reading this message in the Jupyter Notebook or JupyterLab Notebook, it may mean\n",
       "  that the widgets JavaScript is still loading. If this message persists, it\n",
       "  likely means that the widgets JavaScript library is either not installed or\n",
       "  not enabled. See the <a href=\"https://ipywidgets.readthedocs.io/en/stable/user_install.html\">Jupyter\n",
       "  Widgets Documentation</a> for setup instructions.\n",
       "</p>\n",
       "<p>\n",
       "  If you're reading this message in another frontend (for example, a static\n",
       "  rendering on GitHub or <a href=\"https://nbviewer.jupyter.org/\">NBViewer</a>),\n",
       "  it may mean that your frontend doesn't currently support widgets.\n",
       "</p>\n"
      ],
      "text/plain": [
       "HBox(children=(IntProgress(value=0, description='assignming cluster centers', max=265600), HTML(value='')))"
      ]
     },
     "metadata": {},
     "output_type": "display_data"
    },
    {
     "data": {
      "application/vnd.jupyter.widget-view+json": {
       "model_id": "69ec69bfa6934779956429e95a60ab45",
       "version_major": 2,
       "version_minor": 0
      },
      "text/html": [
       "<p>Failed to display Jupyter Widget of type <code>HBox</code>.</p>\n",
       "<p>\n",
       "  If you're reading this message in the Jupyter Notebook or JupyterLab Notebook, it may mean\n",
       "  that the widgets JavaScript is still loading. If this message persists, it\n",
       "  likely means that the widgets JavaScript library is either not installed or\n",
       "  not enabled. See the <a href=\"https://ipywidgets.readthedocs.io/en/stable/user_install.html\">Jupyter\n",
       "  Widgets Documentation</a> for setup instructions.\n",
       "</p>\n",
       "<p>\n",
       "  If you're reading this message in another frontend (for example, a static\n",
       "  rendering on GitHub or <a href=\"https://nbviewer.jupyter.org/\">NBViewer</a>),\n",
       "  it may mean that your frontend doesn't currently support widgets.\n",
       "</p>\n"
      ],
      "text/plain": [
       "HBox(children=(IntProgress(value=1, bar_style='info', description='relocating cluters', max=1), HTML(value='')))"
      ]
     },
     "metadata": {},
     "output_type": "display_data"
    },
    {
     "data": {
      "application/vnd.jupyter.widget-view+json": {
       "model_id": "9f9d6424e7d74ddea42afe852905119c",
       "version_major": 2,
       "version_minor": 0
      },
      "text/html": [
       "<p>Failed to display Jupyter Widget of type <code>HBox</code>.</p>\n",
       "<p>\n",
       "  If you're reading this message in the Jupyter Notebook or JupyterLab Notebook, it may mean\n",
       "  that the widgets JavaScript is still loading. If this message persists, it\n",
       "  likely means that the widgets JavaScript library is either not installed or\n",
       "  not enabled. See the <a href=\"https://ipywidgets.readthedocs.io/en/stable/user_install.html\">Jupyter\n",
       "  Widgets Documentation</a> for setup instructions.\n",
       "</p>\n",
       "<p>\n",
       "  If you're reading this message in another frontend (for example, a static\n",
       "  rendering on GitHub or <a href=\"https://nbviewer.jupyter.org/\">NBViewer</a>),\n",
       "  it may mean that your frontend doesn't currently support widgets.\n",
       "</p>\n"
      ],
      "text/plain": [
       "HBox(children=(IntProgress(value=0, description='assignming cluster centers', max=265600), HTML(value='')))"
      ]
     },
     "metadata": {},
     "output_type": "display_data"
    },
    {
     "ename": "KeyboardInterrupt",
     "evalue": "",
     "output_type": "error",
     "traceback": [
      "\u001b[0;31m---------------------------------------------------------------------------\u001b[0m",
      "\u001b[0;31mKeyboardInterrupt\u001b[0m                         Traceback (most recent call last)",
      "\u001b[0;32m<ipython-input-38-7415d208f877>\u001b[0m in \u001b[0;36m<module>\u001b[0;34m()\u001b[0m\n\u001b[0;32m----> 1\u001b[0;31m \u001b[0ma\u001b[0m \u001b[0;34m=\u001b[0m \u001b[0mcompress\u001b[0m\u001b[0;34m(\u001b[0m\u001b[0mimage_small\u001b[0m\u001b[0;34m,\u001b[0m\u001b[0;36m16\u001b[0m\u001b[0;34m,\u001b[0m\u001b[0;36m5\u001b[0m\u001b[0;34m)\u001b[0m\u001b[0;34m\u001b[0m\u001b[0m\n\u001b[0m",
      "\u001b[0;32m<ipython-input-37-ab783f09f36b>\u001b[0m in \u001b[0;36mcompress\u001b[0;34m(im, colors, iterations)\u001b[0m\n\u001b[1;32m      9\u001b[0m         \u001b[0mz_l\u001b[0m\u001b[0;34m.\u001b[0m\u001b[0mappend\u001b[0m\u001b[0;34m(\u001b[0m\u001b[0mz\u001b[0m\u001b[0;34m)\u001b[0m\u001b[0;34m\u001b[0m\u001b[0m\n\u001b[1;32m     10\u001b[0m     \u001b[0mengine\u001b[0m \u001b[0;34m=\u001b[0m \u001b[0mGeneral_KMeans\u001b[0m\u001b[0;34m(\u001b[0m\u001b[0mcolors\u001b[0m\u001b[0;34m)\u001b[0m\u001b[0;34m\u001b[0m\u001b[0m\n\u001b[0;32m---> 11\u001b[0;31m     \u001b[0mengine\u001b[0m\u001b[0;34m.\u001b[0m\u001b[0mfit\u001b[0m\u001b[0;34m(\u001b[0m\u001b[0;34m[\u001b[0m\u001b[0mx_l\u001b[0m\u001b[0;34m,\u001b[0m\u001b[0my_l\u001b[0m\u001b[0;34m,\u001b[0m\u001b[0mz_l\u001b[0m\u001b[0;34m]\u001b[0m\u001b[0;34m,\u001b[0m\u001b[0miterations\u001b[0m\u001b[0;34m=\u001b[0m\u001b[0miterations\u001b[0m\u001b[0;34m)\u001b[0m\u001b[0;34m\u001b[0m\u001b[0m\n\u001b[0m\u001b[1;32m     12\u001b[0m \u001b[0;34m\u001b[0m\u001b[0m\n\u001b[1;32m     13\u001b[0m     \u001b[0mnew_pixel_values\u001b[0m \u001b[0;34m=\u001b[0m \u001b[0;34m[\u001b[0m\u001b[0;34m]\u001b[0m\u001b[0;34m\u001b[0m\u001b[0m\n",
      "\u001b[0;32m<ipython-input-2-1407b86f179e>\u001b[0m in \u001b[0;36mfit\u001b[0;34m(self, X, iterations)\u001b[0m\n\u001b[1;32m     29\u001b[0m \u001b[0;34m\u001b[0m\u001b[0m\n\u001b[1;32m     30\u001b[0m         \u001b[0;32mfor\u001b[0m \u001b[0mi\u001b[0m \u001b[0;32min\u001b[0m \u001b[0mtqdm_notebook\u001b[0m\u001b[0;34m(\u001b[0m\u001b[0mrange\u001b[0m\u001b[0;34m(\u001b[0m\u001b[0miterations\u001b[0m\u001b[0;34m)\u001b[0m\u001b[0;34m)\u001b[0m\u001b[0;34m:\u001b[0m\u001b[0;34m\u001b[0m\u001b[0m\n\u001b[0;32m---> 31\u001b[0;31m             \u001b[0mself\u001b[0m\u001b[0;34m.\u001b[0m\u001b[0massign_cluster\u001b[0m\u001b[0;34m(\u001b[0m\u001b[0;34m)\u001b[0m\u001b[0;34m\u001b[0m\u001b[0m\n\u001b[0m\u001b[1;32m     32\u001b[0m \u001b[0;34m\u001b[0m\u001b[0m\n\u001b[1;32m     33\u001b[0m             \u001b[0;32mif\u001b[0m \u001b[0mcan_visualise\u001b[0m\u001b[0;34m:\u001b[0m\u001b[0;34m\u001b[0m\u001b[0m\n",
      "\u001b[0;32m<ipython-input-2-1407b86f179e>\u001b[0m in \u001b[0;36massign_cluster\u001b[0;34m(self)\u001b[0m\n\u001b[1;32m     81\u001b[0m             \u001b[0mpoint\u001b[0m \u001b[0;34m=\u001b[0m \u001b[0mself\u001b[0m\u001b[0;34m.\u001b[0m\u001b[0mget_column\u001b[0m\u001b[0;34m(\u001b[0m\u001b[0mself\u001b[0m\u001b[0;34m.\u001b[0m\u001b[0mX\u001b[0m\u001b[0;34m,\u001b[0m\u001b[0mi\u001b[0m\u001b[0;34m)\u001b[0m\u001b[0;34m\u001b[0m\u001b[0m\n\u001b[1;32m     82\u001b[0m \u001b[0;34m\u001b[0m\u001b[0m\n\u001b[0;32m---> 83\u001b[0;31m             \u001b[0mself\u001b[0m\u001b[0;34m.\u001b[0m\u001b[0mcluster_assignment\u001b[0m\u001b[0;34m.\u001b[0m\u001b[0mappend\u001b[0m\u001b[0;34m(\u001b[0m\u001b[0mself\u001b[0m\u001b[0;34m.\u001b[0m\u001b[0mnearest_cluster\u001b[0m\u001b[0;34m(\u001b[0m\u001b[0mpoint\u001b[0m\u001b[0;34m)\u001b[0m\u001b[0;34m)\u001b[0m\u001b[0;34m\u001b[0m\u001b[0m\n\u001b[0m\u001b[1;32m     84\u001b[0m \u001b[0;34m\u001b[0m\u001b[0m\n\u001b[1;32m     85\u001b[0m         \u001b[0;32mreturn\u001b[0m \u001b[0mself\u001b[0m\u001b[0;34m.\u001b[0m\u001b[0mcluster_assignment\u001b[0m\u001b[0;34m\u001b[0m\u001b[0m\n",
      "\u001b[0;32m<ipython-input-2-1407b86f179e>\u001b[0m in \u001b[0;36mnearest_cluster\u001b[0;34m(self, point)\u001b[0m\n\u001b[1;32m     63\u001b[0m             \u001b[0;31m#cluster_x, cluster_y = self.cluster_center[i]\u001b[0m\u001b[0;34m\u001b[0m\u001b[0;34m\u001b[0m\u001b[0m\n\u001b[1;32m     64\u001b[0m \u001b[0;34m\u001b[0m\u001b[0m\n\u001b[0;32m---> 65\u001b[0;31m             \u001b[0mdistance\u001b[0m \u001b[0;34m=\u001b[0m \u001b[0mgeneral_euclidian_distance\u001b[0m\u001b[0;34m(\u001b[0m\u001b[0mself\u001b[0m\u001b[0;34m.\u001b[0m\u001b[0mcluster_center\u001b[0m\u001b[0;34m[\u001b[0m\u001b[0mi\u001b[0m\u001b[0;34m]\u001b[0m\u001b[0;34m,\u001b[0m \u001b[0mpoint\u001b[0m\u001b[0;34m)\u001b[0m\u001b[0;34m\u001b[0m\u001b[0m\n\u001b[0m\u001b[1;32m     66\u001b[0m \u001b[0;34m\u001b[0m\u001b[0m\n\u001b[1;32m     67\u001b[0m             \u001b[0;32mif\u001b[0m \u001b[0;32mnot\u001b[0m \u001b[0mmin_distance\u001b[0m \u001b[0;32mor\u001b[0m \u001b[0mmin_distance\u001b[0m \u001b[0;34m>\u001b[0m \u001b[0mdistance\u001b[0m\u001b[0;34m:\u001b[0m\u001b[0;34m\u001b[0m\u001b[0m\n",
      "\u001b[0;32m<ipython-input-1-c409169efa6b>\u001b[0m in \u001b[0;36mgeneral_euclidian_distance\u001b[0;34m(vector1, vector2)\u001b[0m\n\u001b[1;32m     21\u001b[0m \u001b[0;34m\u001b[0m\u001b[0m\n\u001b[1;32m     22\u001b[0m \u001b[0;32mdef\u001b[0m \u001b[0mgeneral_euclidian_distance\u001b[0m\u001b[0;34m(\u001b[0m\u001b[0mvector1\u001b[0m\u001b[0;34m,\u001b[0m \u001b[0mvector2\u001b[0m\u001b[0;34m)\u001b[0m\u001b[0;34m:\u001b[0m\u001b[0;34m\u001b[0m\u001b[0m\n\u001b[0;32m---> 23\u001b[0;31m     \u001b[0mtemp\u001b[0m \u001b[0;34m=\u001b[0m \u001b[0msum\u001b[0m\u001b[0;34m(\u001b[0m\u001b[0;34m[\u001b[0m\u001b[0;34m(\u001b[0m\u001b[0mi\u001b[0m\u001b[0;34m-\u001b[0m\u001b[0mj\u001b[0m\u001b[0;34m)\u001b[0m\u001b[0;34m**\u001b[0m\u001b[0;36m2\u001b[0m \u001b[0;32mfor\u001b[0m \u001b[0mi\u001b[0m\u001b[0;34m,\u001b[0m\u001b[0mj\u001b[0m \u001b[0;32min\u001b[0m \u001b[0mzip\u001b[0m\u001b[0;34m(\u001b[0m\u001b[0mvector1\u001b[0m\u001b[0;34m,\u001b[0m\u001b[0mvector2\u001b[0m\u001b[0;34m)\u001b[0m\u001b[0;34m]\u001b[0m\u001b[0;34m)\u001b[0m\u001b[0;34m\u001b[0m\u001b[0m\n\u001b[0m\u001b[1;32m     24\u001b[0m     \u001b[0;32mreturn\u001b[0m \u001b[0mmath\u001b[0m\u001b[0;34m.\u001b[0m\u001b[0msqrt\u001b[0m\u001b[0;34m(\u001b[0m\u001b[0mtemp\u001b[0m\u001b[0;34m)\u001b[0m\u001b[0;34m\u001b[0m\u001b[0m\n\u001b[1;32m     25\u001b[0m \u001b[0;34m\u001b[0m\u001b[0m\n",
      "\u001b[0;32m<ipython-input-1-c409169efa6b>\u001b[0m in \u001b[0;36m<listcomp>\u001b[0;34m(.0)\u001b[0m\n\u001b[1;32m     21\u001b[0m \u001b[0;34m\u001b[0m\u001b[0m\n\u001b[1;32m     22\u001b[0m \u001b[0;32mdef\u001b[0m \u001b[0mgeneral_euclidian_distance\u001b[0m\u001b[0;34m(\u001b[0m\u001b[0mvector1\u001b[0m\u001b[0;34m,\u001b[0m \u001b[0mvector2\u001b[0m\u001b[0;34m)\u001b[0m\u001b[0;34m:\u001b[0m\u001b[0;34m\u001b[0m\u001b[0m\n\u001b[0;32m---> 23\u001b[0;31m     \u001b[0mtemp\u001b[0m \u001b[0;34m=\u001b[0m \u001b[0msum\u001b[0m\u001b[0;34m(\u001b[0m\u001b[0;34m[\u001b[0m\u001b[0;34m(\u001b[0m\u001b[0mi\u001b[0m\u001b[0;34m-\u001b[0m\u001b[0mj\u001b[0m\u001b[0;34m)\u001b[0m\u001b[0;34m**\u001b[0m\u001b[0;36m2\u001b[0m \u001b[0;32mfor\u001b[0m \u001b[0mi\u001b[0m\u001b[0;34m,\u001b[0m\u001b[0mj\u001b[0m \u001b[0;32min\u001b[0m \u001b[0mzip\u001b[0m\u001b[0;34m(\u001b[0m\u001b[0mvector1\u001b[0m\u001b[0;34m,\u001b[0m\u001b[0mvector2\u001b[0m\u001b[0;34m)\u001b[0m\u001b[0;34m]\u001b[0m\u001b[0;34m)\u001b[0m\u001b[0;34m\u001b[0m\u001b[0m\n\u001b[0m\u001b[1;32m     24\u001b[0m     \u001b[0;32mreturn\u001b[0m \u001b[0mmath\u001b[0m\u001b[0;34m.\u001b[0m\u001b[0msqrt\u001b[0m\u001b[0;34m(\u001b[0m\u001b[0mtemp\u001b[0m\u001b[0;34m)\u001b[0m\u001b[0;34m\u001b[0m\u001b[0m\n\u001b[1;32m     25\u001b[0m \u001b[0;34m\u001b[0m\u001b[0m\n",
      "\u001b[0;31mKeyboardInterrupt\u001b[0m: "
     ]
    }
   ],
   "source": [
    "a = compress(image_small,16,5)"
   ]
  },
  {
   "cell_type": "code",
   "execution_count": null,
   "metadata": {},
   "outputs": [],
   "source": [
    "a.show()\n",
    "a.save('/Users/ankushchoubey/Downloads/compressed.jpg')"
   ]
  },
  {
   "cell_type": "markdown",
   "metadata": {},
   "source": [
    "# 4. Optimized Image Compression"
   ]
  },
  {
   "cell_type": "code",
   "execution_count": 33,
   "metadata": {},
   "outputs": [],
   "source": [
    "def min_max_scaling(x, x_min, x_max,new_x_min,new_x_max):\n",
    "    return (x - x_min)*(new_x_max-new_x_min)/(x_max-x_min) + new_x_min\n",
    "@lru_cache(maxsize=256)\n",
    "def scale8_bit(no):\n",
    "    return int((no*6/256)*36)"
   ]
  },
  {
   "cell_type": "code",
   "execution_count": 55,
   "metadata": {},
   "outputs": [],
   "source": [
    "class ImageCompress:\n",
    "    @lru_cache()\n",
    "    def min_max_scaling(self,x):\n",
    "        return (x - self.mini)*self.product_factor + self.range_start\n",
    "    @lru_cache(maxsize=520800)\n",
    "    def nearest_color(self, r,g,b):\n",
    "        cluster_at_index = self.kmeans.nearest_cluster([r,g,b])\n",
    "        cluster_point = self.kmeans.cluster_center[cluster_at_index]\n",
    "        return tuple([int(i) for i in cluster_point])\n",
    "    def fit(self, image,no_of_colors,iterations, quality=0.1):\n",
    "        width, height = image.size\n",
    "        colors = image.getcolors(width*height)\n",
    "        \n",
    "        no = get_column(colors,0)\n",
    "        scaled_version = []\n",
    "        \n",
    "        self.mini = min(no)\n",
    "        self.maxi = max(no)\n",
    "        \n",
    "        self.range_start = 0\n",
    "        self.range_end = self.maxi*quality\n",
    "        \n",
    "        self.product_factor = (self.range_end-self.range_start)/(self.maxi-self.mini)\n",
    "        \n",
    "        for i in tqdm_notebook(no, desc='Scaling Values'):\n",
    "             scaled_version.append(int(self.min_max_scaling(i)))\n",
    "\n",
    "        self.min_max_scaling.cache_clear()\n",
    "        x_l,y_l,z_l=[],[],[]\n",
    "        for i in tqdm_notebook(range(len(scaled_version)), desc='getting image data'):\n",
    "            if scaled_version[i]==0:\n",
    "                continue\n",
    "            \n",
    "            for j in range(scaled_version[i]):\n",
    "                x,y,z = colors[i][1]\n",
    "                x, y,z = scale8_bit(x), scale8_bit(y),scale8_bit(z)\n",
    "                x_l.append(x)\n",
    "                y_l.append(y)\n",
    "                z_l.append(z)\n",
    "                \n",
    "        self.kmeans = General_KMeans(no_of_colors)\n",
    "        self.kmeans.fit([x_l,y_l,z_l],iterations=iterations)\n",
    "        del x_l, y_l, z_l\n",
    "        new_pixel_values=[]\n",
    "        \n",
    "        for i in tqdm_notebook(list(image.getdata())):\n",
    "            change_color = self.nearest_color(i[0],i[1],i[2])\n",
    "            new_pixel_values.append(change_color)\n",
    "        self.nearest_color.cache_clear()\n",
    "        im2 = Image.new(image.mode, image.size)\n",
    "        im2.putdata(new_pixel_values)\n",
    "        \n",
    "        return im2"
   ]
  },
  {
   "cell_type": "code",
   "execution_count": null,
   "metadata": {},
   "outputs": [],
   "source": []
  },
  {
   "cell_type": "code",
   "execution_count": null,
   "metadata": {},
   "outputs": [],
   "source": []
  },
  {
   "cell_type": "code",
   "execution_count": 56,
   "metadata": {},
   "outputs": [
    {
     "data": {
      "application/vnd.jupyter.widget-view+json": {
       "model_id": "71d00b9a7269460f8d3a2790fdf85e04",
       "version_major": 2,
       "version_minor": 0
      },
      "text/html": [
       "<p>Failed to display Jupyter Widget of type <code>HBox</code>.</p>\n",
       "<p>\n",
       "  If you're reading this message in the Jupyter Notebook or JupyterLab Notebook, it may mean\n",
       "  that the widgets JavaScript is still loading. If this message persists, it\n",
       "  likely means that the widgets JavaScript library is either not installed or\n",
       "  not enabled. See the <a href=\"https://ipywidgets.readthedocs.io/en/stable/user_install.html\">Jupyter\n",
       "  Widgets Documentation</a> for setup instructions.\n",
       "</p>\n",
       "<p>\n",
       "  If you're reading this message in another frontend (for example, a static\n",
       "  rendering on GitHub or <a href=\"https://nbviewer.jupyter.org/\">NBViewer</a>),\n",
       "  it may mean that your frontend doesn't currently support widgets.\n",
       "</p>\n"
      ],
      "text/plain": [
       "HBox(children=(IntProgress(value=0, description='Scaling Values', max=281967), HTML(value='')))"
      ]
     },
     "metadata": {},
     "output_type": "display_data"
    },
    {
     "name": "stdout",
     "output_type": "stream",
     "text": [
      "\n"
     ]
    },
    {
     "data": {
      "application/vnd.jupyter.widget-view+json": {
       "model_id": "ff606b7ba04244a49103f0271662cd9a",
       "version_major": 2,
       "version_minor": 0
      },
      "text/html": [
       "<p>Failed to display Jupyter Widget of type <code>HBox</code>.</p>\n",
       "<p>\n",
       "  If you're reading this message in the Jupyter Notebook or JupyterLab Notebook, it may mean\n",
       "  that the widgets JavaScript is still loading. If this message persists, it\n",
       "  likely means that the widgets JavaScript library is either not installed or\n",
       "  not enabled. See the <a href=\"https://ipywidgets.readthedocs.io/en/stable/user_install.html\">Jupyter\n",
       "  Widgets Documentation</a> for setup instructions.\n",
       "</p>\n",
       "<p>\n",
       "  If you're reading this message in another frontend (for example, a static\n",
       "  rendering on GitHub or <a href=\"https://nbviewer.jupyter.org/\">NBViewer</a>),\n",
       "  it may mean that your frontend doesn't currently support widgets.\n",
       "</p>\n"
      ],
      "text/plain": [
       "HBox(children=(IntProgress(value=0, description='getting image data', max=281967), HTML(value='')))"
      ]
     },
     "metadata": {},
     "output_type": "display_data"
    },
    {
     "name": "stdout",
     "output_type": "stream",
     "text": [
      "\n",
      "min/max [0, 0, 0] [215, 215, 215]\n",
      "no of dimensions 3\n"
     ]
    },
    {
     "data": {
      "application/vnd.jupyter.widget-view+json": {
       "model_id": "ab885b3d91494c9e8275d9a9191d0e81",
       "version_major": 2,
       "version_minor": 0
      },
      "text/html": [
       "<p>Failed to display Jupyter Widget of type <code>HBox</code>.</p>\n",
       "<p>\n",
       "  If you're reading this message in the Jupyter Notebook or JupyterLab Notebook, it may mean\n",
       "  that the widgets JavaScript is still loading. If this message persists, it\n",
       "  likely means that the widgets JavaScript library is either not installed or\n",
       "  not enabled. See the <a href=\"https://ipywidgets.readthedocs.io/en/stable/user_install.html\">Jupyter\n",
       "  Widgets Documentation</a> for setup instructions.\n",
       "</p>\n",
       "<p>\n",
       "  If you're reading this message in another frontend (for example, a static\n",
       "  rendering on GitHub or <a href=\"https://nbviewer.jupyter.org/\">NBViewer</a>),\n",
       "  it may mean that your frontend doesn't currently support widgets.\n",
       "</p>\n"
      ],
      "text/plain": [
       "HBox(children=(IntProgress(value=0, max=2), HTML(value='')))"
      ]
     },
     "metadata": {},
     "output_type": "display_data"
    },
    {
     "data": {
      "application/vnd.jupyter.widget-view+json": {
       "model_id": "b320ab67570541b3b748f8a453d6c1b1",
       "version_major": 2,
       "version_minor": 0
      },
      "text/html": [
       "<p>Failed to display Jupyter Widget of type <code>HBox</code>.</p>\n",
       "<p>\n",
       "  If you're reading this message in the Jupyter Notebook or JupyterLab Notebook, it may mean\n",
       "  that the widgets JavaScript is still loading. If this message persists, it\n",
       "  likely means that the widgets JavaScript library is either not installed or\n",
       "  not enabled. See the <a href=\"https://ipywidgets.readthedocs.io/en/stable/user_install.html\">Jupyter\n",
       "  Widgets Documentation</a> for setup instructions.\n",
       "</p>\n",
       "<p>\n",
       "  If you're reading this message in another frontend (for example, a static\n",
       "  rendering on GitHub or <a href=\"https://nbviewer.jupyter.org/\">NBViewer</a>),\n",
       "  it may mean that your frontend doesn't currently support widgets.\n",
       "</p>\n"
      ],
      "text/plain": [
       "HBox(children=(IntProgress(value=0, description='assignming cluster centers', max=217643), HTML(value='')))"
      ]
     },
     "metadata": {},
     "output_type": "display_data"
    },
    {
     "data": {
      "application/vnd.jupyter.widget-view+json": {
       "model_id": "ba8491e0b0bc4961828062f432d2cfaf",
       "version_major": 2,
       "version_minor": 0
      },
      "text/html": [
       "<p>Failed to display Jupyter Widget of type <code>HBox</code>.</p>\n",
       "<p>\n",
       "  If you're reading this message in the Jupyter Notebook or JupyterLab Notebook, it may mean\n",
       "  that the widgets JavaScript is still loading. If this message persists, it\n",
       "  likely means that the widgets JavaScript library is either not installed or\n",
       "  not enabled. See the <a href=\"https://ipywidgets.readthedocs.io/en/stable/user_install.html\">Jupyter\n",
       "  Widgets Documentation</a> for setup instructions.\n",
       "</p>\n",
       "<p>\n",
       "  If you're reading this message in another frontend (for example, a static\n",
       "  rendering on GitHub or <a href=\"https://nbviewer.jupyter.org/\">NBViewer</a>),\n",
       "  it may mean that your frontend doesn't currently support widgets.\n",
       "</p>\n"
      ],
      "text/plain": [
       "HBox(children=(IntProgress(value=1, bar_style='info', description='relocating cluters', max=1), HTML(value='')))"
      ]
     },
     "metadata": {},
     "output_type": "display_data"
    },
    {
     "data": {
      "application/vnd.jupyter.widget-view+json": {
       "model_id": "f54efd26cc0f4a3bbe95b1b2152a5d93",
       "version_major": 2,
       "version_minor": 0
      },
      "text/html": [
       "<p>Failed to display Jupyter Widget of type <code>HBox</code>.</p>\n",
       "<p>\n",
       "  If you're reading this message in the Jupyter Notebook or JupyterLab Notebook, it may mean\n",
       "  that the widgets JavaScript is still loading. If this message persists, it\n",
       "  likely means that the widgets JavaScript library is either not installed or\n",
       "  not enabled. See the <a href=\"https://ipywidgets.readthedocs.io/en/stable/user_install.html\">Jupyter\n",
       "  Widgets Documentation</a> for setup instructions.\n",
       "</p>\n",
       "<p>\n",
       "  If you're reading this message in another frontend (for example, a static\n",
       "  rendering on GitHub or <a href=\"https://nbviewer.jupyter.org/\">NBViewer</a>),\n",
       "  it may mean that your frontend doesn't currently support widgets.\n",
       "</p>\n"
      ],
      "text/plain": [
       "HBox(children=(IntProgress(value=0, description='assignming cluster centers', max=217643), HTML(value='')))"
      ]
     },
     "metadata": {},
     "output_type": "display_data"
    },
    {
     "data": {
      "application/vnd.jupyter.widget-view+json": {
       "model_id": "3bbaa1c19c5b44eb80c130d8f37b7bdc",
       "version_major": 2,
       "version_minor": 0
      },
      "text/html": [
       "<p>Failed to display Jupyter Widget of type <code>HBox</code>.</p>\n",
       "<p>\n",
       "  If you're reading this message in the Jupyter Notebook or JupyterLab Notebook, it may mean\n",
       "  that the widgets JavaScript is still loading. If this message persists, it\n",
       "  likely means that the widgets JavaScript library is either not installed or\n",
       "  not enabled. See the <a href=\"https://ipywidgets.readthedocs.io/en/stable/user_install.html\">Jupyter\n",
       "  Widgets Documentation</a> for setup instructions.\n",
       "</p>\n",
       "<p>\n",
       "  If you're reading this message in another frontend (for example, a static\n",
       "  rendering on GitHub or <a href=\"https://nbviewer.jupyter.org/\">NBViewer</a>),\n",
       "  it may mean that your frontend doesn't currently support widgets.\n",
       "</p>\n"
      ],
      "text/plain": [
       "HBox(children=(IntProgress(value=1, bar_style='info', description='relocating cluters', max=1), HTML(value='')))"
      ]
     },
     "metadata": {},
     "output_type": "display_data"
    },
    {
     "name": "stdout",
     "output_type": "stream",
     "text": [
      "\n"
     ]
    },
    {
     "data": {
      "application/vnd.jupyter.widget-view+json": {
       "model_id": "c922a6dedd3b41039f61a20be34c6c14",
       "version_major": 2,
       "version_minor": 0
      },
      "text/html": [
       "<p>Failed to display Jupyter Widget of type <code>HBox</code>.</p>\n",
       "<p>\n",
       "  If you're reading this message in the Jupyter Notebook or JupyterLab Notebook, it may mean\n",
       "  that the widgets JavaScript is still loading. If this message persists, it\n",
       "  likely means that the widgets JavaScript library is either not installed or\n",
       "  not enabled. See the <a href=\"https://ipywidgets.readthedocs.io/en/stable/user_install.html\">Jupyter\n",
       "  Widgets Documentation</a> for setup instructions.\n",
       "</p>\n",
       "<p>\n",
       "  If you're reading this message in another frontend (for example, a static\n",
       "  rendering on GitHub or <a href=\"https://nbviewer.jupyter.org/\">NBViewer</a>),\n",
       "  it may mean that your frontend doesn't currently support widgets.\n",
       "</p>\n"
      ],
      "text/plain": [
       "HBox(children=(IntProgress(value=0, description='assignming cluster centers', max=217643), HTML(value='')))"
      ]
     },
     "metadata": {},
     "output_type": "display_data"
    },
    {
     "name": "stdout",
     "output_type": "stream",
     "text": [
      "\n",
      "Can only visualise 2d data\n"
     ]
    },
    {
     "data": {
      "application/vnd.jupyter.widget-view+json": {
       "model_id": "6d7e27da402044698625768e8e8819a5",
       "version_major": 2,
       "version_minor": 0
      },
      "text/html": [
       "<p>Failed to display Jupyter Widget of type <code>HBox</code>.</p>\n",
       "<p>\n",
       "  If you're reading this message in the Jupyter Notebook or JupyterLab Notebook, it may mean\n",
       "  that the widgets JavaScript is still loading. If this message persists, it\n",
       "  likely means that the widgets JavaScript library is either not installed or\n",
       "  not enabled. See the <a href=\"https://ipywidgets.readthedocs.io/en/stable/user_install.html\">Jupyter\n",
       "  Widgets Documentation</a> for setup instructions.\n",
       "</p>\n",
       "<p>\n",
       "  If you're reading this message in another frontend (for example, a static\n",
       "  rendering on GitHub or <a href=\"https://nbviewer.jupyter.org/\">NBViewer</a>),\n",
       "  it may mean that your frontend doesn't currently support widgets.\n",
       "</p>\n"
      ],
      "text/plain": [
       "HBox(children=(IntProgress(value=0, max=11775906), HTML(value='')))"
      ]
     },
     "metadata": {},
     "output_type": "display_data"
    },
    {
     "name": "stdout",
     "output_type": "stream",
     "text": [
      "\n"
     ]
    }
   ],
   "source": [
    "compressor = ImageCompress()\n",
    "compressed_image = compressor.fit(image_large,no_of_colors=32,iterations=2, quality=0.025)"
   ]
  },
  {
   "cell_type": "code",
   "execution_count": null,
   "metadata": {},
   "outputs": [],
   "source": [
    "image.getpalette()"
   ]
  },
  {
   "cell_type": "code",
   "execution_count": null,
   "metadata": {},
   "outputs": [],
   "source": []
  },
  {
   "cell_type": "code",
   "execution_count": null,
   "metadata": {},
   "outputs": [],
   "source": []
  },
  {
   "cell_type": "code",
   "execution_count": 57,
   "metadata": {},
   "outputs": [],
   "source": [
    "compressed_image.save('/Users/ankushchoubey/Downloads/fast_compressed_small.jpg')"
   ]
  },
  {
   "cell_type": "code",
   "execution_count": null,
   "metadata": {},
   "outputs": [],
   "source": []
  }
 ],
 "metadata": {
  "kernelspec": {
   "display_name": "Python 3",
   "language": "python",
   "name": "python3"
  },
  "language_info": {
   "codemirror_mode": {
    "name": "ipython",
    "version": 3
   },
   "file_extension": ".py",
   "mimetype": "text/x-python",
   "name": "python",
   "nbconvert_exporter": "python",
   "pygments_lexer": "ipython3",
   "version": "3.6.4"
  }
 },
 "nbformat": 4,
 "nbformat_minor": 2
}
