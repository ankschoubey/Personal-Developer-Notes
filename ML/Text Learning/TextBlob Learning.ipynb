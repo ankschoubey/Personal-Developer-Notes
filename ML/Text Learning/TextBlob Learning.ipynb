{
 "cells": [
  {
   "cell_type": "code",
   "execution_count": 3,
   "metadata": {},
   "outputs": [],
   "source": [
    "from textblob import TextBlob"
   ]
  },
  {
   "cell_type": "code",
   "execution_count": 12,
   "metadata": {},
   "outputs": [],
   "source": [
    "blob = TextBlob(\"ronit is a playboy. he is able to woo any type of girl within seconds. He is not sad at all.\")"
   ]
  },
  {
   "cell_type": "code",
   "execution_count": 13,
   "metadata": {},
   "outputs": [
    {
     "data": {
      "text/plain": [
       "Sentiment(polarity=0.375, subjectivity=0.8125)"
      ]
     },
     "execution_count": 13,
     "metadata": {},
     "output_type": "execute_result"
    }
   ],
   "source": [
    "blob.sentiment"
   ]
  },
  {
   "cell_type": "code",
   "execution_count": 14,
   "metadata": {},
   "outputs": [
    {
     "data": {
      "text/plain": [
       "WordList(['ronit', 'is', 'a', 'playboy', 'he', 'is', 'able', 'to', 'woo', 'any', 'type', 'of', 'girl', 'within', 'seconds', 'He', 'is', 'not', 'sad', 'at', 'all'])"
      ]
     },
     "execution_count": 14,
     "metadata": {},
     "output_type": "execute_result"
    }
   ],
   "source": [
    "blob.words"
   ]
  },
  {
   "cell_type": "code",
   "execution_count": 15,
   "metadata": {},
   "outputs": [
    {
     "data": {
      "text/plain": [
       "WordList([])"
      ]
     },
     "execution_count": 15,
     "metadata": {},
     "output_type": "execute_result"
    }
   ],
   "source": [
    "blob.noun_phrases"
   ]
  },
  {
   "cell_type": "code",
   "execution_count": 16,
   "metadata": {},
   "outputs": [
    {
     "data": {
      "text/plain": [
       "[('ronit', 'NN'),\n",
       " ('is', 'VBZ'),\n",
       " ('a', 'DT'),\n",
       " ('playboy', 'NN'),\n",
       " ('he', 'PRP'),\n",
       " ('is', 'VBZ'),\n",
       " ('able', 'JJ'),\n",
       " ('to', 'TO'),\n",
       " ('woo', 'VB'),\n",
       " ('any', 'DT'),\n",
       " ('type', 'NN'),\n",
       " ('of', 'IN'),\n",
       " ('girl', 'NN'),\n",
       " ('within', 'IN'),\n",
       " ('seconds', 'NNS'),\n",
       " ('He', 'PRP'),\n",
       " ('is', 'VBZ'),\n",
       " ('not', 'RB'),\n",
       " ('sad', 'JJ'),\n",
       " ('at', 'IN'),\n",
       " ('all', 'DT')]"
      ]
     },
     "execution_count": 16,
     "metadata": {},
     "output_type": "execute_result"
    }
   ],
   "source": [
    "blob.tags"
   ]
  },
  {
   "cell_type": "code",
   "execution_count": 17,
   "metadata": {},
   "outputs": [
    {
     "data": {
      "text/plain": [
       "[WordList(['ronit', 'is']),\n",
       " WordList(['is', 'a']),\n",
       " WordList(['a', 'playboy']),\n",
       " WordList(['playboy', 'he']),\n",
       " WordList(['he', 'is']),\n",
       " WordList(['is', 'able']),\n",
       " WordList(['able', 'to']),\n",
       " WordList(['to', 'woo']),\n",
       " WordList(['woo', 'any']),\n",
       " WordList(['any', 'type']),\n",
       " WordList(['type', 'of']),\n",
       " WordList(['of', 'girl']),\n",
       " WordList(['girl', 'within']),\n",
       " WordList(['within', 'seconds']),\n",
       " WordList(['seconds', 'He']),\n",
       " WordList(['He', 'is']),\n",
       " WordList(['is', 'not']),\n",
       " WordList(['not', 'sad']),\n",
       " WordList(['sad', 'at']),\n",
       " WordList(['at', 'all'])]"
      ]
     },
     "execution_count": 17,
     "metadata": {},
     "output_type": "execute_result"
    }
   ],
   "source": [
    "blob.ngrams(2)"
   ]
  },
  {
   "cell_type": "code",
   "execution_count": 18,
   "metadata": {},
   "outputs": [
    {
     "data": {
      "text/plain": [
       "TextBlob(\"joint is a playboy. he is able to who any type of girl within seconds. He is not sad at all.\")"
      ]
     },
     "execution_count": 18,
     "metadata": {},
     "output_type": "execute_result"
    }
   ],
   "source": [
    "blob.correct()\n"
   ]
  },
  {
   "cell_type": "code",
   "execution_count": null,
   "metadata": {},
   "outputs": [],
   "source": []
  },
  {
   "cell_type": "code",
   "execution_count": null,
   "metadata": {},
   "outputs": [],
   "source": []
  }
 ],
 "metadata": {
  "kernelspec": {
   "display_name": "Python 3",
   "language": "python",
   "name": "python3"
  },
  "language_info": {
   "codemirror_mode": {
    "name": "ipython",
    "version": 3
   },
   "file_extension": ".py",
   "mimetype": "text/x-python",
   "name": "python",
   "nbconvert_exporter": "python",
   "pygments_lexer": "ipython3",
   "version": "3.6.4"
  }
 },
 "nbformat": 4,
 "nbformat_minor": 2
}
