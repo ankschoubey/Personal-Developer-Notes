{
 "cells": [
  {
   "cell_type": "markdown",
   "metadata": {},
   "source": [
    "Content:\n",
    "    1. Simple K-Means Cluster on 2D data\n",
    "    2. General K-Means Cluster works with data of any dimension\n",
    "    3. Simple Image Compression (Don't use large image file)\n",
    "    4. Optimized Image Compression\n",
    "    5. Using SkLearn (Always use library)"
   ]
  },
  {
   "cell_type": "code",
   "execution_count": 118,
   "metadata": {},
   "outputs": [],
   "source": [
    "import random\n",
    "import math\n",
    "from tqdm import tnrange, tqdm_notebook\n",
    "from matplotlib import pyplot\n",
    "from pprint import pprint\n",
    "from functools import lru_cache\n",
    "\n",
    "def vector_addiction(vector1, vector2):\n",
    "    return [i+j for i,j in zip(vector1, vector2)]\n",
    "\n",
    "def scalar_multiplication(vector, scalar):\n",
    "    return [scalar*i for i in vector]\n",
    "\n",
    "def index_where_equals(vector, value):\n",
    "    return [i for i in range(len(vector)) if vector[i] == value]\n",
    "\n",
    "def random_list(no,minimum=0,maximum=100):\n",
    "    return [random.randint(minimum, maximum) for i in range(no)]\n",
    "\n",
    "def euclidian_distance(vector1, vector2):\n",
    "    temp = sum([(i-j)**2 for i,j in zip(vector1,vector2)])\n",
    "    return math.sqrt(temp)\n",
    "\n",
    "def get_column(matrix, column):\n",
    "    return list(map(lambda x: x[column], matrix))"
   ]
  },
  {
   "cell_type": "markdown",
   "metadata": {},
   "source": [
    "# K-Means Clustering"
   ]
  },
  {
   "cell_type": "code",
   "execution_count": null,
   "metadata": {},
   "outputs": [],
   "source": []
  },
  {
   "cell_type": "code",
   "execution_count": 130,
   "metadata": {},
   "outputs": [],
   "source": [
    "class Simple_KMeans:\n",
    "    def __init__(self,no_of_clusters = 2):\n",
    "        self.no_of_clusters = no_of_clusters\n",
    "    \n",
    "    def initial_cluster_center(self):\n",
    "        cluster_center = []\n",
    "        for b in range(self.no_of_clusters):\n",
    "            temp = []\n",
    "            for i, j in zip(self.min_values,self.max_values):\n",
    "                temp.append(random.randint(i, j))\n",
    "            cluster_center.append(temp)\n",
    "        return cluster_center\n",
    "        \n",
    "    def fit(self,X,iterations=5):\n",
    "        self.X = X\n",
    "        \n",
    "        self.transpose = [self.get_column(X,i) for i in range(len(X[0]))]\n",
    "        \n",
    "        self.min_values, self.max_values = [min(i) for i in X], [max(i) for i in X]\n",
    "\n",
    "        self.no_of_dimension = len(X)\n",
    "        can_visualise = True if self.no_of_dimension == 2 else False\n",
    "        self.cluster_center = self.initial_cluster_center()\n",
    "\n",
    "        for i in tqdm_notebook(range(iterations)):\n",
    "            self.assign_cluster()\n",
    "\n",
    "            self.relocate_clusters()\n",
    "            \n",
    "        self.assign_cluster()\n",
    "        if not can_visualise:\n",
    "            print('Can only visualise 2d data')\n",
    "        \n",
    "        del self.X\n",
    "        del self.transpose \n",
    "            \n",
    "    def nearest_cluster(self,point):\n",
    "        min_cluster = None\n",
    "        min_distance = None\n",
    "        \n",
    "        for i in range(len(self.cluster_center)):\n",
    "            #cluster_x, cluster_y = self.cluster_center[i]\n",
    "            \n",
    "            distance = euclidian_distance(self.cluster_center[i], point)\n",
    "            \n",
    "            if not min_distance or min_distance > distance:\n",
    "                min_distance = distance\n",
    "                min_cluster = i\n",
    "        \n",
    "        return min_cluster\n",
    "    \n",
    "    def get_column(self,matrix, column):\n",
    "        return list(map(lambda x: x[column], matrix))\n",
    "    \n",
    "    def assign_cluster(self):\n",
    "        self.cluster_assignment = []\n",
    "        \n",
    "        for i in range(len(self.X[0])):\n",
    "            \n",
    "            point = self.get_column(self.X,i)\n",
    "            \n",
    "            self.cluster_assignment.append(self.nearest_cluster(point))\n",
    "        \n",
    "        return self.cluster_assignment\n",
    "    \n",
    "    def relocate_clusters(self):\n",
    "        temp = {}\n",
    "        \n",
    "        no_of_points_in_cluster = {}\n",
    "        \n",
    "        for cluster_no,vector2 in zip(self.cluster_assignment,self.transpose):\n",
    "            temp.setdefault(cluster_no,[0 for i in range(self.no_of_dimension)])\n",
    "            temp[cluster_no] = vector_addiction(temp[cluster_no],vector2)\n",
    "            \n",
    "            no_of_points_in_cluster.setdefault(cluster_no, 0)\n",
    "            no_of_points_in_cluster[cluster_no] += 1\n",
    "        \n",
    "        for key, value in temp.items():\n",
    "            self.cluster_center[key] = scalar_multiplication(value, 1/no_of_points_in_cluster[key])\n",
    "        \n",
    "        return self.cluster_center\n",
    "    \n",
    "    def visualize(self, save_name = None):\n",
    "        \n",
    "        if self.no_of_dimension !=2:\n",
    "            print('Can only visualise 2')\n",
    "            return\n",
    "        graph = pyplot\n",
    "        graph.clf()\n",
    "        cluster_x = [i[0] for i in self.cluster_center]\n",
    "        cluster_y = [i[1] for i in self.cluster_center]\n",
    "        \n",
    "        colors = ['r', 'b', 'g', 'k', 'm']\n",
    "        markers = ['P','v','*','s','X']\n",
    "\n",
    "        for i in range(len(self.cluster_center)):\n",
    "            point_no = index_where_equals(self.cluster_assignment,i)\n",
    "            \n",
    "            x = [self.X[0][i] for i in point_no]\n",
    "            y = [self.X[1][i] for i in point_no]\n",
    "            graph.scatter(x, y, c= colors[i])\n",
    "\n",
    "            graph.scatter([cluster_x[i]], [cluster_y[i]],c=colors[i], marker = markers[i])\n",
    "        \n",
    "        \n",
    "        if save_name:\n",
    "            graph.title = save_name\n",
    "            graph.savefig('/Users/ankushchoubey/Desktop/'+str(save_name) +'.png')"
   ]
  },
  {
   "cell_type": "code",
   "execution_count": null,
   "metadata": {},
   "outputs": [],
   "source": []
  },
  {
   "cell_type": "code",
   "execution_count": 165,
   "metadata": {},
   "outputs": [],
   "source": [
    "no_of_points = 1000\n",
    "x = random_list(no_of_points,0,40)\n",
    "y = random_list(no_of_points,0,40)"
   ]
  },
  {
   "cell_type": "code",
   "execution_count": 166,
   "metadata": {},
   "outputs": [
    {
     "data": {
      "application/vnd.jupyter.widget-view+json": {
       "model_id": "2f3fecd33a084bd0b90ec5f6a41c8891",
       "version_major": 2,
       "version_minor": 0
      },
      "text/html": [
       "<p>Failed to display Jupyter Widget of type <code>HBox</code>.</p>\n",
       "<p>\n",
       "  If you're reading this message in the Jupyter Notebook or JupyterLab Notebook, it may mean\n",
       "  that the widgets JavaScript is still loading. If this message persists, it\n",
       "  likely means that the widgets JavaScript library is either not installed or\n",
       "  not enabled. See the <a href=\"https://ipywidgets.readthedocs.io/en/stable/user_install.html\">Jupyter\n",
       "  Widgets Documentation</a> for setup instructions.\n",
       "</p>\n",
       "<p>\n",
       "  If you're reading this message in another frontend (for example, a static\n",
       "  rendering on GitHub or <a href=\"https://nbviewer.jupyter.org/\">NBViewer</a>),\n",
       "  it may mean that your frontend doesn't currently support widgets.\n",
       "</p>\n"
      ],
      "text/plain": [
       "HBox(children=(IntProgress(value=0, max=10), HTML(value='')))"
      ]
     },
     "metadata": {},
     "output_type": "display_data"
    },
    {
     "name": "stdout",
     "output_type": "stream",
     "text": [
      "[[8.895238095238096, 30.55714285714286],\n",
      " [32.70918367346938, 10.01530612244898],\n",
      " [6.661290322580646, 9.60215053763441],\n",
      " [19.675, 14.850000000000001],\n",
      " [30.274193548387096, 30.370967741935484]]\n"
     ]
    }
   ],
   "source": [
    "# check it step by step\n",
    "engine_general = Simple_KMeans(5)\n",
    "\n",
    "engine_general.fit([x,y],10)\n",
    "engine_general.cluster_assignment\n",
    "pprint(engine_general.cluster_center)\n",
    "#print(engine_general.nearest_cluster([1,2]))"
   ]
  },
  {
   "cell_type": "markdown",
   "metadata": {},
   "source": [
    "# 3. Simple Image Compression (Don't use large image file)"
   ]
  },
  {
   "cell_type": "code",
   "execution_count": 183,
   "metadata": {},
   "outputs": [],
   "source": [
    "no_of_colors = 16"
   ]
  },
  {
   "cell_type": "code",
   "execution_count": 184,
   "metadata": {},
   "outputs": [],
   "source": [
    "from PIL import Image"
   ]
  },
  {
   "cell_type": "code",
   "execution_count": 185,
   "metadata": {},
   "outputs": [
    {
     "ename": "FileNotFoundError",
     "evalue": "[Errno 2] No such file or directory: '/Users/ankushchoubey/Downloads/large.jpg'",
     "output_type": "error",
     "traceback": [
      "\u001b[0;31m---------------------------------------------------------------------------\u001b[0m",
      "\u001b[0;31mFileNotFoundError\u001b[0m                         Traceback (most recent call last)",
      "\u001b[0;32m<ipython-input-185-6a0f43b3847a>\u001b[0m in \u001b[0;36m<module>\u001b[0;34m()\u001b[0m\n\u001b[0;32m----> 1\u001b[0;31m \u001b[0mimage_large\u001b[0m \u001b[0;34m=\u001b[0m \u001b[0mImage\u001b[0m\u001b[0;34m.\u001b[0m\u001b[0mopen\u001b[0m\u001b[0;34m(\u001b[0m\u001b[0;34m'/Users/ankushchoubey/Downloads/large.jpg'\u001b[0m\u001b[0;34m)\u001b[0m\u001b[0;34m\u001b[0m\u001b[0m\n\u001b[0m\u001b[1;32m      2\u001b[0m \u001b[0;31m#image.show()\u001b[0m\u001b[0;34m\u001b[0m\u001b[0;34m\u001b[0m\u001b[0m\n\u001b[1;32m      3\u001b[0m \u001b[0mimage_small\u001b[0m \u001b[0;34m=\u001b[0m \u001b[0mImage\u001b[0m\u001b[0;34m.\u001b[0m\u001b[0mopen\u001b[0m\u001b[0;34m(\u001b[0m\u001b[0;34m'/Users/ankushchoubey/Downloads/image.jpg'\u001b[0m\u001b[0;34m)\u001b[0m\u001b[0;34m\u001b[0m\u001b[0m\n",
      "\u001b[0;32m/anaconda3/envs/data_science/lib/python3.6/site-packages/PIL/Image.py\u001b[0m in \u001b[0;36mopen\u001b[0;34m(fp, mode)\u001b[0m\n\u001b[1;32m   2541\u001b[0m \u001b[0;34m\u001b[0m\u001b[0m\n\u001b[1;32m   2542\u001b[0m     \u001b[0;32mif\u001b[0m \u001b[0mfilename\u001b[0m\u001b[0;34m:\u001b[0m\u001b[0;34m\u001b[0m\u001b[0m\n\u001b[0;32m-> 2543\u001b[0;31m         \u001b[0mfp\u001b[0m \u001b[0;34m=\u001b[0m \u001b[0mbuiltins\u001b[0m\u001b[0;34m.\u001b[0m\u001b[0mopen\u001b[0m\u001b[0;34m(\u001b[0m\u001b[0mfilename\u001b[0m\u001b[0;34m,\u001b[0m \u001b[0;34m\"rb\"\u001b[0m\u001b[0;34m)\u001b[0m\u001b[0;34m\u001b[0m\u001b[0m\n\u001b[0m\u001b[1;32m   2544\u001b[0m         \u001b[0mexclusive_fp\u001b[0m \u001b[0;34m=\u001b[0m \u001b[0;32mTrue\u001b[0m\u001b[0;34m\u001b[0m\u001b[0m\n\u001b[1;32m   2545\u001b[0m \u001b[0;34m\u001b[0m\u001b[0m\n",
      "\u001b[0;31mFileNotFoundError\u001b[0m: [Errno 2] No such file or directory: '/Users/ankushchoubey/Downloads/large.jpg'"
     ]
    }
   ],
   "source": [
    "image_large = Image.open('/Users/ankushchoubey/Downloads/large.jpg')\n",
    "#image.show()\n",
    "image_small = Image.open('/Users/ankushchoubey/Downloads/image.jpg')"
   ]
  },
  {
   "cell_type": "code",
   "execution_count": null,
   "metadata": {},
   "outputs": [],
   "source": []
  },
  {
   "cell_type": "code",
   "execution_count": null,
   "metadata": {},
   "outputs": [],
   "source": []
  },
  {
   "cell_type": "code",
   "execution_count": 186,
   "metadata": {},
   "outputs": [
    {
     "ename": "NameError",
     "evalue": "name 'a' is not defined",
     "output_type": "error",
     "traceback": [
      "\u001b[0;31m---------------------------------------------------------------------------\u001b[0m",
      "\u001b[0;31mNameError\u001b[0m                                 Traceback (most recent call last)",
      "\u001b[0;32m<ipython-input-186-005703f10857>\u001b[0m in \u001b[0;36m<module>\u001b[0;34m()\u001b[0m\n\u001b[0;32m----> 1\u001b[0;31m \u001b[0ma\u001b[0m\u001b[0;34m.\u001b[0m\u001b[0mshow\u001b[0m\u001b[0;34m(\u001b[0m\u001b[0;34m)\u001b[0m\u001b[0;34m\u001b[0m\u001b[0m\n\u001b[0m\u001b[1;32m      2\u001b[0m \u001b[0ma\u001b[0m\u001b[0;34m.\u001b[0m\u001b[0msave\u001b[0m\u001b[0;34m(\u001b[0m\u001b[0;34m'/Users/ankushchoubey/Downloads/compressed.jpg'\u001b[0m\u001b[0;34m)\u001b[0m\u001b[0;34m\u001b[0m\u001b[0m\n",
      "\u001b[0;31mNameError\u001b[0m: name 'a' is not defined"
     ]
    }
   ],
   "source": [
    "a.show()\n",
    "a.save('/Users/ankushchoubey/Downloads/compressed.jpg')"
   ]
  },
  {
   "cell_type": "markdown",
   "metadata": {},
   "source": [
    "# 4. Optimized Image Compression"
   ]
  },
  {
   "cell_type": "code",
   "execution_count": 33,
   "metadata": {
    "collapsed": true
   },
   "outputs": [],
   "source": [
    "def min_max_scaling(x, x_min, x_max,new_x_min,new_x_max):\n",
    "    return (x - x_min)*(new_x_max-new_x_min)/(x_max-x_min) + new_x_min\n",
    "@lru_cache(maxsize=256)\n",
    "def scale8_bit(no):\n",
    "    return int((no*6/256)*36)"
   ]
  },
  {
   "cell_type": "code",
   "execution_count": 55,
   "metadata": {
    "collapsed": true
   },
   "outputs": [],
   "source": [
    "class ImageCompress:\n",
    "    @lru_cache()\n",
    "    def min_max_scaling(self,x):\n",
    "        return (x - self.mini)*self.product_factor + self.range_start\n",
    "    @lru_cache(maxsize=520800)\n",
    "    def nearest_color(self, r,g,b):\n",
    "        cluster_at_index = self.kmeans.nearest_cluster([r,g,b])\n",
    "        cluster_point = self.kmeans.cluster_center[cluster_at_index]\n",
    "        return tuple([int(i) for i in cluster_point])\n",
    "    def fit(self, image,no_of_colors,iterations, quality=0.1):\n",
    "        width, height = image.size\n",
    "        colors = image.getcolors(width*height)\n",
    "        \n",
    "        no = get_column(colors,0)\n",
    "        scaled_version = []\n",
    "        \n",
    "        self.mini = min(no)\n",
    "        self.maxi = max(no)\n",
    "        \n",
    "        self.range_start = 0\n",
    "        self.range_end = self.maxi*quality\n",
    "        \n",
    "        self.product_factor = (self.range_end-self.range_start)/(self.maxi-self.mini)\n",
    "        \n",
    "        for i in tqdm_notebook(no, desc='Scaling Values'):\n",
    "             scaled_version.append(int(self.min_max_scaling(i)))\n",
    "\n",
    "        self.min_max_scaling.cache_clear()\n",
    "        x_l,y_l,z_l=[],[],[]\n",
    "        for i in tqdm_notebook(range(len(scaled_version)), desc='getting image data'):\n",
    "            if scaled_version[i]==0:\n",
    "                continue\n",
    "            \n",
    "            for j in range(scaled_version[i]):\n",
    "                x,y,z = colors[i][1]\n",
    "                x, y,z = scale8_bit(x), scale8_bit(y),scale8_bit(z)\n",
    "                x_l.append(x)\n",
    "                y_l.append(y)\n",
    "                z_l.append(z)\n",
    "                \n",
    "        self.kmeans = General_KMeans(no_of_colors)\n",
    "        self.kmeans.fit([x_l,y_l,z_l],iterations=iterations)\n",
    "        del x_l, y_l, z_l\n",
    "        new_pixel_values=[]\n",
    "        \n",
    "        for i in tqdm_notebook(list(image.getdata())):\n",
    "            change_color = self.nearest_color(i[0],i[1],i[2])\n",
    "            new_pixel_values.append(change_color)\n",
    "        self.nearest_color.cache_clear()\n",
    "        im2 = Image.new(image.mode, image.size)\n",
    "        im2.putdata(new_pixel_values)\n",
    "        \n",
    "        return im2"
   ]
  },
  {
   "cell_type": "code",
   "execution_count": null,
   "metadata": {
    "collapsed": true
   },
   "outputs": [],
   "source": []
  },
  {
   "cell_type": "code",
   "execution_count": null,
   "metadata": {
    "collapsed": true
   },
   "outputs": [],
   "source": []
  },
  {
   "cell_type": "code",
   "execution_count": 56,
   "metadata": {},
   "outputs": [
    {
     "data": {
      "application/vnd.jupyter.widget-view+json": {
       "model_id": "71d00b9a7269460f8d3a2790fdf85e04",
       "version_major": 2,
       "version_minor": 0
      },
      "text/html": [
       "<p>Failed to display Jupyter Widget of type <code>HBox</code>.</p>\n",
       "<p>\n",
       "  If you're reading this message in the Jupyter Notebook or JupyterLab Notebook, it may mean\n",
       "  that the widgets JavaScript is still loading. If this message persists, it\n",
       "  likely means that the widgets JavaScript library is either not installed or\n",
       "  not enabled. See the <a href=\"https://ipywidgets.readthedocs.io/en/stable/user_install.html\">Jupyter\n",
       "  Widgets Documentation</a> for setup instructions.\n",
       "</p>\n",
       "<p>\n",
       "  If you're reading this message in another frontend (for example, a static\n",
       "  rendering on GitHub or <a href=\"https://nbviewer.jupyter.org/\">NBViewer</a>),\n",
       "  it may mean that your frontend doesn't currently support widgets.\n",
       "</p>\n"
      ],
      "text/plain": [
       "HBox(children=(IntProgress(value=0, description='Scaling Values', max=281967), HTML(value='')))"
      ]
     },
     "metadata": {},
     "output_type": "display_data"
    },
    {
     "name": "stdout",
     "output_type": "stream",
     "text": [
      "\n"
     ]
    },
    {
     "data": {
      "application/vnd.jupyter.widget-view+json": {
       "model_id": "ff606b7ba04244a49103f0271662cd9a",
       "version_major": 2,
       "version_minor": 0
      },
      "text/html": [
       "<p>Failed to display Jupyter Widget of type <code>HBox</code>.</p>\n",
       "<p>\n",
       "  If you're reading this message in the Jupyter Notebook or JupyterLab Notebook, it may mean\n",
       "  that the widgets JavaScript is still loading. If this message persists, it\n",
       "  likely means that the widgets JavaScript library is either not installed or\n",
       "  not enabled. See the <a href=\"https://ipywidgets.readthedocs.io/en/stable/user_install.html\">Jupyter\n",
       "  Widgets Documentation</a> for setup instructions.\n",
       "</p>\n",
       "<p>\n",
       "  If you're reading this message in another frontend (for example, a static\n",
       "  rendering on GitHub or <a href=\"https://nbviewer.jupyter.org/\">NBViewer</a>),\n",
       "  it may mean that your frontend doesn't currently support widgets.\n",
       "</p>\n"
      ],
      "text/plain": [
       "HBox(children=(IntProgress(value=0, description='getting image data', max=281967), HTML(value='')))"
      ]
     },
     "metadata": {},
     "output_type": "display_data"
    },
    {
     "name": "stdout",
     "output_type": "stream",
     "text": [
      "\n",
      "min/max [0, 0, 0] [215, 215, 215]\n",
      "no of dimensions 3\n"
     ]
    },
    {
     "data": {
      "application/vnd.jupyter.widget-view+json": {
       "model_id": "ab885b3d91494c9e8275d9a9191d0e81",
       "version_major": 2,
       "version_minor": 0
      },
      "text/html": [
       "<p>Failed to display Jupyter Widget of type <code>HBox</code>.</p>\n",
       "<p>\n",
       "  If you're reading this message in the Jupyter Notebook or JupyterLab Notebook, it may mean\n",
       "  that the widgets JavaScript is still loading. If this message persists, it\n",
       "  likely means that the widgets JavaScript library is either not installed or\n",
       "  not enabled. See the <a href=\"https://ipywidgets.readthedocs.io/en/stable/user_install.html\">Jupyter\n",
       "  Widgets Documentation</a> for setup instructions.\n",
       "</p>\n",
       "<p>\n",
       "  If you're reading this message in another frontend (for example, a static\n",
       "  rendering on GitHub or <a href=\"https://nbviewer.jupyter.org/\">NBViewer</a>),\n",
       "  it may mean that your frontend doesn't currently support widgets.\n",
       "</p>\n"
      ],
      "text/plain": [
       "HBox(children=(IntProgress(value=0, max=2), HTML(value='')))"
      ]
     },
     "metadata": {},
     "output_type": "display_data"
    },
    {
     "data": {
      "application/vnd.jupyter.widget-view+json": {
       "model_id": "b320ab67570541b3b748f8a453d6c1b1",
       "version_major": 2,
       "version_minor": 0
      },
      "text/html": [
       "<p>Failed to display Jupyter Widget of type <code>HBox</code>.</p>\n",
       "<p>\n",
       "  If you're reading this message in the Jupyter Notebook or JupyterLab Notebook, it may mean\n",
       "  that the widgets JavaScript is still loading. If this message persists, it\n",
       "  likely means that the widgets JavaScript library is either not installed or\n",
       "  not enabled. See the <a href=\"https://ipywidgets.readthedocs.io/en/stable/user_install.html\">Jupyter\n",
       "  Widgets Documentation</a> for setup instructions.\n",
       "</p>\n",
       "<p>\n",
       "  If you're reading this message in another frontend (for example, a static\n",
       "  rendering on GitHub or <a href=\"https://nbviewer.jupyter.org/\">NBViewer</a>),\n",
       "  it may mean that your frontend doesn't currently support widgets.\n",
       "</p>\n"
      ],
      "text/plain": [
       "HBox(children=(IntProgress(value=0, description='assignming cluster centers', max=217643), HTML(value='')))"
      ]
     },
     "metadata": {},
     "output_type": "display_data"
    },
    {
     "data": {
      "application/vnd.jupyter.widget-view+json": {
       "model_id": "ba8491e0b0bc4961828062f432d2cfaf",
       "version_major": 2,
       "version_minor": 0
      },
      "text/html": [
       "<p>Failed to display Jupyter Widget of type <code>HBox</code>.</p>\n",
       "<p>\n",
       "  If you're reading this message in the Jupyter Notebook or JupyterLab Notebook, it may mean\n",
       "  that the widgets JavaScript is still loading. If this message persists, it\n",
       "  likely means that the widgets JavaScript library is either not installed or\n",
       "  not enabled. See the <a href=\"https://ipywidgets.readthedocs.io/en/stable/user_install.html\">Jupyter\n",
       "  Widgets Documentation</a> for setup instructions.\n",
       "</p>\n",
       "<p>\n",
       "  If you're reading this message in another frontend (for example, a static\n",
       "  rendering on GitHub or <a href=\"https://nbviewer.jupyter.org/\">NBViewer</a>),\n",
       "  it may mean that your frontend doesn't currently support widgets.\n",
       "</p>\n"
      ],
      "text/plain": [
       "HBox(children=(IntProgress(value=1, bar_style='info', description='relocating cluters', max=1), HTML(value='')))"
      ]
     },
     "metadata": {},
     "output_type": "display_data"
    },
    {
     "data": {
      "application/vnd.jupyter.widget-view+json": {
       "model_id": "f54efd26cc0f4a3bbe95b1b2152a5d93",
       "version_major": 2,
       "version_minor": 0
      },
      "text/html": [
       "<p>Failed to display Jupyter Widget of type <code>HBox</code>.</p>\n",
       "<p>\n",
       "  If you're reading this message in the Jupyter Notebook or JupyterLab Notebook, it may mean\n",
       "  that the widgets JavaScript is still loading. If this message persists, it\n",
       "  likely means that the widgets JavaScript library is either not installed or\n",
       "  not enabled. See the <a href=\"https://ipywidgets.readthedocs.io/en/stable/user_install.html\">Jupyter\n",
       "  Widgets Documentation</a> for setup instructions.\n",
       "</p>\n",
       "<p>\n",
       "  If you're reading this message in another frontend (for example, a static\n",
       "  rendering on GitHub or <a href=\"https://nbviewer.jupyter.org/\">NBViewer</a>),\n",
       "  it may mean that your frontend doesn't currently support widgets.\n",
       "</p>\n"
      ],
      "text/plain": [
       "HBox(children=(IntProgress(value=0, description='assignming cluster centers', max=217643), HTML(value='')))"
      ]
     },
     "metadata": {},
     "output_type": "display_data"
    },
    {
     "data": {
      "application/vnd.jupyter.widget-view+json": {
       "model_id": "3bbaa1c19c5b44eb80c130d8f37b7bdc",
       "version_major": 2,
       "version_minor": 0
      },
      "text/html": [
       "<p>Failed to display Jupyter Widget of type <code>HBox</code>.</p>\n",
       "<p>\n",
       "  If you're reading this message in the Jupyter Notebook or JupyterLab Notebook, it may mean\n",
       "  that the widgets JavaScript is still loading. If this message persists, it\n",
       "  likely means that the widgets JavaScript library is either not installed or\n",
       "  not enabled. See the <a href=\"https://ipywidgets.readthedocs.io/en/stable/user_install.html\">Jupyter\n",
       "  Widgets Documentation</a> for setup instructions.\n",
       "</p>\n",
       "<p>\n",
       "  If you're reading this message in another frontend (for example, a static\n",
       "  rendering on GitHub or <a href=\"https://nbviewer.jupyter.org/\">NBViewer</a>),\n",
       "  it may mean that your frontend doesn't currently support widgets.\n",
       "</p>\n"
      ],
      "text/plain": [
       "HBox(children=(IntProgress(value=1, bar_style='info', description='relocating cluters', max=1), HTML(value='')))"
      ]
     },
     "metadata": {},
     "output_type": "display_data"
    },
    {
     "name": "stdout",
     "output_type": "stream",
     "text": [
      "\n"
     ]
    },
    {
     "data": {
      "application/vnd.jupyter.widget-view+json": {
       "model_id": "c922a6dedd3b41039f61a20be34c6c14",
       "version_major": 2,
       "version_minor": 0
      },
      "text/html": [
       "<p>Failed to display Jupyter Widget of type <code>HBox</code>.</p>\n",
       "<p>\n",
       "  If you're reading this message in the Jupyter Notebook or JupyterLab Notebook, it may mean\n",
       "  that the widgets JavaScript is still loading. If this message persists, it\n",
       "  likely means that the widgets JavaScript library is either not installed or\n",
       "  not enabled. See the <a href=\"https://ipywidgets.readthedocs.io/en/stable/user_install.html\">Jupyter\n",
       "  Widgets Documentation</a> for setup instructions.\n",
       "</p>\n",
       "<p>\n",
       "  If you're reading this message in another frontend (for example, a static\n",
       "  rendering on GitHub or <a href=\"https://nbviewer.jupyter.org/\">NBViewer</a>),\n",
       "  it may mean that your frontend doesn't currently support widgets.\n",
       "</p>\n"
      ],
      "text/plain": [
       "HBox(children=(IntProgress(value=0, description='assignming cluster centers', max=217643), HTML(value='')))"
      ]
     },
     "metadata": {},
     "output_type": "display_data"
    },
    {
     "name": "stdout",
     "output_type": "stream",
     "text": [
      "\n",
      "Can only visualise 2d data\n"
     ]
    },
    {
     "data": {
      "application/vnd.jupyter.widget-view+json": {
       "model_id": "6d7e27da402044698625768e8e8819a5",
       "version_major": 2,
       "version_minor": 0
      },
      "text/html": [
       "<p>Failed to display Jupyter Widget of type <code>HBox</code>.</p>\n",
       "<p>\n",
       "  If you're reading this message in the Jupyter Notebook or JupyterLab Notebook, it may mean\n",
       "  that the widgets JavaScript is still loading. If this message persists, it\n",
       "  likely means that the widgets JavaScript library is either not installed or\n",
       "  not enabled. See the <a href=\"https://ipywidgets.readthedocs.io/en/stable/user_install.html\">Jupyter\n",
       "  Widgets Documentation</a> for setup instructions.\n",
       "</p>\n",
       "<p>\n",
       "  If you're reading this message in another frontend (for example, a static\n",
       "  rendering on GitHub or <a href=\"https://nbviewer.jupyter.org/\">NBViewer</a>),\n",
       "  it may mean that your frontend doesn't currently support widgets.\n",
       "</p>\n"
      ],
      "text/plain": [
       "HBox(children=(IntProgress(value=0, max=11775906), HTML(value='')))"
      ]
     },
     "metadata": {},
     "output_type": "display_data"
    },
    {
     "name": "stdout",
     "output_type": "stream",
     "text": [
      "\n"
     ]
    }
   ],
   "source": [
    "compressor = ImageCompress()\n",
    "compressed_image = compressor.fit(image_large,no_of_colors=32,iterations=2, quality=0.025)"
   ]
  },
  {
   "cell_type": "code",
   "execution_count": null,
   "metadata": {
    "collapsed": true
   },
   "outputs": [],
   "source": [
    "image.getpalette()"
   ]
  },
  {
   "cell_type": "code",
   "execution_count": null,
   "metadata": {
    "collapsed": true
   },
   "outputs": [],
   "source": []
  },
  {
   "cell_type": "code",
   "execution_count": null,
   "metadata": {
    "collapsed": true
   },
   "outputs": [],
   "source": []
  },
  {
   "cell_type": "code",
   "execution_count": 57,
   "metadata": {
    "collapsed": true
   },
   "outputs": [],
   "source": [
    "compressed_image.save('/Users/ankushchoubey/Downloads/fast_compressed_small.jpg')"
   ]
  },
  {
   "cell_type": "markdown",
   "metadata": {},
   "source": [
    "# 5.  Sklearn"
   ]
  },
  {
   "cell_type": "code",
   "execution_count": 7,
   "metadata": {
    "collapsed": true
   },
   "outputs": [],
   "source": [
    "from sklearn.cluster import KMeans\n",
    "from PIL import Image\n",
    "import numpy as np"
   ]
  },
  {
   "cell_type": "code",
   "execution_count": 6,
   "metadata": {
    "collapsed": true
   },
   "outputs": [],
   "source": [
    "image_large = Image.open('/Users/ankushchoubey/Downloads/large.jpg')\n",
    "#image.show()\n",
    "image_small = Image.open('/Users/ankushchoubey/Downloads/image.jpg')"
   ]
  },
  {
   "cell_type": "code",
   "execution_count": 49,
   "metadata": {},
   "outputs": [
    {
     "data": {
      "text/plain": [
       "array([[128, 178, 227],\n",
       "       [138, 188, 237],\n",
       "       [149, 199, 248],\n",
       "       ...,\n",
       "       [233, 237, 248],\n",
       "       [223, 227, 238],\n",
       "       [248, 253, 255]])"
      ]
     },
     "execution_count": 49,
     "metadata": {},
     "output_type": "execute_result"
    }
   ],
   "source": [
    "X = np.array(image_large.getdata())\n",
    "X"
   ]
  },
  {
   "cell_type": "code",
   "execution_count": null,
   "metadata": {
    "collapsed": true
   },
   "outputs": [],
   "source": [
    "engine = KMeans(n_clusters=32)\n",
    "cluster_allocation = engine.fit_predict(X)"
   ]
  },
  {
   "cell_type": "code",
   "execution_count": 44,
   "metadata": {
    "collapsed": true
   },
   "outputs": [],
   "source": [
    "cluster_centers = engine.cluster_centers_.tolist()"
   ]
  },
  {
   "cell_type": "code",
   "execution_count": 45,
   "metadata": {
    "collapsed": true
   },
   "outputs": [],
   "source": [
    "list_of_points = []\n",
    "\n",
    "for i in cluster_allocation.tolist():\n",
    "    list_of_points.append(tuple([int(j) for j in cluster_centers[i]]))"
   ]
  },
  {
   "cell_type": "code",
   "execution_count": 46,
   "metadata": {
    "collapsed": true
   },
   "outputs": [],
   "source": [
    "im2 = Image.new(image_small.mode, image_small.size)\n",
    "im2.putdata(list_of_points)"
   ]
  },
  {
   "cell_type": "code",
   "execution_count": 47,
   "metadata": {
    "collapsed": true
   },
   "outputs": [],
   "source": [
    "im2.show()"
   ]
  },
  {
   "cell_type": "code",
   "execution_count": 1,
   "metadata": {},
   "outputs": [],
   "source": [
    "import numpy as np\n",
    "import pandas as pd"
   ]
  },
  {
   "cell_type": "code",
   "execution_count": 142,
   "metadata": {},
   "outputs": [],
   "source": [
    "class KMeans:\n",
    "    def __init__(self, noOfClusters):\n",
    "        self.k = noOfClusters\n",
    "    \n",
    "    def initial_clusters_centers(self, data_range):        \n",
    "        cluster_centers = {}\n",
    "        \n",
    "        for name, values in data_range.iteritems():\n",
    "            random_values = np.random.uniform(low=values[0], high=values[1], size=(self.k))\n",
    "            cluster_centers[name] = random_values\n",
    "        \n",
    "        return pd.DataFrame(cluster_centers)\n",
    "        \n",
    "    def fit(self, data, iterations):\n",
    "        self.data = data\n",
    "        data_range = pd.DataFrame([self.data.min(), self.data.max()])\n",
    "        \n",
    "        self.cluster_centers = self.initial_clusters_centers(data_range)\n",
    "        \n",
    "        self.axis = self.data.columns.values\n",
    "        \n",
    "        self.data['cluster'] = self.allocate(data[self.axis])\n",
    "        \n",
    "        for i in tqdm_notebook(range(iterations)):\n",
    "            self.data['cluster'] = self.allocate(data[self.axis])\n",
    "            temp = self.cluster_centers\n",
    "            self.cluster_centers = self.relocate()\n",
    "        \n",
    "    def nearest_cluster(self, point):\n",
    "        temp = self.cluster_centers-point\n",
    "        \n",
    "        return np.sqrt(np.sum( np.square( temp ), axis=1 ))\n",
    "    \n",
    "    def allocate(self, data):\n",
    "        allocation = []\n",
    "        for i in data.index.values:\n",
    "            distances = self.nearest_cluster(data.iloc[i])\n",
    "            assigned_cluster = distances.sort_values().index.values[0]\n",
    "        \n",
    "            allocation.append(assigned_cluster)\n",
    "        return allocation\n",
    "    \n",
    "    def relocate(self):\n",
    "        relocation = {}\n",
    "                \n",
    "        for i in self.cluster_centers.index.values:\n",
    "            temp = data[data['cluster']==i]\n",
    "            relocation[i] = temp[self.axis].mean()\n",
    "        return pd.DataFrame(relocation).transpose()"
   ]
  },
  {
   "cell_type": "code",
   "execution_count": 149,
   "metadata": {},
   "outputs": [],
   "source": [
    "data = np.random.rand(1000,2)*100\n",
    "data = pd.DataFrame(data,columns=['x_axis','y_axis'])"
   ]
  },
  {
   "cell_type": "code",
   "execution_count": 150,
   "metadata": {},
   "outputs": [
    {
     "data": {
      "text/plain": [
       "<matplotlib.axes._subplots.AxesSubplot at 0x113459748>"
      ]
     },
     "execution_count": 150,
     "metadata": {},
     "output_type": "execute_result"
    },
    {
     "data": {
      "image/png": "[encoded data removed]",
      "text/plain": [
       "<Figure size 432x288 with 1 Axes>"
      ]
     },
     "metadata": {},
     "output_type": "display_data"
    }
   ],
   "source": [
    "data.plot.scatter('x_axis','y_axis')"
   ]
  },
  {
   "cell_type": "code",
   "execution_count": 161,
   "metadata": {},
   "outputs": [
    {
     "data": {
      "application/vnd.jupyter.widget-view+json": {
       "model_id": "f1502277c8d74a5ca859fd866b01cb48",
       "version_major": 2,
       "version_minor": 0
      },
      "text/html": [
       "<p>Failed to display Jupyter Widget of type <code>HBox</code>.</p>\n",
       "<p>\n",
       "  If you're reading this message in the Jupyter Notebook or JupyterLab Notebook, it may mean\n",
       "  that the widgets JavaScript is still loading. If this message persists, it\n",
       "  likely means that the widgets JavaScript library is either not installed or\n",
       "  not enabled. See the <a href=\"https://ipywidgets.readthedocs.io/en/stable/user_install.html\">Jupyter\n",
       "  Widgets Documentation</a> for setup instructions.\n",
       "</p>\n",
       "<p>\n",
       "  If you're reading this message in another frontend (for example, a static\n",
       "  rendering on GitHub or <a href=\"https://nbviewer.jupyter.org/\">NBViewer</a>),\n",
       "  it may mean that your frontend doesn't currently support widgets.\n",
       "</p>\n"
      ],
      "text/plain": [
       "HBox(children=(IntProgress(value=0, max=10), HTML(value='')))"
      ]
     },
     "metadata": {},
     "output_type": "display_data"
    }
   ],
   "source": [
    "engine = KMeans(5)\n",
    "engine.fit(data,10)"
   ]
  },
  {
   "cell_type": "code",
   "execution_count": null,
   "metadata": {},
   "outputs": [],
   "source": []
  },
  {
   "cell_type": "code",
   "execution_count": null,
   "metadata": {},
   "outputs": [],
   "source": []
  },
  {
   "cell_type": "code",
   "execution_count": null,
   "metadata": {},
   "outputs": [],
   "source": []
  }
 ],
 "metadata": {
  "kernelspec": {
   "display_name": "Python 3",
   "language": "python",
   "name": "python3"
  },
  "language_info": {
   "codemirror_mode": {
    "name": "ipython",
    "version": 3
   },
   "file_extension": ".py",
   "mimetype": "text/x-python",
   "name": "python",
   "nbconvert_exporter": "python",
   "pygments_lexer": "ipython3",
   "version": "3.6.4"
  }
 },
 "nbformat": 4,
 "nbformat_minor": 2
}
