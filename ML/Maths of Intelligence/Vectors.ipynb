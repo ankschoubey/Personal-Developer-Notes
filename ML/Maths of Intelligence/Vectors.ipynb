{
 "cells": [
  {
   "cell_type": "code",
   "execution_count": 8,
   "metadata": {
    "collapsed": true
   },
   "outputs": [],
   "source": [
    "class Vector:\n",
    "    def __init__(self, coordinates):\n",
    "        self.coordinates = tuple(coordinates)\n",
    "    \n",
    "    def __str__(self):\n",
    "        return str(self.coordinates)\n",
    "    \n",
    "    def add(vector):\n",
    "        return [i+j for i,j in zip(self.coordinates, vector)]\n",
    "    def substract(vector):\n",
    "        return [i-j for i,j in zip(self.coordinates, vector)]\n",
    "    def scalar_mul(scalar):\n",
    "        return [i*scalar for i in self.coordinates]"
   ]
  },
  {
   "cell_type": "code",
   "execution_count": 9,
   "metadata": {},
   "outputs": [
    {
     "name": "stdout",
     "output_type": "stream",
     "text": [
      "(2, 3)\n"
     ]
    }
   ],
   "source": [
    "v = Vector([2,3])\n",
    "print(v)"
   ]
  },
  {
   "cell_type": "code",
   "execution_count": null,
   "metadata": {
    "collapsed": true
   },
   "outputs": [],
   "source": []
  }
 ],
 "metadata": {
  "kernelspec": {
   "display_name": "Python 3",
   "language": "python",
   "name": "python3"
  },
  "language_info": {
   "codemirror_mode": {
    "name": "ipython",
    "version": 3
   },
   "file_extension": ".py",
   "mimetype": "text/x-python",
   "name": "python",
   "nbconvert_exporter": "python",
   "pygments_lexer": "ipython3",
   "version": "3.6.3"
  }
 },
 "nbformat": 4,
 "nbformat_minor": 2
}
