{
 "cells": [
  {
   "cell_type": "code",
   "execution_count": 26,
   "metadata": {},
   "outputs": [
    {
     "name": "stdout",
     "output_type": "stream",
     "text": [
      "      brain      body\n",
      "0    6.1101  17.59200\n",
      "1    5.5277   9.13020\n",
      "2    8.5186  13.66200\n",
      "3    7.0032  11.85400\n",
      "4    5.8598   6.82330\n",
      "5    8.3829  11.88600\n",
      "6    7.4764   4.34830\n",
      "7    8.5781  12.00000\n",
      "8    6.4862   6.59870\n",
      "9    5.0546   3.81660\n",
      "10   5.7107   3.25220\n",
      "11  14.1640  15.50500\n",
      "12   5.7340   3.15510\n",
      "13   8.4084   7.22580\n",
      "14   5.6407   0.71618\n",
      "15   5.3794   3.51290\n",
      "16   6.3654   5.30480\n",
      "17   5.1301   0.56077\n",
      "18   6.4296   3.65180\n",
      "19   7.0708   5.38930\n",
      "20   6.1891   3.13860\n",
      "21  20.2700  21.76700\n",
      "22   5.4901   4.26300\n",
      "23   6.3261   5.18750\n",
      "24   5.5649   3.08250\n",
      "25  18.9450  22.63800\n",
      "26  12.8280  13.50100\n",
      "27  10.9570   7.04670\n",
      "28  13.1760  14.69200\n",
      "29  22.2030  24.14700\n",
      "..      ...       ...\n",
      "67  10.2360   7.77540\n",
      "68   5.4994   1.01730\n",
      "69  20.3410  20.99200\n",
      "70  10.1360   6.67990\n",
      "71   7.3345   4.02590\n",
      "72   6.0062   1.27840\n",
      "73   7.2259   3.34110\n",
      "74   5.0269  -2.68070\n",
      "75   6.5479   0.29678\n",
      "76   7.5386   3.88450\n",
      "77   5.0365   5.70140\n",
      "78  10.2740   6.75260\n",
      "79   5.1077   2.05760\n",
      "80   5.7292   0.47953\n",
      "81   5.1884   0.20421\n",
      "82   6.3557   0.67861\n",
      "83   9.7687   7.54350\n",
      "84   6.5159   5.34360\n",
      "85   8.5172   4.24150\n",
      "86   9.1802   6.79810\n",
      "87   6.0020   0.92695\n",
      "88   5.5204   0.15200\n",
      "89   5.0594   2.82140\n",
      "90   5.7077   1.84510\n",
      "91   7.6366   4.29590\n",
      "92   5.8707   7.20290\n",
      "93   5.3054   1.98690\n",
      "94   8.2934   0.14454\n",
      "95  13.3940   9.05510\n",
      "96   5.4369   0.61705\n",
      "\n",
      "[97 rows x 2 columns]\n"
     ]
    }
   ],
   "source": [
    "import random\n",
    "import pandas as pd\n",
    "\n",
    "data = pd.read_csv('brain_body.csv', names=['brain','body'])\n",
    "x = data['brain'].tolist()\n",
    "y = data['body'].tolist()\n",
    "\n",
    "initial_c = 0\n",
    "initial_m = 0\n",
    "\n",
    "num_iteration = 1000\n",
    "print(data)"
   ]
  },
  {
   "cell_type": "code",
   "execution_count": 27,
   "metadata": {
    "collapsed": true
   },
   "outputs": [],
   "source": [
    "def predict(m,x,c):\n",
    "    return m*x + c"
   ]
  },
  {
   "cell_type": "code",
   "execution_count": 28,
   "metadata": {
    "collapsed": true
   },
   "outputs": [],
   "source": [
    "def computer_error(m,c,x_list,y_list):\n",
    "    sum_squared_error = 0\n",
    "    for x,y in zip(x_list,y_list):\n",
    "        prediction = m*x + c\n",
    "        sum_squared_error += (y - prediction)**2\n",
    "    return sum_squared_error/len(x_list)"
   ]
  },
  {
   "cell_type": "code",
   "execution_count": 29,
   "metadata": {},
   "outputs": [
    {
     "data": {
      "text/plain": [
       "14.891711085859795"
      ]
     },
     "execution_count": 29,
     "metadata": {},
     "output_type": "execute_result"
    }
   ],
   "source": [
    "computer_error(1,0,x,y)"
   ]
  },
  {
   "cell_type": "markdown",
   "metadata": {},
   "source": [
    "Error Function: \n",
    "![linear_regression_error1.png](attachment:linear_regression_error1.png)\n",
    "\n",
    "Partial Derivative:\n",
    "![linear_regression_gradient1.png](attachment:linear_regression_gradient1.png)\n"
   ]
  },
  {
   "cell_type": "code",
   "execution_count": 30,
   "metadata": {
    "collapsed": true
   },
   "outputs": [],
   "source": [
    "def step_gradient(m_current, c_current, x_list, y_list,learning_rate = 0.0001):\n",
    "    c_gradient = 0\n",
    "    m_gradient = 0\n",
    "    \n",
    "    N = float(len(x_list))\n",
    "    \n",
    "    for x, y in zip(x_list,y_list):\n",
    "        prediction = y - m_current*x + c_current\n",
    "        c_gradient += -(2/N)*prediction\n",
    "        m_gradient += -(2/N)*x*prediction\n",
    "    new_c = c_current - learning_rate*c_gradient \n",
    "    new_m = m_current - learning_rate*m_gradient\n",
    "    return [new_m, new_c]\n",
    "        "
   ]
  },
  {
   "cell_type": "code",
   "execution_count": 31,
   "metadata": {
    "collapsed": true
   },
   "outputs": [],
   "source": [
    "# Did not understant step gradient well... need some calculus study"
   ]
  },
  {
   "cell_type": "code",
   "execution_count": 32,
   "metadata": {},
   "outputs": [
    {
     "name": "stdout",
     "output_type": "stream",
     "text": [
      "Learning Rate 0.1 m = 0 c =  0 error= 64.14546775491131\n",
      "Learning Rate 0.01 m = 0 c =  0 error= 64.14546775491131\n",
      "Learning Rate 0.001 m = 0.8084459571371777 c =  -0.04602184294743381 error= 11.652547525902989\n",
      "m = 0.7857363412031447 c =  -0.1766861019144735 error= 11.569238590902575\n"
     ]
    },
    {
     "data": {
      "text/plain": [
       "[<matplotlib.lines.Line2D at 0x1a1c49c160>]"
      ]
     },
     "execution_count": 32,
     "metadata": {},
     "output_type": "execute_result"
    },
    {
     "data": {
      "image/png": "[encoded data removed]",
      "text/plain": [
       "<matplotlib.figure.Figure at 0x1a1c108668>"
      ]
     },
     "metadata": {},
     "output_type": "display_data"
    }
   ],
   "source": [
    "m = initial_m\n",
    "c = initial_c\n",
    "num_iteration = 100\n",
    "error = computer_error(m,c, x,y)\n",
    "learning_rate = 1\n",
    "for i in range(num_iteration):\n",
    "    m_j, c_j = step_gradient(m,c, x,y, learning_rate)\n",
    "    error_j = computer_error(m_j,c_j, x,y)\n",
    "    if error_j > error:\n",
    "        if learning_rate>0.00000000001:\n",
    "            learning_rate/=10\n",
    "            print('Learning Rate', learning_rate,'m =',m,'c = ',c,'error=', computer_error(m,c, x,y))\n",
    "\n",
    "            continue\n",
    "        break\n",
    "    error = error_j\n",
    "    m = m_j\n",
    "    c = c_j\n",
    "    \n",
    "print('m =',m,'c = ',c,'error=', computer_error(m,c, x,y))\n",
    "\n",
    "%matplotlib inline\n",
    "\n",
    "import matplotlib.pyplot as plt\n",
    "plt.scatter(x,y)\n",
    "X = [i for i in range(int(min(x)),int(max(x))+1)]\n",
    "Y = [predict(m,i,c) for i in X]\n",
    "plt.plot(X,Y)\n"
   ]
  },
  {
   "cell_type": "code",
   "execution_count": 33,
   "metadata": {
    "collapsed": true
   },
   "outputs": [],
   "source": [
    "# Using Scikit Learn"
   ]
  },
  {
   "cell_type": "code",
   "execution_count": 34,
   "metadata": {
    "collapsed": true
   },
   "outputs": [],
   "source": [
    "from sklearn.linear_model import LinearRegression"
   ]
  },
  {
   "cell_type": "code",
   "execution_count": 35,
   "metadata": {},
   "outputs": [
    {
     "data": {
      "text/plain": [
       "LinearRegression(copy_X=True, fit_intercept=True, n_jobs=1, normalize=False)"
      ]
     },
     "execution_count": 35,
     "metadata": {},
     "output_type": "execute_result"
    }
   ],
   "source": [
    "X_for_sklearn = [[i] for i in x]\n",
    "engine = LinearRegression()\n",
    "engine.fit(X_for_sklearn,y)"
   ]
  },
  {
   "cell_type": "code",
   "execution_count": 36,
   "metadata": {},
   "outputs": [
    {
     "data": {
      "text/plain": [
       "[<matplotlib.lines.Line2D at 0x1a1c10e940>]"
      ]
     },
     "execution_count": 36,
     "metadata": {},
     "output_type": "execute_result"
    },
    {
     "data": {
      "image/png": "[encoded data removed]",
      "text/plain": [
       "<matplotlib.figure.Figure at 0x1a1c10edd8>"
      ]
     },
     "metadata": {},
     "output_type": "display_data"
    }
   ],
   "source": [
    "%matplotlib inline\n",
    "\n",
    "import matplotlib.pyplot as plt\n",
    "plt.scatter(x,y)\n",
    "X = [i for i in range(int(min(x)),int(max(x))+1)]\n",
    "Y = [predict(m,i,c) for i in X]\n",
    "#print(x,engine.predict(X_for_sklearn).shape)\n",
    "plt.plot(x,engine.predict(X_for_sklearn))"
   ]
  },
  {
   "cell_type": "code",
   "execution_count": 37,
   "metadata": {},
   "outputs": [
    {
     "data": {
      "text/plain": [
       "0.70203155378413973"
      ]
     },
     "execution_count": 37,
     "metadata": {},
     "output_type": "execute_result"
    }
   ],
   "source": [
    "engine.score(X_for_sklearn,y)"
   ]
  },
  {
   "cell_type": "code",
   "execution_count": null,
   "metadata": {
    "collapsed": true
   },
   "outputs": [],
   "source": []
  },
  {
   "cell_type": "code",
   "execution_count": null,
   "metadata": {
    "collapsed": true
   },
   "outputs": [],
   "source": []
  }
 ],
 "metadata": {
  "kernelspec": {
   "display_name": "Python 3",
   "language": "python",
   "name": "python3"
  },
  "language_info": {
   "codemirror_mode": {
    "name": "ipython",
    "version": 3
   },
   "file_extension": ".py",
   "mimetype": "text/x-python",
   "name": "python",
   "nbconvert_exporter": "python",
   "pygments_lexer": "ipython3",
   "version": "3.6.3"
  }
 },
 "nbformat": 4,
 "nbformat_minor": 2
}
