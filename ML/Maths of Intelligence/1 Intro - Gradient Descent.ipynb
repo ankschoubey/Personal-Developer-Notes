{
 "cells": [
  {
   "cell_type": "code",
   "execution_count": 63,
   "metadata": {},
   "outputs": [
    {
     "name": "stdout",
     "output_type": "stream",
     "text": [
      "[90, 112, 99, 136, 112, 129, 93, 174, 104, 151, 140, 120, 109, 182, 133, 155, 135, 37, 27, 172, 153, 124, 175, 122, 170, 70, 145, 19, 46, 79, 174, 20, 43, 155, 163, 170, 9, 175, 65, 147, 29, 163, 16, 41, 53, 183, 182, 28, 52, 190, 50, 168, 138, 61, 2, 157, 1, 61, 60, 78, 144, 112, 192, 152, 55, 118, 144, 106, 63, 38, 13, 32, 10, 168, 74, 194, 148, 170, 87, 135, 139, 141, 134, 103, 22, 154, 111, 127, 149, 107, 150, 136, 36, 19, 9, 102, 48, 15, 184, 140, 80, 78, 7, 62, 14, 194, 195, 148, 76, 37, 123, 157, 122, 71, 164, 2, 142, 110, 42, 150, 198, 176, 83, 44, 117, 99, 60, 178, 132, 35, 76, 98, 190, 87, 65, 67, 73, 185, 200, 83, 68, 28, 43, 159, 181, 93, 183, 103, 166, 64, 3, 174, 132, 151, 153, 154, 80, 57, 118, 22, 55, 183, 112, 43, 46, 4, 101, 23, 23, 169, 135, 187, 29, 55, 126, 119, 121, 156, 178, 153, 191, 117, 56, 93, 114, 187, 20, 95, 39, 87, 52, 56, 83, 155, 62, 155, 29, 42, 180, 18] [14, 104, 59, 37, 197, 154, 72, 15, 197, 76, 92, 140, 116, 116, 14, 43, 54, 11, 132, 194, 164, 93, 45, 135, 189, 82, 177, 35, 58, 61, 29, 115, 158, 165, 111, 27, 163, 155, 103, 8, 189, 150, 125, 103, 186, 48, 125, 129, 157, 139, 70, 42, 92, 107, 81, 116, 128, 143, 147, 66, 190, 151, 138, 121, 26, 97, 60, 15, 69, 93, 36, 23, 38, 139, 84, 156, 134, 141, 116, 10, 79, 200, 57, 99, 153, 108, 2, 185, 159, 89, 125, 96, 18, 96, 27, 154, 47, 163, 49, 14, 342, 939, 526, 313, 836, 147, 398, 460, 252, 308, 753, 597, 387, 30, 828, 369, 69, 376, 10, 31, 516, 186, 258, 66, 762, 347, 800, 580, 523, 20, 38, 248, 633, 470, 487, 993, 227, 40, 912, 183, 425, 965, 632, 18, 26, 509, 679, 598, 112, 343, 926, 284, 361, 492, 986, 505, 899, 163, 475, 804, 916, 76, 635, 211, 926, 291, 501, 941, 463, 977, 723, 794, 763, 958, 65, 315, 856, 668, 842, 981, 657, 969, 722, 706, 463, 181, 201, 830, 574, 514, 426, 234, 892, 63, 512, 828, 736, 127, 296, 235]\n"
     ]
    }
   ],
   "source": [
    "import random\n",
    "\n",
    "x = [random.randint(1,200) for i in range(100)] + [random.randint(1,200) for i in range(100)]\n",
    "y = [random.randint(1,200) for i in range(100)] + [random.randint(1,1000) for i in range(100)]\n",
    "\n",
    "initial_c = 0\n",
    "initial_m = 0\n",
    "\n",
    "num_iteration = 1000\n",
    "print(x,y)"
   ]
  },
  {
   "cell_type": "code",
   "execution_count": 3,
   "metadata": {
    "collapsed": true
   },
   "outputs": [],
   "source": [
    "def predict(m,x,c):\n",
    "    return m*x + c"
   ]
  },
  {
   "cell_type": "code",
   "execution_count": 11,
   "metadata": {
    "collapsed": true
   },
   "outputs": [],
   "source": [
    "def computer_error(m,c,x_list,y_list):\n",
    "    sum_squared_error = 0\n",
    "    for x,y in zip(x_list,y_list):\n",
    "        prediction = m*x + c\n",
    "        sum_squared_error += (y - prediction)**2\n",
    "    return sum_squared_error/len(x_list)"
   ]
  },
  {
   "cell_type": "code",
   "execution_count": 5,
   "metadata": {},
   "outputs": [
    {
     "data": {
      "text/plain": [
       "11"
      ]
     },
     "execution_count": 5,
     "metadata": {},
     "output_type": "execute_result"
    }
   ],
   "source": [
    "computer_error(1,0,x,y)"
   ]
  },
  {
   "attachments": {
    "linear_regression_error1.png": {
     "image/png": "[encoded data removed]"
    },
    "linear_regression_gradient1.png": {
     "image/png": "[encoded data removed]"
    }
   },
   "cell_type": "markdown",
   "metadata": {},
   "source": [
    "Error Function: \n",
    "![linear_regression_error1.png](attachment:linear_regression_error1.png)\n",
    "\n",
    "Partial Derivative:\n",
    "![linear_regression_gradient1.png](attachment:linear_regression_gradient1.png)\n"
   ]
  },
  {
   "cell_type": "code",
   "execution_count": 6,
   "metadata": {
    "collapsed": true
   },
   "outputs": [],
   "source": [
    "def step_gradient(m_current, c_current, x_list, y_list,learning_rate = 0.0001):\n",
    "    c_gradient = 0\n",
    "    m_gradient = 0\n",
    "    \n",
    "    N = float(len(x_list))\n",
    "    \n",
    "    for x, y in zip(x_list,y_list):\n",
    "        prediction = y - m_current*x + c_current\n",
    "        c_gradient += -(2/N)*prediction\n",
    "        m_gradient += -(2/N)*x*prediction\n",
    "    new_c = c_current - learning_rate*c_gradient \n",
    "    new_m = m_current - learning_rate*m_gradient\n",
    "    return [new_m, new_c]\n",
    "        "
   ]
  },
  {
   "cell_type": "code",
   "execution_count": null,
   "metadata": {
    "collapsed": true
   },
   "outputs": [],
   "source": [
    "# Did not understant step gradient well... need some calculus study"
   ]
  },
  {
   "cell_type": "code",
   "execution_count": 64,
   "metadata": {},
   "outputs": [
    {
     "name": "stdout",
     "output_type": "stream",
     "text": [
      "Learning Rate 0.1 m = 0 c =  0 error= 174385.5\n",
      "Learning Rate 0.01 m = 0 c =  0 error= 174385.5\n",
      "Learning Rate 0.001 m = 0 c =  0 error= 174385.5\n",
      "Learning Rate 0.0001 m = 0 c =  0 error= 174385.5\n",
      "Learning Rate 1e-05 m = 0 c =  0 error= 174385.5\n",
      "m = 2.1597275380000847 c =  0.15659208298423113 error= 109211.11686905155\n"
     ]
    },
    {
     "data": {
      "text/plain": [
       "[<matplotlib.lines.Line2D at 0x1151bd1d0>]"
      ]
     },
     "execution_count": 64,
     "metadata": {},
     "output_type": "execute_result"
    },
    {
     "data": {
      "image/png": "[encoded data removed]",
      "text/plain": [
       "<matplotlib.figure.Figure at 0x1151bd518>"
      ]
     },
     "metadata": {},
     "output_type": "display_data"
    }
   ],
   "source": [
    "m = initial_m\n",
    "c = initial_c\n",
    "num_iteration = 100\n",
    "error = computer_error(m,c, x,y)\n",
    "learning_rate = 1\n",
    "for i in range(num_iteration):\n",
    "    m_j, c_j = step_gradient(m,c, x,y, learning_rate)\n",
    "    error_j = computer_error(m_j,c_j, x,y)\n",
    "    if error_j > error:\n",
    "        if learning_rate>0.00000000001:\n",
    "            learning_rate/=10\n",
    "            print('Learning Rate', learning_rate,'m =',m,'c = ',c,'error=', computer_error(m,c, x,y))\n",
    "\n",
    "            continue\n",
    "        break\n",
    "    error = error_j\n",
    "    m = m_j\n",
    "    c = c_j\n",
    "    \n",
    "print('m =',m,'c = ',c,'error=', computer_error(m,c, x,y))\n",
    "\n",
    "%matplotlib inline\n",
    "\n",
    "import matplotlib.pyplot as plt\n",
    "plt.scatter(x,y)\n",
    "\n",
    "X = [i for i in range(min(x),max(x)+1)]\n",
    "Y = [predict(m,i,c) for i in X]\n",
    "plt.plot(X,Y)\n"
   ]
  },
  {
   "cell_type": "code",
   "execution_count": null,
   "metadata": {},
   "outputs": [],
   "source": [
    "\n"
   ]
  },
  {
   "cell_type": "code",
   "execution_count": 32,
   "metadata": {},
   "outputs": [
    {
     "name": "stdout",
     "output_type": "stream",
     "text": [
      "[1, 2, 3, 4]\n"
     ]
    }
   ],
   "source": [
    "x.sort()\n",
    "print(x)\n"
   ]
  },
  {
   "cell_type": "code",
   "execution_count": null,
   "metadata": {
    "collapsed": true
   },
   "outputs": [],
   "source": []
  }
 ],
 "metadata": {
  "kernelspec": {
   "display_name": "Python 3",
   "language": "python",
   "name": "python3"
  },
  "language_info": {
   "codemirror_mode": {
    "name": "ipython",
    "version": 3
   },
   "file_extension": ".py",
   "mimetype": "text/x-python",
   "name": "python",
   "nbconvert_exporter": "python",
   "pygments_lexer": "ipython3",
   "version": "3.6.3"
  }
 },
 "nbformat": 4,
 "nbformat_minor": 2
}
