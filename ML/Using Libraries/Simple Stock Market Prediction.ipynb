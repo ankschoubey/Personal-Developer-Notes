{
 "cells": [
  {
   "cell_type": "code",
   "execution_count": 1,
   "metadata": {
    "collapsed": true
   },
   "outputs": [],
   "source": [
    "import pandas as pd\n",
    "import numpy as np\n",
    "from sklearn.svm import SVR\n",
    "import matplotlib.pyplot as graph"
   ]
  },
  {
   "cell_type": "code",
   "execution_count": 2,
   "metadata": {},
   "outputs": [
    {
     "name": "stdout",
     "output_type": "stream",
     "text": [
      "[[1], [2], [3], [4], [5], [8], [9], [10], [11], [12], [15], [16], [17], [18], [19], [22], [23], [24], [25], [29], [30], [31]]\n",
      "[2682, 2660, 2632, 2650, 2650, 2700, 2715, 2711, 2810, 2805, 2777, 2756, 2870, 2897, 2930, 2961, 3114, 3090, 3175, 3131, 3180, 3137]\n"
     ]
    }
   ],
   "source": [
    "data = pd.read_csv('stock.csv')\n",
    "\n",
    "dates = []\n",
    "\n",
    "for i in list(data['Date']):\n",
    "    dates.append([int(i.split('-')[0])])  # since SVR requires a 2D Matrix \n",
    "prices = []\n",
    "\n",
    "for i in list(data['Open Price']):\n",
    "    prices.append(int(i))\n",
    "\n",
    "print(dates,prices, sep='\\n')\n"
   ]
  },
  {
   "cell_type": "markdown",
   "metadata": {},
   "source": [
    "# SVR Parameters\n",
    "\n",
    "## C\n",
    "Controls the tradeoff between smoothness of a line and getting data points correct.\n",
    "\n",
    "Higher the value of C the more datapoints are correct but could lead to overfitting.\n",
    "\n",
    "## Gamma\n",
    "\n",
    "How much data points from far away influence the line\n",
    "\n",
    "low value = Far\n",
    "high value = Close\n",
    "\n",
    "## Degree\n",
    "\n",
    "Unknown"
   ]
  },
  {
   "cell_type": "code",
   "execution_count": 3,
   "metadata": {},
   "outputs": [
    {
     "data": {
      "text/plain": [
       "SVR(C=100.0, cache_size=200, coef0=0.0, degree=3, epsilon=0.1, gamma='auto',\n",
       "  kernel='linear', max_iter=-1, shrinking=True, tol=0.001, verbose=False)"
      ]
     },
     "execution_count": 3,
     "metadata": {},
     "output_type": "execute_result"
    }
   ],
   "source": [
    "svr_engine_lin = SVR(kernel = 'linear',C = 1e2)\n",
    "svr_engine_lin.fit(dates,prices)"
   ]
  },
  {
   "cell_type": "code",
   "execution_count": 13,
   "metadata": {},
   "outputs": [
    {
     "data": {
      "text/plain": [
       "SVR(C=1000.0, cache_size=200, coef0=0.0, degree=3, epsilon=0.1, gamma='auto',\n",
       "  kernel='rbf', max_iter=-1, shrinking=True, tol=0.001, verbose=False)"
      ]
     },
     "execution_count": 13,
     "metadata": {},
     "output_type": "execute_result"
    }
   ],
   "source": [
    "svr_engine_rbf = SVR(kernel = 'rbf',C = 1e3)\n",
    "svr_engine_rbf.fit(dates,prices)"
   ]
  },
  {
   "cell_type": "code",
   "execution_count": 6,
   "metadata": {},
   "outputs": [
    {
     "data": {
      "text/plain": [
       "SVR(C=1.0, cache_size=200, coef0=0.0, degree=3, epsilon=0.1, gamma='auto',\n",
       "  kernel='poly', max_iter=-1, shrinking=True, tol=0.001, verbose=False)"
      ]
     },
     "execution_count": 6,
     "metadata": {},
     "output_type": "execute_result"
    }
   ],
   "source": [
    "svr_engine_poly = SVR(kernel = 'poly')\n",
    "svr_engine_poly.fit(dates,prices)"
   ]
  },
  {
   "cell_type": "code",
   "execution_count": 14,
   "metadata": {},
   "outputs": [
    {
     "data": {
      "text/plain": [
       "[<matplotlib.lines.Line2D at 0x1a1fadda58>]"
      ]
     },
     "execution_count": 14,
     "metadata": {},
     "output_type": "execute_result"
    },
    {
     "data": {
      "image/png": "[encoded data removed]",
      "text/plain": [
       "<matplotlib.figure.Figure at 0x11a750668>"
      ]
     },
     "metadata": {},
     "output_type": "display_data"
    }
   ],
   "source": [
    "%matplotlib inline\n",
    "graph.scatter(dates,prices,color='Black', label='Data')\n",
    "graph.plot(dates, svr_engine_lin.predict(dates), color='Red', label='Linear Kernel')\n",
    "\n",
    "graph.plot(dates, svr_engine_rbf.predict(dates), color='Green', label='rbf Kernel')\n",
    "\n",
    "graph.plot(dates, svr_engine_poly.predict(dates), color='Blue', label='poly Kernel')"
   ]
  },
  {
   "cell_type": "code",
   "execution_count": 15,
   "metadata": {},
   "outputs": [],
   "source": [
    "def predict_with_3(linear, rbf,poly, value):\n",
    "    return linear.predict(value), rbf.predict(value),poly.predict(value)"
   ]
  },
  {
   "cell_type": "code",
   "execution_count": 18,
   "metadata": {},
   "outputs": [
    {
     "data": {
      "text/plain": [
       "(array([ 3172.94,  3191.62,  3210.3 ]),\n",
       " array([ 2946.72472616,  2872.08264838,  2868.33357958]),\n",
       " array([ 3252.96885174,  3306.18961971,  3362.73563616]))"
      ]
     },
     "execution_count": 18,
     "metadata": {},
     "output_type": "execute_result"
    }
   ],
   "source": [
    "predictions = predict_with_3(svr_engine_lin,svr_engine_rbf,svr_engine_poly,[[32],[33],[34]])\n",
    "predictions"
   ]
  },
  {
   "cell_type": "code",
   "execution_count": 12,
   "metadata": {
    "collapsed": true
   },
   "outputs": [],
   "source": [
    "actual = 3,124.00"
   ]
  },
  {
   "cell_type": "code",
   "execution_count": null,
   "metadata": {
    "collapsed": true
   },
   "outputs": [],
   "source": []
  }
 ],
 "metadata": {
  "kernelspec": {
   "display_name": "Python 3",
   "language": "python",
   "name": "python3"
  },
  "language_info": {
   "codemirror_mode": {
    "name": "ipython",
    "version": 3
   },
   "file_extension": ".py",
   "mimetype": "text/x-python",
   "name": "python",
   "nbconvert_exporter": "python",
   "pygments_lexer": "ipython3",
   "version": "3.6.4"
  }
 },
 "nbformat": 4,
 "nbformat_minor": 2
}
