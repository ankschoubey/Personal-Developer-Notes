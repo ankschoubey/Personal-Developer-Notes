{
 "cells": [
  {
   "cell_type": "markdown",
   "metadata": {},
   "source": [
    "## Top N Similar Items\n",
    "\n",
    "\n",
    "For a n*n matrix\n",
    "    find the similarity of first element with every other element\n",
    "\n",
    "Will results in first row being completely done \n",
    "and also first column of all other rows filled\n",
    "\n",
    "similarly repeat with remaining. Don't compute with what has already being done.\n",
    "\n",
    "While adding we can limit the number of similarity to top n by having simple conditions.\n"
   ]
  },
  {
   "cell_type": "code",
   "execution_count": 71,
   "metadata": {
    "collapsed": true
   },
   "outputs": [],
   "source": [
    "import concurrent.futures as parallel\n",
    "import functools\n",
    "from sklearn.metrics.pairwise import paired_cosine_distances\n",
    "from sklearn.metrics.pairwise import cosine_similarity as pairwise_cosine_similarity\n",
    "import numpy as np\n",
    "import time\n",
    "import sys\n",
    "from pprint import pprint"
   ]
  },
  {
   "cell_type": "code",
   "execution_count": 72,
   "metadata": {},
   "outputs": [],
   "source": [
    "def cosine_similarity(x,y):\n",
    "    return 1 - paired_cosine_distances(x,y)\n",
    "\n",
    "class Limited_Similarity:\n",
    "    \n",
    "    def __init__(self,matrix,limit=10):\n",
    "        self.matrix = matrix\n",
    "        self.limit = limit\n",
    "        self.no_rows = self.matrix.shape[0]\n",
    "\n",
    "        self.prepare_result_table() # location for storing results\n",
    "        self.perform() # Perform similarity\n",
    "    \n",
    "    def speed_cosine(self,i):\n",
    "        return cosine_similarity([self.matrix[self.primary_vector,:]],[self.matrix[i,:]])[0]\n",
    "    \n",
    "    def prepare_result_table(self):\n",
    "        self.result = {}\n",
    "        \n",
    "        for i in range(self.no_rows):\n",
    "            self.result[i] = []\n",
    "        # data will be stored in form of tuple (index, similarity) in list\n",
    "\n",
    "    \n",
    "    def index_of_insertion(self, index, value):\n",
    "        iterations = len(self.result[index])\n",
    "        for i in range(iterations):\n",
    "            if self.result[index][i][1] >= value:\n",
    "                continue\n",
    "            return i\n",
    "        return iterations\n",
    "    # find the location where we can put this\n",
    "    # the result is always sorted\n",
    "    \n",
    "    def put_output_in_results(self,index, result):\n",
    "        for i in range(len(result)):\n",
    "            j_index = i+index+1 # if row i is 0, other items will start at i + 1\n",
    "            #also\n",
    "            \n",
    "            index_to_insert_at = self.index_of_insertion(index, result[i])\n",
    "            \n",
    "            \n",
    "            # don't insert if it is beyond limit\n",
    "            if not index_to_insert_at >= self.limit:\n",
    "                self.result[index].insert(index_to_insert_at, (j_index, result[i])) # insert at correct place so that list remains sorted\n",
    "                \n",
    "                if len(self.result[index]) >= self.limit: # remove extra columns\n",
    "                    del self.result[index][-1]\n",
    "            \n",
    "            index_to_insert_at = self.index_of_insertion(j_index, result[i])\n",
    "        \n",
    "            if not index_to_insert_at > self.limit:\n",
    "                self.result[j_index].insert(index_to_insert_at, (index, result[i]))\n",
    "                if len(self.result[j_index]) > self.limit:\n",
    "                    del self.result[j_index][-1]\n",
    "    \n",
    "    def perform(self):\n",
    "        for i in range(self.no_rows):\n",
    "            self.primary_vector = i # select a vector which will be *** with other vecotrs\n",
    "            result = map(self.speed_cosine, [j for j in range(i+1,self.no_rows)]) # perform the operation\n",
    "            self.put_output_in_results(i, list(result))\n",
    "            #print(i,list(result))\n",
    "        "
   ]
  },
  {
   "cell_type": "code",
   "execution_count": 73,
   "metadata": {
    "collapsed": true
   },
   "outputs": [],
   "source": [
    "from numpy import random\n",
    "vector = random.randn(100,4)"
   ]
  },
  {
   "cell_type": "code",
   "execution_count": 74,
   "metadata": {},
   "outputs": [],
   "source": [
    "a = Limited_Similarity(vector,10)\n",
    "# 643 ms ± 49.6 ms per loop (mean ± std. dev. of 7 runs, 1 loop each)\n",
    "# pprint(a.result)"
   ]
  },
  {
   "cell_type": "code",
   "execution_count": 75,
   "metadata": {
    "scrolled": false
   },
   "outputs": [
    {
     "data": {
      "text/plain": [
       "4704"
      ]
     },
     "execution_count": 75,
     "metadata": {},
     "output_type": "execute_result"
    }
   ],
   "source": [
    "sys.getsizeof(a.result)"
   ]
  },
  {
   "cell_type": "code",
   "execution_count": null,
   "metadata": {},
   "outputs": [],
   "source": []
  },
  {
   "cell_type": "code",
   "execution_count": null,
   "metadata": {
    "collapsed": true
   },
   "outputs": [],
   "source": []
  },
  {
   "cell_type": "code",
   "execution_count": null,
   "metadata": {},
   "outputs": [],
   "source": []
  },
  {
   "cell_type": "code",
   "execution_count": null,
   "metadata": {
    "collapsed": true
   },
   "outputs": [],
   "source": []
  },
  {
   "cell_type": "code",
   "execution_count": null,
   "metadata": {
    "collapsed": true
   },
   "outputs": [],
   "source": []
  },
  {
   "cell_type": "code",
   "execution_count": 76,
   "metadata": {},
   "outputs": [
    {
     "name": "stdout",
     "output_type": "stream",
     "text": [
      "632 ms ± 42.6 ms per loop (mean ± std. dev. of 7 runs, 1 loop each)\n"
     ]
    }
   ],
   "source": [
    "%%timeit -n 1\n",
    "Limited_Similarity(vector,10)"
   ]
  },
  {
   "cell_type": "code",
   "execution_count": 77,
   "metadata": {},
   "outputs": [
    {
     "name": "stdout",
     "output_type": "stream",
     "text": [
      "250 µs ± 80.4 µs per loop (mean ± std. dev. of 7 runs, 1 loop each)\n"
     ]
    }
   ],
   "source": [
    "%%timeit -n 1\n",
    "b = pairwise_cosine_similarity(vector)"
   ]
  },
  {
   "cell_type": "code",
   "execution_count": 84,
   "metadata": {
    "scrolled": true
   },
   "outputs": [
    {
     "name": "stdout",
     "output_type": "stream",
     "text": [
      "912\n",
      "912\n",
      "912\n",
      "912\n",
      "912\n",
      "912\n",
      "912\n",
      "1.02 ms ± 212 µs per loop (mean ± std. dev. of 7 runs, 1 loop each)\n"
     ]
    }
   ],
   "source": [
    "%%timeit -n 1\n",
    "\n",
    "import sys\n",
    "\n",
    "def full_calculation_similarity(vector, limit):\n",
    "    b = pairwise_cosine_similarity(vector)\n",
    "\n",
    "    sorted_similarity = []\n",
    "    for i in range(b.shape[0]):\n",
    "        x = vector[i,:]\n",
    "        sorted_similarity.append(np.argsort(x))\n",
    "    return sorted_similarity\n",
    "\n",
    "b = full_calculation_similarity(vector, 10)\n",
    "print(sys.getsizeof(b))\n",
    "## print(b)"
   ]
  },
  {
   "cell_type": "code",
   "execution_count": 85,
   "metadata": {},
   "outputs": [
    {
     "data": {
      "text/plain": [
       "[array([1, 2, 3, 0]),\n",
       " array([2, 1, 0, 3]),\n",
       " array([3, 0, 2, 1]),\n",
       " array([2, 3, 1, 0]),\n",
       " array([1, 3, 0, 2]),\n",
       " array([3, 1, 0, 2]),\n",
       " array([3, 1, 2, 0]),\n",
       " array([3, 0, 1, 2]),\n",
       " array([1, 0, 2, 3]),\n",
       " array([1, 3, 2, 0]),\n",
       " array([0, 1, 3, 2]),\n",
       " array([2, 1, 0, 3]),\n",
       " array([1, 3, 0, 2]),\n",
       " array([2, 0, 3, 1]),\n",
       " array([1, 0, 2, 3]),\n",
       " array([1, 3, 0, 2]),\n",
       " array([0, 3, 1, 2]),\n",
       " array([2, 1, 3, 0]),\n",
       " array([1, 2, 0, 3]),\n",
       " array([0, 3, 1, 2]),\n",
       " array([1, 0, 2, 3]),\n",
       " array([1, 0, 2, 3]),\n",
       " array([2, 3, 1, 0]),\n",
       " array([1, 3, 2, 0]),\n",
       " array([3, 0, 1, 2]),\n",
       " array([0, 2, 3, 1]),\n",
       " array([3, 1, 2, 0]),\n",
       " array([0, 1, 3, 2]),\n",
       " array([3, 0, 2, 1]),\n",
       " array([3, 2, 1, 0]),\n",
       " array([1, 3, 2, 0]),\n",
       " array([0, 2, 3, 1]),\n",
       " array([1, 0, 2, 3]),\n",
       " array([2, 1, 3, 0]),\n",
       " array([0, 3, 1, 2]),\n",
       " array([2, 0, 3, 1]),\n",
       " array([2, 0, 3, 1]),\n",
       " array([1, 2, 3, 0]),\n",
       " array([3, 0, 1, 2]),\n",
       " array([1, 0, 2, 3]),\n",
       " array([2, 0, 3, 1]),\n",
       " array([1, 2, 0, 3]),\n",
       " array([3, 1, 0, 2]),\n",
       " array([1, 3, 2, 0]),\n",
       " array([3, 0, 1, 2]),\n",
       " array([1, 0, 2, 3]),\n",
       " array([1, 2, 3, 0]),\n",
       " array([0, 2, 3, 1]),\n",
       " array([0, 3, 1, 2]),\n",
       " array([3, 0, 2, 1]),\n",
       " array([3, 1, 0, 2]),\n",
       " array([2, 3, 0, 1]),\n",
       " array([3, 0, 1, 2]),\n",
       " array([0, 3, 2, 1]),\n",
       " array([3, 2, 1, 0]),\n",
       " array([3, 2, 0, 1]),\n",
       " array([2, 3, 1, 0]),\n",
       " array([3, 1, 2, 0]),\n",
       " array([0, 1, 3, 2]),\n",
       " array([0, 2, 3, 1]),\n",
       " array([3, 2, 0, 1]),\n",
       " array([2, 3, 0, 1]),\n",
       " array([1, 3, 0, 2]),\n",
       " array([2, 0, 1, 3]),\n",
       " array([1, 0, 2, 3]),\n",
       " array([1, 3, 2, 0]),\n",
       " array([3, 2, 1, 0]),\n",
       " array([2, 1, 3, 0]),\n",
       " array([1, 0, 2, 3]),\n",
       " array([1, 3, 0, 2]),\n",
       " array([1, 2, 0, 3]),\n",
       " array([0, 3, 2, 1]),\n",
       " array([2, 0, 3, 1]),\n",
       " array([0, 1, 2, 3]),\n",
       " array([2, 3, 1, 0]),\n",
       " array([1, 2, 0, 3]),\n",
       " array([0, 2, 1, 3]),\n",
       " array([1, 2, 3, 0]),\n",
       " array([1, 2, 0, 3]),\n",
       " array([1, 2, 3, 0]),\n",
       " array([1, 3, 2, 0]),\n",
       " array([2, 0, 1, 3]),\n",
       " array([3, 2, 0, 1]),\n",
       " array([0, 3, 1, 2]),\n",
       " array([0, 1, 3, 2]),\n",
       " array([3, 2, 1, 0]),\n",
       " array([2, 0, 1, 3]),\n",
       " array([2, 1, 0, 3]),\n",
       " array([3, 0, 2, 1]),\n",
       " array([1, 0, 3, 2]),\n",
       " array([0, 3, 1, 2]),\n",
       " array([2, 1, 0, 3]),\n",
       " array([0, 3, 1, 2]),\n",
       " array([0, 1, 3, 2]),\n",
       " array([2, 0, 1, 3]),\n",
       " array([3, 2, 0, 1]),\n",
       " array([0, 3, 1, 2]),\n",
       " array([0, 1, 3, 2]),\n",
       " array([3, 0, 1, 2]),\n",
       " array([0, 3, 1, 2])]"
      ]
     },
     "execution_count": 85,
     "metadata": {},
     "output_type": "execute_result"
    }
   ],
   "source": [
    "b"
   ]
  },
  {
   "cell_type": "markdown",
   "metadata": {
    "collapsed": true
   },
   "source": [
    "# Additional\n",
    "## Parallel Similarity Finding\n",
    "\n",
    "\n",
    "For a n*n matrix\n",
    "    find the similarity of first element with every other element\n",
    "\n",
    "Will results in first row being completely done \n",
    "and also first column of all other rows filled\n",
    "\n",
    "similarly repeat with remaining. Don't compute with what has already being done.\n",
    "\n",
    "While adding we can limit the number of similarity to top n by having simple conditions.\n",
    "\n",
    "Also, if we need to find\n",
    "\n",
    "[](https://wikimedia.org/api/rest_v1/media/math/render/svg/a71c4add4abded66efd42b202c76f6a59944a587)\n",
    "\n",
    "in cosine similarity we need to find the dot product between 2 arrays for numerator \n",
    "\n",
    "we need transpose of a vector and that can also be cached for each itteration\n",
    "\n",
    "norm for the vectors is a single number and can easily be cached aka @functools.lru_cache()\n"
   ]
  },
  {
   "cell_type": "code",
   "execution_count": null,
   "metadata": {
    "collapsed": true
   },
   "outputs": [],
   "source": []
  }
 ],
 "metadata": {
  "kernelspec": {
   "display_name": "Python 3",
   "language": "python",
   "name": "python3"
  },
  "language_info": {
   "codemirror_mode": {
    "name": "ipython",
    "version": 3
   },
   "file_extension": ".py",
   "mimetype": "text/x-python",
   "name": "python",
   "nbconvert_exporter": "python",
   "pygments_lexer": "ipython3",
   "version": "3.6.3"
  }
 },
 "nbformat": 4,
 "nbformat_minor": 2
}
