{
 "cells": [
  {
   "cell_type": "code",
   "execution_count": null,
   "metadata": {},
   "outputs": [],
   "source": [
    "aasd"
   ]
  },
  {
   "cell_type": "code",
   "execution_count": 3,
   "metadata": {},
   "outputs": [],
   "source": [
    "from pathlib import Path\n",
    "from IPython.core.debugger import set_trace\n",
    "from fastai import datasets\n",
    "import pickle, gzip, math, torch, matplotlib as mpl\n",
    "from matplotlib import pyplot as plt\n",
    "from torch import Tensor"
   ]
  },
  {
   "cell_type": "code",
   "execution_count": 28,
   "metadata": {},
   "outputs": [
    {
     "data": {
      "text/plain": [
       "(torch.Size([500, 1]), torch.Size([500, 784]))"
      ]
     },
     "execution_count": 28,
     "metadata": {},
     "output_type": "execute_result"
    }
   ],
   "source": [
    "x_train = torch.rand(500,784)\n",
    "y_train = torch.randint(1,10, (500,1))\n",
    "\n",
    "assert 500 == y_train.shape.numel()\n",
    "assert 500*784 == x_train.shape.numel()\n",
    "\n",
    "y_train.shape, x_train.shape"
   ]
  },
  {
   "cell_type": "code",
   "execution_count": 31,
   "metadata": {},
   "outputs": [
    {
     "data": {
      "text/plain": [
       "28.0"
      ]
     },
     "execution_count": 31,
     "metadata": {},
     "output_type": "execute_result"
    }
   ],
   "source": [
    "math.sqrt(784)"
   ]
  },
  {
   "cell_type": "code",
   "execution_count": 35,
   "metadata": {},
   "outputs": [
    {
     "data": {
      "text/plain": [
       "torch.Size([784])"
      ]
     },
     "execution_count": 35,
     "metadata": {},
     "output_type": "execute_result"
    }
   ],
   "source": [
    "sample = x_train[0]\n",
    "sample.shape"
   ]
  },
  {
   "cell_type": "code",
   "execution_count": 37,
   "metadata": {},
   "outputs": [
    {
     "data": {
      "text/plain": [
       "<matplotlib.image.AxesImage at 0x1a29e0b828>"
      ]
     },
     "execution_count": 37,
     "metadata": {},
     "output_type": "execute_result"
    },
    {
     "data": {
      "image/png": "[encoded data removed]",
      "text/plain": [
       "<Figure size 432x288 with 1 Axes>"
      ]
     },
     "metadata": {},
     "output_type": "display_data"
    }
   ],
   "source": [
    "plt.imshow(sample.view(28,28))"
   ]
  },
  {
   "cell_type": "code",
   "execution_count": null,
   "metadata": {},
   "outputs": [],
   "source": []
  },
  {
   "cell_type": "code",
   "execution_count": 46,
   "metadata": {},
   "outputs": [
    {
     "data": {
      "text/plain": [
       "torch.Size([5, 784])"
      ]
     },
     "execution_count": 46,
     "metadata": {},
     "output_type": "execute_result"
    }
   ],
   "source": [
    "sample = x_train[:5]\n",
    "sample.shape"
   ]
  },
  {
   "cell_type": "markdown",
   "metadata": {},
   "source": [
    "- [ ] Difference between randn and rand\n",
    "- [ ] Improvements to code completion in jupyter notebook\n",
    "- [ ] Variable explorer in jupter notebook\n",
    "- [ ] Checklist in Jupyter notebook"
   ]
  },
  {
   "cell_type": "code",
   "execution_count": 43,
   "metadata": {},
   "outputs": [
    {
     "data": {
      "text/plain": [
       "(torch.Size([784, 10]), torch.Size([10]))"
      ]
     },
     "execution_count": 43,
     "metadata": {},
     "output_type": "execute_result"
    }
   ],
   "source": [
    "weight = torch.randn(784,10) \n",
    "bias = torch.zeros(10)\n",
    "\n",
    "weight.shape, bias.shape"
   ]
  },
  {
   "cell_type": "code",
   "execution_count": 66,
   "metadata": {},
   "outputs": [],
   "source": [
    "def m_mul(a,b):\n",
    "    \n",
    "    ar, ac = a.shape\n",
    "    br, bc = b.shape\n",
    "    \n",
    "    assert ac == br\n",
    "    \n",
    "    c = torch.zeros(ar, bc)\n",
    "    \n",
    "    for i in range(ar):\n",
    "        for j in range(bc):\n",
    "            for k in range(br):\n",
    "                c[i,j] += a[i,k]*b[k,j]\n",
    "    return c\n",
    "    pass"
   ]
  },
  {
   "cell_type": "code",
   "execution_count": 79,
   "metadata": {},
   "outputs": [
    {
     "ename": "SyntaxError",
     "evalue": "invalid syntax (<ipython-input-79-1f158ab3b9a0>, line 12)",
     "output_type": "error",
     "traceback": [
      "\u001b[0;36m  File \u001b[0;32m\"<ipython-input-79-1f158ab3b9a0>\"\u001b[0;36m, line \u001b[0;32m12\u001b[0m\n\u001b[0;31m    c[i] = a[i] * b[,j]\u001b[0m\n\u001b[0m                    ^\u001b[0m\n\u001b[0;31mSyntaxError\u001b[0m\u001b[0;31m:\u001b[0m invalid syntax\n"
     ]
    }
   ],
   "source": [
    "def m_mul_e(a,b):\n",
    "    \n",
    "    ar, ac = a.shape\n",
    "    br, bc = b.shape\n",
    "    \n",
    "    assert ac == br\n",
    "    \n",
    "    c = torch.zeros(ar, bc)\n",
    "    \n",
    "    for i in range(ar):\n",
    "        for j in range(bc):\n",
    "            c[i] = a[i] * b[,j]\n",
    "            #for k in range(br):\n",
    "            #    c[i,j] += a[i,k]*b[k,j]\n",
    "    return c"
   ]
  },
  {
   "cell_type": "code",
   "execution_count": 80,
   "metadata": {},
   "outputs": [
    {
     "data": {
      "text/plain": [
       "(tensor([[-5.7388, -1.6160,  4.3748, -2.0879,  6.9524,  0.4190,  0.3093,  0.2270,\n",
       "          -0.1409,  3.3179],\n",
       "         [ 6.4844, -1.9751,  1.4737,  0.9662,  2.9436, -1.1411, -3.6760, -4.9119,\n",
       "           0.7471, -2.8415],\n",
       "         [-1.3513,  3.2374, -6.8823,  0.9843, -4.0096,  1.1139, -1.5144,  2.4781,\n",
       "           4.0170,  0.5043],\n",
       "         [-6.7108,  2.7235, -0.7019, -1.4830,  0.6043, -0.1577,  2.2136,  3.7440,\n",
       "           7.4066,  1.8633],\n",
       "         [ 2.8719,  2.2149, -4.4981,  0.1230, -0.9809, -0.1946, -5.2565, -1.8263,\n",
       "           5.2261, -1.4473],\n",
       "         [-2.8915, -0.2112,  3.5928, -3.3027,  5.3875,  1.1150, -0.2392, -0.4245,\n",
       "          -4.2039,  2.0110],\n",
       "         [-0.0785,  2.7936,  2.3416,  0.7047,  4.1591,  2.2848, -0.9510,  2.0846,\n",
       "           2.9548, -2.5471],\n",
       "         [ 4.0867,  0.3369, -2.3027,  7.7482, -1.5358,  2.1956,  3.4201,  3.8850,\n",
       "           2.5279,  1.0623],\n",
       "         [-3.8746,  0.1975, -4.0504, -0.1498, -5.5254,  0.0883,  0.9748,  3.3175,\n",
       "           2.6257,  2.3806],\n",
       "         [ 3.0425, -0.8640,  3.0306, -3.0488,  1.5971, -0.8285, -0.9516, -1.1621,\n",
       "           1.4171, -0.5423]]),\n",
       " tensor([[  1.4568,   0.8295,  -0.3917,   7.7577,   1.4928,   8.2329,  -1.1494,\n",
       "          -16.0215,  -3.8983,   5.4158],\n",
       "         [ -4.3762,   0.8441, -14.1040,   1.9444,  11.1191,  -1.7311,  28.1539,\n",
       "          -16.7306,  -0.2463,   2.2919],\n",
       "         [  1.1008,  -3.8829,  -2.0797,   8.8065,   0.4963, -13.2050,  12.9998,\n",
       "           -1.0019,  -0.3423,   6.5776],\n",
       "         [  2.9217,   1.9769,   5.6992,  11.1272, -14.5278,   0.8923,   5.7347,\n",
       "            5.1430,  33.5680,  -0.8685],\n",
       "         [ -4.9032,  -6.4129,   8.4946,  -3.9808,  -5.4933,  -0.9676,  15.8293,\n",
       "            5.3123,  -3.5980,   1.2369],\n",
       "         [  2.4217,  -1.7731,   2.0787,  13.9958,  -8.1455,   2.3159,  -1.8806,\n",
       "           -0.7570,  -0.1811,  -4.9413],\n",
       "         [ 23.2529, -16.5017, -10.7533,   0.8542,   2.3584,  14.9195,  -3.4339,\n",
       "           20.2819,   2.3139,  -1.0522],\n",
       "         [  7.7087,   1.2684,   0.0589,  -4.0913, -15.5274,  -0.7369,   6.7657,\n",
       "           -0.1114,  -4.3529, -25.5572],\n",
       "         [ -1.2605,   3.2422,   0.2910, -31.7778,  10.5656,  -2.3348,  -7.4147,\n",
       "           17.7849,   3.7020,  -7.8032],\n",
       "         [ -1.3690,   2.2962,  -8.6769, -20.7999,  -2.1515,   3.2315,  13.7870,\n",
       "            2.1210,   2.9181,  -6.7696]]))"
      ]
     },
     "execution_count": 80,
     "metadata": {},
     "output_type": "execute_result"
    }
   ],
   "source": [
    "a = torch.randn(10,10)\n",
    "b = torch.randn(10,10)\n",
    "c = m_mul(a,b)\n",
    "d = m_mul_e(a,b)\n",
    "c,d"
   ]
  },
  {
   "cell_type": "code",
   "execution_count": 69,
   "metadata": {},
   "outputs": [
    {
     "data": {
      "text/plain": [
       "tensor([[-8.5850, -0.0635,  6.7644, -2.8603, -5.4075, -8.0750,  2.9110, -0.2216,\n",
       "          2.2674, -5.7128],\n",
       "        [ 0.5925, -1.4341, -0.6967,  1.5382,  1.2484,  1.2400, -1.5640, -1.1559,\n",
       "          0.0391,  1.0026],\n",
       "        [-1.8844, -2.2805, -0.8745,  2.2967, -6.1313, -6.4311,  1.6456,  4.4807,\n",
       "         -1.3734,  5.0632],\n",
       "        [-1.2980,  0.2650, -1.4339,  1.0681, -2.2729,  1.2786,  1.3919, -1.0978,\n",
       "         -3.4175,  0.6266],\n",
       "        [-0.4136, -0.8745, -2.4164,  5.6964,  0.4079,  5.5798,  4.8778,  1.7129,\n",
       "          3.1991,  5.0222],\n",
       "        [-2.7951,  0.6913, -0.0815, -3.3757, -2.2212,  1.3871,  5.6221,  0.4904,\n",
       "          8.0937, -3.7014],\n",
       "        [ 1.2323, -2.7279, -1.0520,  2.6797,  3.4589,  1.5527, -2.0944,  1.9034,\n",
       "         -1.2080,  2.9148],\n",
       "        [ 0.5414,  3.4226,  0.3323,  0.7870,  2.1344, -0.1121, -5.3195, -0.3127,\n",
       "          0.3165, -3.6748],\n",
       "        [ 1.5214, -0.8151,  6.1737, -6.1393, -0.9604, -6.6639,  0.8477, -1.6193,\n",
       "          1.1107, -2.1979],\n",
       "        [-3.5160, -1.1326,  2.5841, -2.5653,  0.4292,  1.2163, -1.3141, -2.6637,\n",
       "          1.9959, -5.5928]])"
      ]
     },
     "execution_count": 69,
     "metadata": {},
     "output_type": "execute_result"
    }
   ],
   "source": [
    "a@b"
   ]
  },
  {
   "cell_type": "code",
   "execution_count": 60,
   "metadata": {},
   "outputs": [],
   "source": [
    "weight.transpose??"
   ]
  },
  {
   "cell_type": "code",
   "execution_count": null,
   "metadata": {},
   "outputs": [],
   "source": []
  }
 ],
 "metadata": {
  "kernelspec": {
   "display_name": "Python 3",
   "language": "python",
   "name": "python3"
  },
  "language_info": {
   "codemirror_mode": {
    "name": "ipython",
    "version": 3
   },
   "file_extension": ".py",
   "mimetype": "text/x-python",
   "name": "python",
   "nbconvert_exporter": "python",
   "pygments_lexer": "ipython3",
   "version": "3.6.8"
  },
  "toc": {
   "base_numbering": 1,
   "nav_menu": {},
   "number_sections": true,
   "sideBar": true,
   "skip_h1_title": false,
   "title_cell": "Table of Contents",
   "title_sidebar": "Contents",
   "toc_cell": false,
   "toc_position": {},
   "toc_section_display": true,
   "toc_window_display": false
  },
  "varInspector": {
   "cols": {
    "lenName": 16,
    "lenType": 16,
    "lenVar": 40
   },
   "kernels_config": {
    "python": {
     "delete_cmd_postfix": "",
     "delete_cmd_prefix": "del ",
     "library": "var_list.py",
     "varRefreshCmd": "print(var_dic_list())"
    },
    "r": {
     "delete_cmd_postfix": ") ",
     "delete_cmd_prefix": "rm(",
     "library": "var_list.r",
     "varRefreshCmd": "cat(var_dic_list()) "
    }
   },
   "types_to_exclude": [
    "module",
    "function",
    "builtin_function_or_method",
    "instance",
    "_Feature"
   ],
   "window_display": false
  }
 },
 "nbformat": 4,
 "nbformat_minor": 2
}
